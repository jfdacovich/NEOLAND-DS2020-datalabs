{
 "cells": [
  {
   "cell_type": "markdown",
   "metadata": {},
   "source": [
    "## Programación para Data Science"
   ]
  },
  {
   "cell_type": "markdown",
   "metadata": {},
   "source": [
    "### Ejercicios para practicar"
   ]
  },
  {
   "cell_type": "markdown",
   "metadata": {},
   "source": [
    "#### Ejercicio 1\n",
    "El siguiente ejercicio consiste en pasar un número en base 16 (hexadecimal, 0-9/A-F) a base 10 (decimal). Para hacerlo, debéis crear una función que dado un string que representa un número en hexadecimal, por ejemplo, AE3F, devuelva el número natural correspondiente. En este caso, el resultado sería 44607"
   ]
  },
  {
   "cell_type": "code",
   "execution_count": 66,
   "metadata": {},
   "outputs": [
    {
     "name": "stdout",
     "output_type": "stream",
     "text": [
      "44607\n",
      "4095\n",
      "291\n"
     ]
    }
   ],
   "source": [
    "\n",
    "# Importamos el string '0123456789abcdefABCDEF' que nos puede ser muy útil para comprobar el formato \n",
    "from string import hexdigits\n",
    "\n",
    "def hex_to_dec(numero_hexadecimal):\n",
    "    # Primero, comprobamos que el número que se pasa por parámetro es hexadecimal\n",
    "    if all(c in hexdigits for c in numero_hexadecimal):\n",
    "        # Definimos la base para realizar las operaciones\n",
    "        base = 16\n",
    "        numero_decimal = 0\n",
    "        \n",
    "        # Invertimos el número hexadecimal para que nos sea más fácil trabajar con los índices\n",
    "        numero_hexadecimal = numero_hexadecimal[::-1]\n",
    "        \n",
    "        for i in range(len(numero_hexadecimal)):\n",
    "            # Para cada carácter hexadecimal aplicamos la formula c * base ** i,\n",
    "            # donde c es la representación decimal del carácter y \n",
    "            # sumamos el resultado al resultado obtenido en la iteración anterior\n",
    "            numero_decimal += int(numero_hexadecimal[i], 16) * base**i\n",
    "            \n",
    "        return numero_decimal\n",
    "    else:\n",
    "        print('El número introducido no es hexadecimal')\n",
    "\n",
    "print(hex_to_dec('AE3F'))\n",
    "print(hex_to_dec('FFF'))\n",
    "print(hex_to_dec('123'))"
   ]
  },
  {
   "cell_type": "markdown",
   "metadata": {},
   "source": [
    "#### Ejercicio 2\n",
    "Las excepciones son errores detectados en tiempo de ejecución. Pueden y deben ser manejadas por el programador para minimizar el riesgo de que un determinado programa falle de forma no controlada. Escribid, en lenguaje Python, cómo generar y capturar la siguiente excepción: **ZeroDivisionError.**"
   ]
  },
  {
   "cell_type": "code",
   "execution_count": 2,
   "metadata": {},
   "outputs": [
    {
     "name": "stdout",
     "output_type": "stream",
     "text": [
      "division by zero\n"
     ]
    }
   ],
   "source": [
    "try:\n",
    "    print(7/0)\n",
    "except ZeroDivisionError:\n",
    "    print(\"division by zero\")"
   ]
  },
  {
   "cell_type": "markdown",
   "metadata": {},
   "source": [
    " \n",
    "#### <span style='background :yellow' > Dato </span>\n",
    "\n",
    "En Pyhon podemos utilizar el bloque try ... except para capturar excepciones. Primero se intentará ejecutar el código dentro del bloque try y si hay una excepción se buscará una instrucción except que capture dicha excepción. En caso de encontrarla se ejecutará el código dentro del bloque except."
   ]
  },
  {
   "cell_type": "markdown",
   "metadata": {},
   "source": [
    "#### Ejercicio 3\n",
    "Completad el código necesario para calcular el número de vocales y de consonantes respectivamente de un texto."
   ]
  },
  {
   "cell_type": "code",
   "execution_count": 2,
   "metadata": {},
   "outputs": [
    {
     "name": "stdout",
     "output_type": "stream",
     "text": [
      "Hola a todos!\n"
     ]
    }
   ],
   "source": [
    "texto = \"Hola a todos!\"\n",
    "print(texto)"
   ]
  },
  {
   "cell_type": "code",
   "execution_count": 3,
   "metadata": {},
   "outputs": [
    {
     "name": "stdout",
     "output_type": "stream",
     "text": [
      "Bienvenidos!\n"
     ]
    }
   ],
   "source": [
    "texto_2 = \"Bienvenidos!\"\n",
    "print(texto_2)"
   ]
  },
  {
   "cell_type": "code",
   "execution_count": 4,
   "metadata": {},
   "outputs": [],
   "source": [
    "def imprime(argumento):\n",
    "    nuevo = argumento + texto_2\n",
    "    print(nuevo)"
   ]
  },
  {
   "cell_type": "code",
   "execution_count": 5,
   "metadata": {},
   "outputs": [
    {
     "name": "stdout",
     "output_type": "stream",
     "text": [
      "Hola a todos!Bienvenidos!\n"
     ]
    }
   ],
   "source": [
    "imprime(texto)"
   ]
  },
  {
   "cell_type": "markdown",
   "metadata": {},
   "source": [
    "###### Pseudocódigo\n",
    "\n",
    "Dado un texto con n palabras la operación tiene que contar vocales y consonantes\n",
    "\n",
    "SI en el texto existe una vocal IF: num_vocales +1 ELSE desde (A AND la Z) OR (ç AND ñ): num_consonantes +1"
   ]
  },
  {
   "cell_type": "code",
   "execution_count": 67,
   "metadata": {},
   "outputs": [
    {
     "name": "stdout",
     "output_type": "stream",
     "text": [
      "El número de vocales es de 44\n",
      "El número de consonantes es de 62\n"
     ]
    }
   ],
   "source": [
    "def contar_vocales_y_consonantes(texto):\n",
    "    # Cuenta las vocales contenidas en el string texto y también las consonantes.\n",
    "    num_vocales = 0\n",
    "    num_consonantes = 0\n",
    "    \n",
    "    # Definimos una lista con las vocales\n",
    "    vocales = ['a', 'e', 'i', 'o', 'u']\n",
    "    \n",
    "    for c in texto.lower(): # Podemos convertir el texto a minúsculas para simplificar los cálculos\n",
    "        if c in vocales:\n",
    "            num_vocales += 1\n",
    "        elif c > 'a' and c <= 'z':\n",
    "            num_consonantes += 1\n",
    "    \n",
    "    return num_vocales, num_consonantes\n",
    "\n",
    "texto = \"Orbiting Earth in the spaceship, I saw how beautiful our planet is. \\\n",
    "            People, let us preserve and increase this beauty, not destroy it!\"\n",
    "\n",
    "num_vocales, num_consonantes = contar_vocales_y_consonantes(texto)\n",
    "print (\"El número de vocales es de %d\" % num_vocales)\n",
    "print (\"El número de consonantes es de %d\" % num_consonantes)"
   ]
  },
  {
   "cell_type": "markdown",
   "metadata": {},
   "source": [
    "### Ejercicios y preguntas teóricas\n",
    "A continuación encontraréis los ejercicios y preguntas teóricas que debéis completar en este módulo intro-101 y que forman parte de la evaluación de esta unidad."
   ]
  },
  {
   "cell_type": "markdown",
   "metadata": {},
   "source": [
    "#### Pregunta 1\n",
    "Las funciones range y xrange pueden utilizarse con la misma finalidad, pero su funcionamiento es diferente. Poned un ejemplo donde sería recomendable intercambiar la función range por la función xrange.\n",
    "\n",
    "#### Respuesta:\n",
    "\n",
    "Escribid vuestra respuesta aquí"
   ]
  },
  {
   "cell_type": "markdown",
   "metadata": {},
   "source": [
    "**R)** En primer lugar, es importante destacar que en python 3 la funcion *xrange* se encuentra incluida en la funcion *range*.\n",
    "\n",
    "Ambas funciones tenian diferentes caracteristicas, relacionadas por ejemplo con el rendimiento, el consumo de memoria, velocidad. A pesar de esto, a nivel operativo funcionaban de manera similar ofreciendo una forma de producir listas.\n",
    "\n",
    "La principal diferencia que encontramos entre ellas, es que en range() devuelve un objeto de tipo lista y xrange() proporciona los elementos como un objeto.\n",
    "\n",
    "Por ejemplo para la siguiente expresion: range(1,100) la misma produciria 99 numeros enteros y los obtendria todos a la vez, a diferencia de xrange() que al proporcionar el resultado, generara un objeto en la memoria y al ejecutar, lo hace por paso, es decir un elemento en cada oportunidad."
   ]
  },
  {
   "cell_type": "markdown",
   "metadata": {},
   "source": [
    "#### Pregunta 2\n",
    "\n",
    "a) Explicad brevemente cada línea de código del siguiente bloque (añadid comentarios en el mismo bloque de código):"
   ]
  },
  {
   "cell_type": "code",
   "execution_count": 3,
   "metadata": {
    "scrolled": true
   },
   "outputs": [
    {
     "name": "stdout",
     "output_type": "stream",
     "text": [
      "Primera iteración: número generado = 0\n",
      "Primera iteración: número generado = 1\n",
      "Primera iteración: número generado = 2\n",
      "Primera iteración: número generado = 3\n",
      "Primera iteración: número generado = 4\n",
      "Primera iteración: número generado = 5\n",
      "Primera iteración: número generado = 6\n",
      "Primera iteración: número generado = 7\n",
      "Primera iteración: número generado = 8\n",
      "Primera iteración: número generado = 9\n"
     ]
    }
   ],
   "source": [
    "def create_generator(): #Definimos la funcion\n",
    "    for i in range(10): #sera recorrida por un bucle for, en esta oportunidad en un rango que irá del numero 0 al 9\n",
    "        yield i # la funcion yield construira un objeto iterable\n",
    "        \n",
    "num_generator = create_generator() # almaceno en esa variable objeto, el objeto iterable.\n",
    "for i in num_generator: # recorreremos con un bucle for y ejecturara la impresion de cada numero en pantalla\n",
    "    print(\"Primera iteración: número generado =\", i)\n",
    "    \n",
    "for j in num_generator:\n",
    "    print(\"Segunda iteración: número generado =\", j)"
   ]
  },
  {
   "cell_type": "markdown",
   "metadata": {},
   "source": [
    "\n",
    "b) Explicad brevemente la salida por pantalla que observamos al ejecutar el código anterior.\n",
    "\n",
    "#### Respuesta"
   ]
  },
  {
   "cell_type": "markdown",
   "metadata": {},
   "source": [
    "Estamos obteniendo en pantalla el resultado de haber aplicado un bucle for sobre nuestra funcion \"create_generator\", lo objetos iterables se van almacenando e imprimiendo con la funcion print; el segundo bloque de codigo no llega a ejecutarse ya que tendriamos que almacenar en una variable el objeto iterador y hacer la llamada a la funcion para que realizara la impresion de la \"segunda iteracion\"."
   ]
  },
  {
   "cell_type": "markdown",
   "metadata": {},
   "source": [
    "#### Ejercicio 1\n",
    "\n",
    "Escribid una función que dada una lista de planetas del sistema solar, pregunte al usuario que introduzca una posición y muestre el planeta correspondiente a dicha posición. Por ejemplo, si tenemos la siguiente lista: ['Mercurio', 'Venus', 'Tierra', 'Marte'] y el usuario nos ha introducido la posición 3, hemos de mostrar como resultado por pantalla: Tierra.\n",
    "\n",
    "Consideraciones:\n",
    "\n",
    " - La posición que introduzca el usuario tiene que ser un número entero estrictamente positivo.\n",
    " - La función debe controlar el acceso a una posición fuera de la lista mediante una excepción. Por ejemplo, en el caso anterior debemos mostrar una mensaje de error si el usuario pide acceder a la posición 10."
   ]
  },
  {
   "cell_type": "code",
   "execution_count": 5,
   "metadata": {},
   "outputs": [
    {
     "data": {
      "text/plain": [
       "['Mercurio', 'Venus', 'Tierra', 'Marte']"
      ]
     },
     "execution_count": 5,
     "metadata": {},
     "output_type": "execute_result"
    }
   ],
   "source": [
    "planetas = ['Mercurio', 'Venus', 'Tierra', 'Marte']\n",
    "planetas"
   ]
  },
  {
   "cell_type": "code",
   "execution_count": 6,
   "metadata": {},
   "outputs": [
    {
     "data": {
      "text/plain": [
       "list"
      ]
     },
     "execution_count": 6,
     "metadata": {},
     "output_type": "execute_result"
    }
   ],
   "source": [
    "type(planetas)"
   ]
  },
  {
   "cell_type": "code",
   "execution_count": 7,
   "metadata": {},
   "outputs": [
    {
     "data": {
      "text/plain": [
       "4"
      ]
     },
     "execution_count": 7,
     "metadata": {},
     "output_type": "execute_result"
    }
   ],
   "source": [
    "len (planetas)"
   ]
  },
  {
   "cell_type": "code",
   "execution_count": 8,
   "metadata": {},
   "outputs": [
    {
     "data": {
      "text/plain": [
       "'Mercurio'"
      ]
     },
     "execution_count": 8,
     "metadata": {},
     "output_type": "execute_result"
    }
   ],
   "source": [
    "planetas[0]"
   ]
  },
  {
   "cell_type": "code",
   "execution_count": 9,
   "metadata": {},
   "outputs": [
    {
     "data": {
      "text/plain": [
       "'Venus'"
      ]
     },
     "execution_count": 9,
     "metadata": {},
     "output_type": "execute_result"
    }
   ],
   "source": [
    "planetas[1]"
   ]
  },
  {
   "cell_type": "code",
   "execution_count": 10,
   "metadata": {},
   "outputs": [
    {
     "name": "stdout",
     "output_type": "stream",
     "text": [
      "Mercurio\n",
      "Venus\n",
      "Tierra\n",
      "Marte\n"
     ]
    }
   ],
   "source": [
    "for planeta in planetas:\n",
    "    print(planeta)"
   ]
  },
  {
   "cell_type": "code",
   "execution_count": 11,
   "metadata": {},
   "outputs": [
    {
     "name": "stdout",
     "output_type": "stream",
     "text": [
      "0 Mercurio\n",
      "1 Venus\n",
      "2 Tierra\n",
      "3 Marte\n"
     ]
    }
   ],
   "source": [
    "for i, planeta in enumerate (planetas):\n",
    "    print(i, planeta)"
   ]
  },
  {
   "cell_type": "code",
   "execution_count": 46,
   "metadata": {},
   "outputs": [
    {
     "name": "stdout",
     "output_type": "stream",
     "text": [
      "Indicador de posiciones de planetas: \n",
      "Indique por favor un numero del 1 al 4 para observar el planeta que le corresponde: 4\n"
     ]
    },
    {
     "data": {
      "text/plain": [
       "'Marte'"
      ]
     },
     "execution_count": 46,
     "metadata": {},
     "output_type": "execute_result"
    }
   ],
   "source": [
    "print(\"Indicador de posiciones de planetas: \")\n",
    "def posicion_planetas():\n",
    "    posicion = int(input(\"Indique por favor un numero del 1 al 4 para observar el planeta que le corresponde: \"))\n",
    "    lista_planetas = ['Mercurio', 'Venus', 'Tierra', 'Marte']\n",
    "#Consideraciones:    \n",
    "#La posición que introduzca el usuario tiene que ser un número entero estrictamente positivo.\n",
    "    while 0 > posicion: #aqui controlariamos la entrada de un numero negativo\n",
    "        posicion = int(input(\"Recuerde introducir un numero del 1 al 4\"))\n",
    "#Si el usuario pide acceder a la posición 10 debemos mostrar un mensaje de error      \n",
    "    try:\n",
    "        return lista_planetas[posicion-1]\n",
    "    except IndexError:\n",
    "        print(\"Recuerda introducir los valores indicados, que van d 1 a 4 \")\n",
    "#hacemos la llamada        \n",
    "posicion_planetas()"
   ]
  },
  {
   "cell_type": "markdown",
   "metadata": {},
   "source": [
    "#### Ejercicio 2\n",
    "Dada una lista de planetas del sistema solar, determinad cuales de estos planetas tienen una masa superior a la de la Tierra. Por ejemplo, si la lista inicial es ['Venus', 'Marte', 'Saturno'], el resultado que mostraríamos por pantalla sería ['Saturno'] ya que el planeta Saturno tiene una masa 95.2 veces superior a la Tierra.\n",
    "\n",
    "Consideraciones:\n",
    "\n",
    "Debéis tener en cuenta que el nombre de los planetas que nos pasan por parámetro puede estar en minúsculas, mayúsculas o una combinación de ambas.\n",
    "Podéis asumir que no habrá acentos en el nombre de los planetas.\n",
    "Debéis determinar aquellos planetas que tiene una massa estrictamente superior a la de la Tierra.\n",
    "No habrá planetas repetidos en la lista que nos pasan por parámetro."
   ]
  },
  {
   "cell_type": "code",
   "execution_count": 13,
   "metadata": {},
   "outputs": [],
   "source": [
    "masas = {'Mercurio': 0.06, 'Venus': 0.82, 'Tierra': 1, 'Marte': 0.11, 'Jupiter': 317.8, \n",
    "          'Saturno': 95.2, 'Urano': 14.6, 'Neptuno': 17.2, 'Pluto': 0.0022}"
   ]
  },
  {
   "cell_type": "code",
   "execution_count": 14,
   "metadata": {},
   "outputs": [
    {
     "data": {
      "text/plain": [
       "dict"
      ]
     },
     "execution_count": 14,
     "metadata": {},
     "output_type": "execute_result"
    }
   ],
   "source": [
    "type(masas)"
   ]
  },
  {
   "cell_type": "code",
   "execution_count": 15,
   "metadata": {},
   "outputs": [
    {
     "data": {
      "text/plain": [
       "9"
      ]
     },
     "execution_count": 15,
     "metadata": {},
     "output_type": "execute_result"
    }
   ],
   "source": [
    "len(masas)"
   ]
  },
  {
   "cell_type": "code",
   "execution_count": 16,
   "metadata": {},
   "outputs": [
    {
     "ename": "KeyError",
     "evalue": "0",
     "output_type": "error",
     "traceback": [
      "\u001b[0;31m---------------------------------------------------------------------------\u001b[0m",
      "\u001b[0;31mKeyError\u001b[0m                                  Traceback (most recent call last)",
      "\u001b[0;32m<ipython-input-16-66c629b6384e>\u001b[0m in \u001b[0;36m<module>\u001b[0;34m\u001b[0m\n\u001b[1;32m      1\u001b[0m \u001b[0;31m# Llamar el primer elemento del diccionario\u001b[0m\u001b[0;34m\u001b[0m\u001b[0;34m\u001b[0m\u001b[0;34m\u001b[0m\u001b[0m\n\u001b[0;32m----> 2\u001b[0;31m \u001b[0mmasas\u001b[0m\u001b[0;34m[\u001b[0m\u001b[0;36m0\u001b[0m\u001b[0;34m]\u001b[0m\u001b[0;34m\u001b[0m\u001b[0;34m\u001b[0m\u001b[0m\n\u001b[0m",
      "\u001b[0;31mKeyError\u001b[0m: 0"
     ]
    }
   ],
   "source": [
    "# Llamar el primer elemento del diccionario\n",
    "masas[0]"
   ]
  },
  {
   "cell_type": "code",
   "execution_count": 19,
   "metadata": {},
   "outputs": [
    {
     "data": {
      "text/plain": [
       "dict_keys(['Mercurio', 'Venus', 'Tierra', 'Marte', 'Jupiter', 'Saturno', 'Urano', 'Neptuno', 'Pluto'])"
      ]
     },
     "execution_count": 19,
     "metadata": {},
     "output_type": "execute_result"
    }
   ],
   "source": [
    "masas.keys()"
   ]
  },
  {
   "cell_type": "code",
   "execution_count": 20,
   "metadata": {},
   "outputs": [
    {
     "data": {
      "text/plain": [
       "dict_values([0.06, 0.82, 1, 0.11, 317.8, 95.2, 14.6, 17.2, 0.0022])"
      ]
     },
     "execution_count": 20,
     "metadata": {},
     "output_type": "execute_result"
    }
   ],
   "source": [
    "masas.values()"
   ]
  },
  {
   "cell_type": "code",
   "execution_count": 21,
   "metadata": {},
   "outputs": [
    {
     "data": {
      "text/plain": [
       "17.2"
      ]
     },
     "execution_count": 21,
     "metadata": {},
     "output_type": "execute_result"
    }
   ],
   "source": [
    "masas['Neptuno']"
   ]
  },
  {
   "cell_type": "code",
   "execution_count": 57,
   "metadata": {},
   "outputs": [
    {
     "name": "stdout",
     "output_type": "stream",
     "text": [
      "[]\n",
      "['Jupiter', 'Saturno']\n",
      "['Urano', 'Neptuno']\n",
      "['Saturno']\n",
      "['Neptuno', 'Urano']\n"
     ]
    }
   ],
   "source": [
    "# Masas medidas con respecto a la Tierra\n",
    "# Es decir, un valor de 14.6 representaria una masa 14.6 veces superior a la de la Tierra\n",
    "masas = {'Mercurio': 0.06, 'Venus': 0.82, 'Tierra': 1, 'Marte': 0.11, 'Jupiter': 317.8, \n",
    "          'Saturno': 95.2, 'Urano': 14.6, 'Neptuno': 17.2, 'Pluto': 0.0022}\n",
    "\n",
    "def planetas_mas_grandes_que_Tierra(planetas):\n",
    "    \"\"\"\n",
    "    Planetas con una masa superior a la de la Tierra\n",
    "    \"\"\"\n",
    "    planetas_masa_superior = []\n",
    "    for planeta in planetas:\n",
    "        if masas[planeta.capitalize()] > masas[\"Tierra\"]:\n",
    "            planetas_masa_superior.append(planeta.capitalize())\n",
    "    return planetas_masa_superior\n",
    "\n",
    "# Ejemplos de uso de la función anterior\n",
    "print(planetas_mas_grandes_que_Tierra(['Venus', 'Mercurio', 'Marte']))\n",
    "print(planetas_mas_grandes_que_Tierra(['Jupiter', 'Saturno', 'Pluto']))\n",
    "print(planetas_mas_grandes_que_Tierra(['urano', 'tierra', 'neptuno', 'marte', 'Venus']))\n",
    "print(planetas_mas_grandes_que_Tierra(['Tierra', 'MeRcUrIo', 'PLUTO', 'SATURNO']))\n",
    "#ejemplo\n",
    "print(planetas_mas_grandes_que_Tierra(['Tierra','nepTuno','plUTO','uRANO']))\n",
    "\n",
    "# Podéis añadir más ejemplos si lo consideráis oportuno"
   ]
  },
  {
   "cell_type": "markdown",
   "metadata": {},
   "source": [
    "#### Ejercicio 3\n",
    "Completad las siguientes funciones y documentad el código si lo consideráis oportuno. Finalmente, escribid al menos un ejemplo de uso para cada función.\n",
    "\n",
    "#### Ejercicio 4\n",
    "Escribid una función que dado un número entero positivo, N, genere un fichero con el nombre output.txt que contendrá N líneas, donde cada línea deberá mostrar una número consecutivo de letras A.\n",
    "\n",
    "Por ejemplo, si N = 4, el fichero generado deberá contener el siguiente contenido:\n",
    "\n",
    "A\n",
    "AA\n",
    "AAA\n",
    "AAAA"
   ]
  },
  {
   "cell_type": "code",
   "execution_count": 70,
   "metadata": {},
   "outputs": [
    {
     "name": "stdout",
     "output_type": "stream",
     "text": [
      "\n",
      "\n",
      "A\n",
      "\n",
      "AA\n",
      "\n",
      "AAA\n",
      "\n",
      "AAAA\n",
      "\n",
      "AAAAA\n",
      "\n",
      "\n"
     ]
    }
   ],
   "source": [
    "import os\n",
    "\n",
    "def gen_fichero (N):\n",
    "    out = open(\"output.txt\", \"w\")\n",
    "    \n",
    "    for i in range (N+1):\n",
    "        out.write(i*\"A\"+\"\\n\")\n",
    "    out.close()\n",
    "    \n",
    "gen_fichero(5)\n",
    "\n",
    "# ahora leeremos el fichero:\n",
    "\n",
    "f = open(\"output.txt\")\n",
    "lines = f.readlines()\n",
    "for line in lines:\n",
    "    print (line,)\n",
    "f.close()\n",
    "print()"
   ]
  },
  {
   "cell_type": "markdown",
   "metadata": {},
   "source": [
    "#### Ejercicio 5\n",
    "Dada una cadena de caracteres, s, de longitud n y un número entero positivo k, siendo k un divisor de n, podemos dividir la cadena s en n / k sub-cadenas de la misma longitud.\n",
    "\n",
    "Escribid una función que, dada una cadena s y un número entero k, devuelva las n/k sub-cadenas teniendo en cuenta las siguientes consideraciones:\n",
    "\n",
    "El orden de los caracteres en las sub-cadenas debe ser el mismo que en la cadena original.\n",
    "Todos los caracteres de las sub-cadenas deben aparecer una única vez. Es decir, si un caracter se repite dentro de una sub-cadena, sólo hemos de mostrar la primera ocurrencia.\n",
    "Por ejemplo, si tenemmos \n",
    "s = AABCCAADA\n",
    "k = 3\n",
    "\n",
    "el resultado a mostrar por pantalla sería: \n",
    "AB\n",
    "CA\n",
    "AD\n",
    "\n",
    "Tenemos que la longitud de la cadena es 9 y por lo tanto, podemos formar 3 sub-cadenas:\n",
    "\n",
    "AAB -> AB (el caracter A se repite dos veces)\n",
    "\n",
    "CCA -> CA (el caracter C se repite dos veces)\n",
    "\n",
    "ADA -> AD (el caracter A se repite dos veces)"
   ]
  },
  {
   "cell_type": "code",
   "execution_count": 29,
   "metadata": {},
   "outputs": [
    {
     "name": "stdout",
     "output_type": "stream",
     "text": [
      "AAB\n",
      "ABC\n",
      "BCC\n",
      "CCA\n",
      "CAA\n",
      "AAD\n",
      "ADA\n"
     ]
    }
   ],
   "source": [
    "# PRUEBA separacion\n",
    "# asignacion variables\n",
    "s = \"AABCCAADA\"\n",
    "k = 3\n",
    "result_3 = []\n",
    "#intencion dividir la cadena \"s\" en n/k sub cadenas (deben tener la misma longitud).\n",
    "while (k <= len(s)):\n",
    "    for i in range(len(s)):\n",
    "        if s[i:k+i] not in result_3 and len(s[i:k+i]) == 3:\n",
    "            result_3.append(s[i:k+i])\n",
    "    k+=1\n",
    "for i in result_3:\n",
    "    print(i) \n",
    "#Me esta imprimiendo las posibles combinaciones de 3 en 3 dentro de (s).(Intentar mejorarlo y eliminar letras repetidas) )"
   ]
  },
  {
   "cell_type": "code",
   "execution_count": 31,
   "metadata": {},
   "outputs": [
    {
     "data": {
      "text/plain": [
       "['AB', 'CA', 'AD']"
      ]
     },
     "execution_count": 31,
     "metadata": {},
     "output_type": "execute_result"
    }
   ],
   "source": [
    "# Aplicacion Funcion:\n",
    "def dividiendo_s (s, k):\n",
    "    sub_s = int(len(s)/k) #numero de cadenas que quiero que aparezcan\n",
    "    resultado_3 = [] \n",
    "    for i in range (sub_s):\n",
    "        #mini_string = s[i:k+i] no funciona correctamente me da AB, ABC, BC\n",
    "        mini_string = s[(i)*k:(i+1)*k]\n",
    "        resultado_3.append(mini_string)\n",
    "    \n",
    "    resultado_limpio = [] \n",
    "    \n",
    "    from collections import OrderedDict\n",
    "    \n",
    "    for mini_string in resultado_3:\n",
    "        limpieza = \"\".join(OrderedDict.fromkeys(mini_string))\n",
    "        resultado_limpio.append(limpieza)\n",
    "    return resultado_limpio\n",
    "\n",
    "dividiendo_s (s,3)"
   ]
  }
 ],
 "metadata": {
  "kernelspec": {
   "display_name": "Python 3",
   "language": "python",
   "name": "python3"
  },
  "language_info": {
   "codemirror_mode": {
    "name": "ipython",
    "version": 3
   },
   "file_extension": ".py",
   "mimetype": "text/x-python",
   "name": "python",
   "nbconvert_exporter": "python",
   "pygments_lexer": "ipython3",
   "version": "3.7.6"
  }
 },
 "nbformat": 4,
 "nbformat_minor": 4
}
