{
 "cells": [
  {
   "cell_type": "markdown",
   "metadata": {},
   "source": [
    "## Programación para Data Science\n",
    "#### Intro101 - 05.1: Conceptos avanzados de Python\n",
    "En este Notebook encontraréis dos conjuntos de ejercicios: un primer conjunto de ejercicios para practicar y que no puntuan, pero que recomendamos intentar resolver y un segundo conjunto que evaluaremos como actividad.\n",
    "\n",
    "Además, veréis que todas las actividades tienen una etiqueta que indica los recursos necesarios para llevarla a cabo. Hay tres posibles etiquetas:\n",
    "\n",
    "*NM Sólo materiales*: las herramientas necesarias para realizar la actividad se pueden encontrar en los materiales de la asignatura.\n",
    "\n",
    "*EG Consulta externa guiada*: la actividad puede requerir hacer uso de herramientas que no se encuentran en los materiales de la asignatura, pero el enunciado contiene indicaciones de dónde o cómo encontrar la información adicional necesaria para resolver la actividad.\n",
    "\n",
    "*EI Consulta externa independente*: la actividad puede requerir hacer uso de herramientas que no se encuentran en los materiales de la asignatura, y el enunciado puede no incluir la descripción de dónde o cómo encontrar esta información adicional. Será necesario que el estudiante busque esta información utilizando los recursos que se han explicado en la asignatura.\n",
    "\n",
    "Es importante notar que estas etiquetas no indican el nivel de dificultad del ejercicio, sino únicamente la necesidad de consulta de documentación externa para su resolución. Además, recordad que las etiquetas son informativas, pero podréis consultar referencias externas en cualquier momento (aunque no se indique explícitamente) o puede ser que podáis hacer una actividad sin consultar ningún tipo de documentación. Por ejemplo, para resolver una actividad que sólo requiera los materiales de la asignatura, puedéis consultar referencias externas si queréis, ya sea tanto para ayudaros en la resolución como para ampliar el conocimiento!\n",
    "\n",
    "#### Ejercicios y preguntas teóricas para la actividad\n",
    "A continuación, encontraréis los ejercicios y preguntas teóricas que debéis completar en esta actividad y que forman parte de la evaluación de esta unidad.\n",
    "\n",
    "#### Ejercicio 1\n",
    "Un número primo es aquél que solo es divisible por él mismo y por 1.\n",
    "\n",
    "a) Escribe un código que compruebe si un número x = 15 es solo divisible por 1 o por el mismo. Escribe este código usando un iterador (un for o un while) que barra todos los valores desde 2 a x-1. Crea una variable divisible que tenga por defecto valor False y asigne el valor True si a lo largo de la iteración encuentra un número natural divisible. Puedes usar el operador modulo a % b para saber si un numero b es divisible por a.\n",
    "\n",
    "NM"
   ]
  },
  {
   "cell_type": "code",
   "execution_count": 1,
   "metadata": {},
   "outputs": [
    {
     "data": {
      "text/plain": [
       "False"
      ]
     },
     "execution_count": 1,
     "metadata": {},
     "output_type": "execute_result"
    }
   ],
   "source": [
    "divisible = False\n",
    "def comprobacion_primo(num):\n",
    "    for i in range(2, num-1):\n",
    "        if num % i == 0:\n",
    "            return False\n",
    "    return True\n",
    "comprobacion_primo(15)"
   ]
  },
  {
   "cell_type": "markdown",
   "metadata": {},
   "source": [
    "b) Convierte tu código anterior en una función que compruebe si el número del argumento es primo o no, devolviendo True is es primo y False si no es primo. Comprueba tu función con los valores 492366587, 492366585, 48947 y 2,\n",
    "\n",
    "NM"
   ]
  },
  {
   "cell_type": "code",
   "execution_count": 3,
   "metadata": {},
   "outputs": [
    {
     "data": {
      "text/plain": [
       "True"
      ]
     },
     "execution_count": 3,
     "metadata": {},
     "output_type": "execute_result"
    }
   ],
   "source": [
    "divisible = False\n",
    "def comprobacion_primo(num):\n",
    "    for i in range(2, num-1):\n",
    "        if num % i == 0:\n",
    "            return False\n",
    "    return True\n",
    "comprobacion_primo(48947)\n",
    "# tengo problemas para comprobar los dos primeros valores "
   ]
  },
  {
   "cell_type": "markdown",
   "metadata": {},
   "source": [
    "c) En el cálculo de la función anterior, una vez se ha encontrado un número que es divisible dentro del rango ya no tiene sentido comprobar el resto de números del rango. Por ejemplo si 10 ya es divisble entre 2, ya no hace falta probar de 3 en adelante pues ya sabemos que el número no es primo.\n",
    "\n",
    "Modifica la función anterior de la siguiente forma:\n",
    "\n",
    "Una vez se encuentra el divisor, la iteración se interrumpe para no probar el resto de enteros.\n",
    "La función devuelve\n",
    "Si es primo: True\n",
    "Si no es primo, el primer divisor mayor que 1.\n",
    "Puedes hacer uso del comando break dentro de un bucle para interrumpir este, puedes consultar más información sobre break en la documentación de python aquí.\n",
    "\n",
    "Comprueba tu función con los valores 492366585, 492366587, 48947 y 2,\n",
    "\n",
    "NM"
   ]
  },
  {
   "cell_type": "code",
   "execution_count": 4,
   "metadata": {},
   "outputs": [
    {
     "data": {
      "text/plain": [
       "False"
      ]
     },
     "execution_count": 4,
     "metadata": {},
     "output_type": "execute_result"
    }
   ],
   "source": [
    "# he colocado el mismo codigo porque no entiendo bien que es lo que se requiere \n",
    "# Por ejemplo con el numero 6\n",
    "divisible = False # a la variable divisible se le asigna False\n",
    "def comprobacion_primo(num): # el numero 6 entra en la funcion de comprobacion\n",
    "    for i in range(2, num-1): # comienza el recorrido del for tomando i el valor 2\n",
    "        if num % i == 0: # si 6 % 2 == 0 entonces se termina la busqueda ya que se cumple la condicion\n",
    "            return False # por lo que el codigo escrito se adaptaria a lo requerido\n",
    "    return True\n",
    "comprobacion_primo(6)"
   ]
  },
  {
   "cell_type": "markdown",
   "metadata": {},
   "source": [
    "#### Ejercicio 2\n",
    "\n",
    "La Covid-19 es una enfermedad producida por la infección del virus SARS-CoV-2. La infección es transmisible de persona a persona y su contagiosidad depende de la cantidad del virus en las vías respiratorias. Si cada persona contagiada transmite la enfermedad a $\\beta$ contactos en promedio por periodo de tiempo $t$, es posible estimar la evolución del contagio con un modelo matemático sencillo.\n",
    "\n",
    "Para $t=1$día, las transmisiones en España se han estimado a partir de su histórico de las semanas de Febrero y Marzo del 2020 una $\\beta = 0.35$ transmissiones por día por infectado.\n",
    "\n",
    "Durante un periodo de tiempo (por ejempo un día $d$) la tasa de nuevos contagios se puede estimar como una proporción al número de contagiados del periodo anterior $N$:\n",
    "\n",
    "$$ \\Delta N = N_{1} - N = \\beta \\cdot N$$\n",
    "(1)\n",
    "\n",
    "Por tanto, podemos proyectar el número futuro de afectados como\n",
    "\n",
    "$$ N_{1} = N + \\beta \\cdot N = (1+\\beta) \\cdot N$$\n",
    "(2)\n",
    "\n",
    "En dos días:\n",
    "\n",
    "$$ N_{2} = (1+\\beta) \\cdot N_{1} = (1+\\beta)^2 \\cdot N$$\n",
    "(3)\n",
    "\n",
    "Y en general en D días tendremos\n",
    "\n",
    "$$N_{D} = (1+\\beta)^D \\cdot N$$\n",
    "(4)\n",
    "\n",
    "Asumiendo este sencillo modelo:\n",
    "\n",
    "a) Implementa una función de dos parámetros (N: población infectada inicial, D: número de días), que devuelva el cálculo de afectados para D días siguiendo la ecuación (4). Suponiendo una población afectada de 4250 (población afectada en españa a día 13 de Marzo de 2020), usa la función para calcular la población estimada en 1, 2, 7 y 30 días.\n",
    "\n",
    "NM"
   ]
  },
  {
   "cell_type": "code",
   "execution_count": 35,
   "metadata": {},
   "outputs": [
    {
     "name": "stdout",
     "output_type": "stream",
     "text": [
      "Para el dia 1 tenemos 5738 miles de afectados\n",
      "Para el dia 2 tenemos 7746 miles de afectados\n",
      "Para el dia 7 tenemos 34732 miles de afectados\n",
      "Para el dia 30 tenemos 34546335 miles de afectados\n"
     ]
    }
   ],
   "source": [
    "# Datos importantes:\n",
    "#0.35 transmisiones por dia por infectado\n",
    "#4250 # poblacion afectada en españa a dia 13 de Marzo de 2020\n",
    "def afectados_Covid(N, D):\n",
    "    afectados = ((1 + 0.35)**D)*N\n",
    "    afectados = round(afectados)\n",
    "    \n",
    "    return (\"Para el dia {} tenemos {} miles de afectados\".format(D, afectados))\n",
    "    \n",
    "print(afectados_Covid(4250 , 1))\n",
    "print(afectados_Covid(4250 , 2))\n",
    "print(afectados_Covid(4250 , 7))\n",
    "print(afectados_Covid(4250 , 30))"
   ]
  },
  {
   "cell_type": "markdown",
   "metadata": {},
   "source": [
    "b) Sabiendo que los Servicios de Medicina Intensiva (SMI) disponen de 3363 camas para enfermos graves, y suponiendo que un 10% de los afectados por el covid-19 requerirán de SMI y una supervivencia del 2,5% (Exitus), escribe un código que calcule:\n",
    "\n",
    " - El día en curso (Día)\n",
    " - El total de afectados por el virus para cada día d (Afectados)\n",
    " - El total de ingresados en SMI por el virus para cada día d (Críticos)\n",
    " - El total de Exitus por el virus para cada día d (Exitus)\n",
    " - Si los servicios de SMI no pueden aceptar los ingresados para cada día $d$ (Estado: indicando Saturación/No Saturación)\n",
    "Imprime en pantalla la información de cada día durante una simulación de tres semanas, suponiendo que no hay recuperaciones, con una población afectada inicial 4250 y una $\\beta = 0.35$ constante.\n",
    "\n",
    "NM"
   ]
  },
  {
   "cell_type": "code",
   "execution_count": 71,
   "metadata": {},
   "outputs": [
    {
     "name": "stdout",
     "output_type": "stream",
     "text": [
      "Para el dia 1, el total de afectados es 5738, han ingresado en SMI 574 pacientes, de los cuales se han recuperado 14\n",
      "Para el dia 2, el total de afectados es 7746, han ingresado en SMI 775 pacientes, de los cuales se han recuperado 19\n",
      "Para el dia 3, el total de afectados es 10457, han ingresado en SMI 1046 pacientes, de los cuales se han recuperado 26\n",
      "Para el dia 4, el total de afectados es 14116, han ingresado en SMI 1412 pacientes, de los cuales se han recuperado 35\n",
      "Para el dia 5, el total de afectados es 19057, han ingresado en SMI 1906 pacientes, de los cuales se han recuperado 48\n",
      "Para el dia 6, el total de afectados es 25727, han ingresado en SMI 2573 pacientes, de los cuales se han recuperado 64\n",
      "Para el dia 7, el total de afectados es 34732, han ingresado en SMI 3473 pacientes, de los cuales se han recuperado 87\n",
      "Los servicios de medicina intensiva se encuentran saturados para el dia 7\n"
     ]
    }
   ],
   "source": [
    "# Datos importantes:\n",
    "#SMI dispone de 3363 camas para enfermos graves\n",
    "#10% de los afectados requeriran SMI\n",
    "#Supervivencia del 2,5% DUDA EL 2.5% LO ESTOY CALCULANDO SOBRE LOS INGRESADOS, DEBERIA SER SOBRE AFECTADOS?\n",
    "def Pandemia (N, D):\n",
    "    dia= 0 \n",
    "    while dia <=D:\n",
    "        dia +=1 # para ir conociendo el dia en curso \n",
    "        afectados = round(((1 + 0.35)**dia)*N) # conozco el total de afectados por el virus para cada dia\n",
    "        ingresados_SMI = round((afectados*0.10)) # total ingresados por cada dia\n",
    "        exitus = round((ingresados_SMI*0.025)) #Exitus por el virus\n",
    "        print(\"Para el dia {}, el total de afectados es {}, han ingresado en SMI {} pacientes, de los cuales se han recuperado {}\".format(dia, afectados, ingresados_SMI, exitus))\n",
    "    if ingresados_SMI >= 3363:\n",
    "        estado = \"Saturacion\"\n",
    "        print(\"Los servicios de medicina intensiva se encuentran saturados para el dia {}\".format(dia))\n",
    "    else:\n",
    "        estado = \"No saturado\"\n",
    "        print(\"Afortunadamente para el dia {} los SMI no han colapsado y podemos seguir atendiendo\".format(dia))\n",
    "Pandemia (4250, 6)          "
   ]
  },
  {
   "cell_type": "markdown",
   "metadata": {},
   "source": [
    "c) Convierte el código anterior en una función que genere un archivo de texto con nombre output.txt, siguiendo este formato:\n",
    "\n",
    "    Dia, Afectados, Críticos, Exitus, Estado\n",
    "    0, 4250, 425,  106, No Saturación\n",
    "    1, 5737, 573,  143, No Saturación\n",
    "    2, 7745, 774,  193, No Saturación\n",
    "    ...\n",
    "Con los parámetros de entrada $N$, $D$, $\\beta$, camas SMI."
   ]
  },
  {
   "cell_type": "code",
   "execution_count": 73,
   "metadata": {},
   "outputs": [],
   "source": [
    "#DUDA EL 2.5% LO ESTOY CALCULANDO SOBRE LOS INGRESADOS, DEBERIA SER SOBRE AFECTADOS?\n",
    "# Importamos\n",
    "import os\n",
    "def Pandemia (N, D):\n",
    "    out = open(\"output.txt\", \"w\") #apertura del archivo\n",
    "    out.write(\"Dia, Afectados, Criticos, Exitus, Estado\" + \"\\n\") #nombres columnas\n",
    "    dia= 0 \n",
    "    for i in range(D):\n",
    "        dia +=1 # para ir conociendo el dia en curso \n",
    "        afectados = round(((1 + 0.35)**dia)*N) # conozco el total de afectados por el virus para cada dia\n",
    "        ingresados_SMI = round((afectados*0.10)) # total ingresados por cada dia\n",
    "        exitus = round((ingresados_SMI*0.025)) #Exitus por el virus\n",
    "    if ingresados_SMI >= 3363:\n",
    "        estado = \"Saturacion\"\n",
    "        out.write(str(dia) + \", \" + str(afectados) + \", \" + str(ingresados_SMI) + \", \" + str(exitus) + \", \" + estado + \"\\n \")\n",
    "    else:\n",
    "        estado = \"No saturado\"\n",
    "        out.write(str(dia) + \", \" + str(afectados) + \", \" + str(ingresados_SMI) + \", \" + str(exitus) + \", \" + estado + \"\\n \")\n",
    "\n",
    "# Cerramos el archivo\n",
    "    out.close()\n",
    "Pandemia(4250, 6)"
   ]
  },
  {
   "cell_type": "markdown",
   "metadata": {},
   "source": [
    "#### Ejercicio 3\n",
    "Dado el siguiente diccionario:"
   ]
  },
  {
   "cell_type": "code",
   "execution_count": 74,
   "metadata": {},
   "outputs": [],
   "source": [
    "d = {\"Alex\":344334443, \"Eva\":5533443, \"Cristina\":443355, \"Jonas\":33223324}"
   ]
  },
  {
   "cell_type": "markdown",
   "metadata": {},
   "source": [
    "\n",
    "Escribid una función que pregunte al usuario que introduzca el nombre de una persona y muestre por pantalla el nombre de la persona y su teléfono.\n",
    "\n",
    "Tened en cuenta que:\n",
    "\n",
    " - La función debe controlar que el valor introducido por el usuario es un nombre que existe en el diccionario. En caso contrario, mostrará un mensaje de error (\"El nombre introducido no corresponde a ninguna persona\") y devolverá el valor False.\n",
    " - Debéis tener en cuenta que el nombre de las personas que nos pasan por parámetro puede ser en minúsculas, mayúsculas o una combinación de ambas, y que debemos encontrar el número de teléfono aunque la capitalización de la cadena entrada por el usuario no sea exactamente la misma que hemos almacenado en el diccionario.\n",
    " - Suponed que no hay acentos en los nombres.\n",
    "Nota 1: Para realizar la actividad, tendréis que capturar un texto que entrará el usuario. Consultad la documentación oficial de la función input para ver cómo hacerlo.\n",
    "\n",
    "Nota 2: También tendréis que pensar cómo tratar el hecho de que el usuario pueda utilizar mayúsculas y minúsculas en la escritura del nombre en el diccionario. ¡Os animamos a usar un buscador para intentar encontrar alguna alternativa para resolver este subproblema! ¡Recordad citar las referencias que hayáis usado para resolverlo!\n",
    "\n",
    "EG"
   ]
  },
  {
   "cell_type": "code",
   "execution_count": 123,
   "metadata": {},
   "outputs": [
    {
     "name": "stdout",
     "output_type": "stream",
     "text": [
      "Consulta tu agenda telefonica: alex\n",
      "Contacto : Alex, numero:  344334443\n"
     ]
    }
   ],
   "source": [
    "# Diccionario\n",
    "d = {\"Alex\":344334443, \"Eva\":5533443, \"Cristina\":443355, \"Jonas\":33223324}\n",
    "\n",
    "def consulta():\n",
    "    x = input(\"Consulta tu agenda telefonica: \")\n",
    "    x = x.capitalize()\n",
    "    if x in d:\n",
    "        print(\"Contacto : {}, numero:  {}\".format(x, d[x]))\n",
    "    else:\n",
    "        print(\"El nombre introducido no corresponde a ninguno de tus contactos\")\n",
    "consulta()\n",
    "# consulta https://catedu.gitbooks.io/python-for-person-in-everybody/content/es/09-dictionaries.html"
   ]
  },
  {
   "cell_type": "markdown",
   "metadata": {},
   "source": [
    "#### Ejercicio 4\n",
    "Python dispone de un idiom muy útil conocido como list comprehension. Utilizando este idiom, proporcionad una expresión que devuelva las listas siguientes.\n",
    "\n",
    "Nota: Para realizar esta actividad necesitaréis investigar qué son las list comprehension y qué sintaxis utilizan. Para ello, se recomienda en primer lugar que utilicéis un buscador para encontrar información genérica sobre esta construcción. Después, os recomendamos que consultéis stackoverflow para ver algunos ejemplos de problemas que se pueden resolver con esta construcción.\n",
    "\n",
    "stackoverflow es un sitio de preguntas-y-respuestas muy popular entre programadores. Veréis que para la gran mayoría de las dudas que tengáis, habrá alguien que ya les habrá tenido (y consultado) anteriormente! Así pues, más allá de preguntar vosotros mismos las dudas allí (nosotros ya tenemos el foro del aula para ello!), consultar esta web os permitirá ver qué soluciones proponen otros programadores a estas dudas. A menudo habrá más de una solución a un mismo problema, y podréis valorar cuál es la más adecuada para vuestro problema.\n",
    "\n",
    "Para ver ejemplos de problemas que son adecuados para resolver con list comprehensions, os recomendamos leer las siguientes páginas:\n",
    "\n",
    "- https://stackoverflow.com/questions/12555443/squaring-all-elements-in-a-list\n",
    "- https://stackoverflow.com/questions/18551458/how-to-frame-two-for-loops-in-list-comprehension-python\n",
    "- https://stackoverflow.com/questions/24442091/list-comprehension-with-condition\n",
    "- https://stackoverflow.com/questions/41676212/i-want-to-return-only-the-odd-numbers-in-a-list\n",
    "- https://stackoverflow.com/questions/4260280/if-else-in-a-list-comprehension\n",
    "\n",
    "EG"
   ]
  },
  {
   "cell_type": "markdown",
   "metadata": {},
   "source": [
    "a) Una lista con los valores $4 x^2$ donde $x$ es cada uno de los números de la lista list_1:"
   ]
  },
  {
   "cell_type": "code",
   "execution_count": 107,
   "metadata": {},
   "outputs": [
    {
     "data": {
      "text/plain": [
       "[4, 16, 36, 64, 100]"
      ]
     },
     "execution_count": 107,
     "metadata": {},
     "output_type": "execute_result"
    }
   ],
   "source": [
    "list = [1,2,3,4,5]\n",
    "list_1 = [4*x**2 for x in list]\n",
    "list_1\n",
    "# revisado https://stackoverflow.com/questions/24442091/list-comprehension-with-condition"
   ]
  },
  {
   "cell_type": "markdown",
   "metadata": {},
   "source": [
    "\n",
    "b) Una lista con los valores $x/(x+1)$ donde $x$ es cada uno de los números de la lista list_1:"
   ]
  },
  {
   "cell_type": "code",
   "execution_count": 110,
   "metadata": {},
   "outputs": [
    {
     "data": {
      "text/plain": [
       "[0.5, 0.67, 0.75, 0.8, 0.83]"
      ]
     },
     "execution_count": 110,
     "metadata": {},
     "output_type": "execute_result"
    }
   ],
   "source": [
    "list = [1,2,3,4,5]\n",
    "list_1 = [round(x/(x+1),2) for x in list]\n",
    "list_1"
   ]
  },
  {
   "cell_type": "markdown",
   "metadata": {},
   "source": [
    "c) Una lista con los valores $4x^2/(4x^2-1)$ donde $x$ es cada uno de los números de la lista list_1:"
   ]
  },
  {
   "cell_type": "code",
   "execution_count": 111,
   "metadata": {},
   "outputs": [
    {
     "data": {
      "text/plain": [
       "[1.33, 1.07, 1.03, 1.02, 1.01]"
      ]
     },
     "execution_count": 111,
     "metadata": {},
     "output_type": "execute_result"
    }
   ],
   "source": [
    "list_1 = [round(4*x**2/(4*x**2 - 1),2) for x in list]\n",
    "list_1"
   ]
  },
  {
   "cell_type": "markdown",
   "metadata": {},
   "source": [
    "#### Ejercicio 5\n",
    "Las funciones lambda son formas de expresar y definir funciones pequeñas sin necesidad de usar el constructor def funcion():.\n",
    "\n",
    "Lee sobre las funciones lambda, por ejemplo aquí o aquí\n",
    "\n",
    "Escribe una función $f$ con argumento $n$, $f(n)$, que devuelva una función lambda, que esta a su vez devuelva $n$ copias de una cadena de caracteres en su argumento:\n",
    "\n",
    "EI"
   ]
  },
  {
   "cell_type": "code",
   "execution_count": 122,
   "metadata": {},
   "outputs": [
    {
     "data": {
      "text/plain": [
       "' hola hola hola hola hola'"
      ]
     },
     "execution_count": 122,
     "metadata": {},
     "output_type": "execute_result"
    }
   ],
   "source": [
    "def f(n): \n",
    "    # Definir de la función usando una método lambda\n",
    "    return lambda r : r*n\n",
    "r = f(5)\n",
    "r(\" hola\" )  # Donde deberíamos ver 5 copias del literal \"Hola \"\n",
    "# Revisado https://www.w3schools.com/python/python_lambda.asp"
   ]
  }
 ],
 "metadata": {
  "kernelspec": {
   "display_name": "Python 3",
   "language": "python",
   "name": "python3"
  },
  "language_info": {
   "codemirror_mode": {
    "name": "ipython",
    "version": 3
   },
   "file_extension": ".py",
   "mimetype": "text/x-python",
   "name": "python",
   "nbconvert_exporter": "python",
   "pygments_lexer": "ipython3",
   "version": "3.7.6"
  }
 },
 "nbformat": 4,
 "nbformat_minor": 4
}
