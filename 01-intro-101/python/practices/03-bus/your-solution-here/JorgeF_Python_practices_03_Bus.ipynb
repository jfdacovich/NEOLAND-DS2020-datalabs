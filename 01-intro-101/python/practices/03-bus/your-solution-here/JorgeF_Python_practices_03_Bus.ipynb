{
 "cells": [
  {
   "cell_type": "markdown",
   "metadata": {},
   "source": [
    "## Bus"
   ]
  },
  {
   "cell_type": "markdown",
   "metadata": {},
   "source": [
    "Este bus tiene un sistema de control de subida y bajada de pasajeros para monitorizar el número de ocupantes que lleva y así detectar cuando hay un aforo demasiado alto.\n",
    "\n",
    "En cada parada la subida y bajada de pasajeros se representa por una tupla compuesta por dos números enteros.\n",
    "\n",
    "bus_stop = (in, out)\n",
    "La sucesión de paradas se representa con una lista estas tuplas.\n",
    "\n",
    "stops = [(in1, out1), (in2, out2), (in3, out3), (in4, out4)]\n",
    "\n",
    "### Tareas\n",
    "- Calcula el número de paradas.\n",
    "- Asigna a una variable una lista cuyos elementos sean el número de pasajeros en cada parada (in-out),\n",
    "- Halla el máximo de ocupación del autobús.\n",
    "- Calcula la media de la ocupación. Y la desviación estandard."
   ]
  },
  {
   "cell_type": "code",
   "execution_count": 78,
   "metadata": {},
   "outputs": [
    {
     "name": "stdout",
     "output_type": "stream",
     "text": [
      "El bus se detuvo 9 veces\n",
      "En la parada 0, suben 10 pasajeros y bajan 0 pasajeros\n",
      "En la parada 1, suben 4 pasajeros y bajan 1 pasajeros\n",
      "En la parada 2, suben 3 pasajeros y bajan 5 pasajeros\n",
      "En la parada 3, suben 3 pasajeros y bajan 4 pasajeros\n",
      "En la parada 4, suben 5 pasajeros y bajan 1 pasajeros\n",
      "En la parada 5, suben 1 pasajeros y bajan 5 pasajeros\n",
      "En la parada 6, suben 5 pasajeros y bajan 8 pasajeros\n",
      "En la parada 7, suben 4 pasajeros y bajan 6 pasajeros\n",
      "En la parada 8, suben 2 pasajeros y bajan 3 pasajeros\n",
      "\n",
      "Obtenemos los pasajeros que se encontraban en el bus \n",
      "y la diferencia entre aquellos que subian y bajaban: \n",
      "[10, 3, -2, -1, 4, -4, -3, -2, -1]\n",
      "\n",
      "La maxima ocupacion en el bus fue de 14 pasajeros\n",
      "\n",
      "La ocupacion media fue de 9.0 pasajeros\n",
      "\n",
      "Desviacion estandar: 3.197\n"
     ]
    }
   ],
   "source": [
    "import numpy as np \n",
    "\n",
    "# 1. Calcula el número de paradas. \n",
    "\n",
    "# 2. Asigna a una variable una lista cuyos elementos sean el número de pasajeros en \n",
    "# cada parada: Cada elemento depende del elemento previo en la lista + in - out.  \n",
    "\n",
    "stops = [(10, 0), (4, 1), (3, 5), (3, 4), (5, 1), (1, 5), (5, 8), (4, 6), (2, 3)]\n",
    "number_stops = len(stops)\n",
    "\n",
    "print(f\"El bus se detuvo {number_stops} veces\")\n",
    "\n",
    "i=0\n",
    "\n",
    "while i < number_stops :\n",
    "    for stop in stops:\n",
    "        x = list(stop)\n",
    "        sube = x[0]\n",
    "        baja = x[1]\n",
    "        print(\"En la parada {0}, suben {1} pasajeros y bajan {2} pasajeros\".format(i, sube, baja) )\n",
    "        i += 1\n",
    "\n",
    "# 3. Halla el máximo de ocupación del autobús. \n",
    "\n",
    "# Primero debo hallar cuantos pasajeros quedan en el bus despues de subir y bajar:\n",
    "\n",
    "indicador_pax = []\n",
    "\n",
    "\n",
    "for i in stops:\n",
    "    indicador_pax.append(i[0]-i[1])\n",
    "print(f\"\\nObtenemos los pasajeros que se encontraban en el bus \\ny la diferencia entre aquellos que subian y bajaban: \\n{indicador_pax}\")\n",
    "\n",
    "\n",
    "pax = []\n",
    "ocupacion_bus = []\n",
    "\n",
    "\n",
    "\n",
    "for i in range(0,len(indicador_pax)): \n",
    "    if i == 0:\n",
    "        pax = indicador_pax[i]\n",
    "    elif i > 0:\n",
    "        pax = indicador_pax[i] + ocupacion_bus[i-1]\n",
    "    ocupacion_bus.append(pax)\n",
    "    \n",
    "#ahora mismo si imprimo la ocupacion_bus obtendre cuantos pasajeros quedaban en el bus despues de subir y bajar\n",
    "# por lo cual, al aplicar max() obtendremos la maxima ocupacion:\n",
    "print(f\"\\nLa maxima ocupacion en el bus fue de {max(ocupacion_bus)} pasajeros\")\n",
    "\n",
    "# 4. Calcula la media de la ocupación. Y la desviación estandard.\n",
    "\n",
    "media = round(np.mean(ocupacion_bus))\n",
    "print (f\"\\nLa ocupacion media fue de {media} pasajeros\")\n",
    "desviacion_std = round(np.std(ocupacion_bus),3)\n",
    "print(f\"\\nDesviacion estandar: {desviacion_std}\")"
   ]
  },
  {
   "cell_type": "code",
   "execution_count": null,
   "metadata": {},
   "outputs": [],
   "source": []
  }
 ],
 "metadata": {
  "kernelspec": {
   "display_name": "Python 3",
   "language": "python",
   "name": "python3"
  },
  "language_info": {
   "codemirror_mode": {
    "name": "ipython",
    "version": 3
   },
   "file_extension": ".py",
   "mimetype": "text/x-python",
   "name": "python",
   "nbconvert_exporter": "python",
   "pygments_lexer": "ipython3",
   "version": "3.7.6"
  }
 },
 "nbformat": 4,
 "nbformat_minor": 4
}
