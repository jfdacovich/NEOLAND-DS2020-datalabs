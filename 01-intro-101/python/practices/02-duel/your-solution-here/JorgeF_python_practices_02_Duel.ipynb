{
 "cells": [
  {
   "cell_type": "markdown",
   "metadata": {},
   "source": [
    "# Duelo de Magos"
   ]
  },
  {
   "cell_type": "markdown",
   "metadata": {},
   "source": [
    "Estás presenciando una batalla épica entre dos poderosos magos: Gandalf y Saruman. Cada mago tiene 10 hechizos de potencia variable en su mente y los van a lanzar uno tras otro. El ganador del duelo será el que gane más de esos choques entre hechizos. Los hechizos se representan como una lista de 10 números enteros cuyo valor equivale a la potencia del hechizo."
   ]
  },
  {
   "cell_type": "code",
   "execution_count": 20,
   "metadata": {},
   "outputs": [
    {
     "name": "stdout",
     "output_type": "stream",
     "text": [
      "Gandalf ha ganado 6 veces y Saruman ganó 4 veces\n",
      "El ganador de este duelo ha sido Gandalf con 6 victorias\n",
      "En el combate los magos han quedado 0 veces igualados\n"
     ]
    }
   ],
   "source": [
    "# Asignamos las listas de hechizos a variables\n",
    "gandalf = [10, 11, 13, 30, 22, 11, 10, 33, 22, 22]\n",
    "saruman = [23, 66, 12, 43, 12, 10, 44, 23, 12, 17]\n",
    "\n",
    "# Asignamos 0 a cada variable que almacena las victorias\n",
    "gandalf_vence = 0\n",
    "saruman_vence = 0\n",
    "empatan = 0\n",
    "# Ejecución de los choques de hechizos\n",
    "for i in range(len(gandalf)):\n",
    "    if gandalf[i] > saruman [i]:\n",
    "        gandalf_vence += 1 \n",
    "    elif saruman [i] > gandalf[i]:\n",
    "        saruman_vence += 1\n",
    "    else:\n",
    "        empatan += 1\n",
    "# Comprobamos quién ha ganado, no olvides la posibilidad de empate. \n",
    "print (f\"Gandalf ha ganado {gandalf_vence} veces y Saruman ganó {saruman_vence} veces\")\n",
    "# Imprime el resultado en función del ganador.\n",
    "print(f\"El ganador de este duelo ha sido Gandalf con {gandalf_vence} victorias\")\n",
    "# De añadirse elementos en las listas que dieran lugar a empates:\n",
    "print (f\"En el combate los magos han quedado {empatan} veces igualados\")"
   ]
  },
  {
   "cell_type": "markdown",
   "metadata": {},
   "source": [
    "### En caso de querer observar el ganador por cada combate realizado:"
   ]
  },
  {
   "cell_type": "code",
   "execution_count": 31,
   "metadata": {},
   "outputs": [
    {
     "name": "stdout",
     "output_type": "stream",
     "text": [
      "En el choque 0 Gana Saruman \n",
      " -----------------------\n",
      "En el choque 1 Gana Saruman \n",
      " -----------------------\n",
      "En el choque 2 Gana Gandalf \n",
      " -----------------------\n",
      "En el choque 3 Gana Saruman \n",
      " -----------------------\n",
      "En el choque 4 Gana Gandalf \n",
      " -----------------------\n",
      "En el choque 5 Gana Gandalf \n",
      " -----------------------\n",
      "En el choque 6 Gana Saruman \n",
      " -----------------------\n",
      "En el choque 7 Gana Gandalf \n",
      " -----------------------\n",
      "En el choque 8 Gana Gandalf \n",
      " -----------------------\n",
      "En el choque 9 Gana Gandalf \n",
      " -----------------------\n",
      "Gandalf ha ganado 6 veces y Saruman ganó 4 veces\n",
      "El ganador de este duelo ha sido Gandalf con 6 victorias\n",
      "En el combate los magos han quedado 0 veces igualados\n"
     ]
    }
   ],
   "source": [
    "# Asignamos las listas de hechizos a variables\n",
    "gandalf = [10, 11, 13, 30, 22, 11, 10, 33, 22, 22]\n",
    "saruman = [23, 66, 12, 43, 12, 10, 44, 23, 12, 17]\n",
    "\n",
    "# Asignamos 0 a cada variable que almacena las victorias\n",
    "gandalf_vence = 0\n",
    "saruman_vence = 0\n",
    "empatan = 0\n",
    "# Ejecución de los choques de hechizos\n",
    "for i in range(len(gandalf)):\n",
    "    if gandalf[i] > saruman [i]:\n",
    "        gandalf_vence += 1 \n",
    "        print(f\"En el choque {i} Gana Gandalf \\n -----------------------\")\n",
    "    elif saruman [i] > gandalf[i]:\n",
    "        saruman_vence += 1\n",
    "        print(f\"En el choque {i} Gana Saruman \\n -----------------------\")\n",
    "    else:\n",
    "        empatan += 1\n",
    "# Comprobamos quién ha ganado, no olvides la posibilidad de empate. \n",
    "print (f\"Gandalf ha ganado {gandalf_vence} veces y Saruman ganó {saruman_vence} veces\")\n",
    "# Imprime el resultado en función del ganador.\n",
    "print(f\"El ganador de este duelo ha sido Gandalf con {gandalf_vence} victorias\")\n",
    "# De añadirse elementos en las listas que dieran lugar a empates:\n",
    "print (f\"En el combate los magos han quedado {empatan} veces igualados\")"
   ]
  },
  {
   "cell_type": "code",
   "execution_count": null,
   "metadata": {},
   "outputs": [],
   "source": []
  }
 ],
 "metadata": {
  "kernelspec": {
   "display_name": "Python 3",
   "language": "python",
   "name": "python3"
  },
  "language_info": {
   "codemirror_mode": {
    "name": "ipython",
    "version": 3
   },
   "file_extension": ".py",
   "mimetype": "text/x-python",
   "name": "python",
   "nbconvert_exporter": "python",
   "pygments_lexer": "ipython3",
   "version": "3.7.6"
  }
 },
 "nbformat": 4,
 "nbformat_minor": 4
}
