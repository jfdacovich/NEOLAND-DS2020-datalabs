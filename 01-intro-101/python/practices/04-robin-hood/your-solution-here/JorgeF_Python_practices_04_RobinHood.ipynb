{
 "cells": [
  {
   "cell_type": "markdown",
   "metadata": {},
   "source": [
    "## Robin Hood"
   ]
  },
  {
   "cell_type": "markdown",
   "metadata": {},
   "source": [
    "Estamos en plena competición para ganar el concurso de tiro con arco en Sherwood. Con nuestro arco y flechas disparamos sobre una diana e intentamos acertar lo más posible del centro.\n",
    "\n",
    "El centro de la diana viene representado por los valores (0, 0) en los ejes de coordenadas."
   ]
  },
  {
   "cell_type": "code",
   "execution_count": 84,
   "metadata": {},
   "outputs": [
    {
     "name": "stdout",
     "output_type": "stream",
     "text": [
      "Robin Hood ha conseguido acertar a una flecha con otra flecha en 6 oportunidades\n",
      "En el Q1 han caido: 11 flechas\n",
      "En el Q2 han caido: 6 flechas\n",
      "En el Q3 han caido: 3 flechas\n",
      "En el Q4 han caido: 11 flechas\n",
      "El punto más cercano es :2.0\n",
      "Teniendo un radio de nueve, hay que recoger en el bosque: 2 flechas\n"
     ]
    }
   ],
   "source": [
    "puntos = [(4,5), (-0,2), (4,7), (1,-3), (3,-2), (4,5), \n",
    "          (3,2), (5,7), (-5,7), (2,2), (-4,5), (0,-2), \n",
    "          (-4,7), (-1,3), (-3,2), (-4,-5), (-3,2), \n",
    "          (5,7), (5,7), (2,2), (9, 9), (-8, -9)]\n",
    "\n",
    "# 1. Robin Hood es famoso por acertar a una flecha con otra flecha. ¿Lo ha conseguido? \n",
    "\n",
    "flecha_sf = 0\n",
    "for a in range(21):\n",
    "    for b in range(a + 1,21):\n",
    "        if puntos[a] == puntos[b]:\n",
    "            flecha_sf +=1\n",
    "print(f\"Robin Hood ha conseguido acertar a una flecha con otra flecha en {flecha_sf} oportunidades\")\n",
    "#lo ha conseguido, sin embargo no se si mi respuesta esta mal enfocada, debería ser si o no,\n",
    "#pero estoy colocando el numero de veces (Confirmar).\n",
    "\n",
    "# 2. Calcula cuántos flechazos han caido en cada cuadrante. \n",
    "# Q1 = (+,+) Q2 = (-,+). Q3 = (-,-). Q4 = (+,-)\n",
    "Q1 = []\n",
    "Q2 = []\n",
    "Q3 = []\n",
    "Q4 = []\n",
    "\n",
    "for a in puntos:\n",
    "    if a[0] >= 0 and a[1] > 0:\n",
    "        Q1.append(a)\n",
    "    elif a[0] < 0 and a[1] >= 0:\n",
    "        Q2.append(a)\n",
    "    elif a[0] <= 0 and a[1] < 0:\n",
    "        Q3.append(a)\n",
    "    elif a[0] > 0 and a[1] <= 0:\n",
    "        Q4.append(a)\n",
    "\n",
    "print (\"En el Q1 han caido: \" + str(len(Q1)) + \" flechas\")\n",
    "print (\"En el Q2 han caido: \" + str(len(Q2)) + \" flechas\")\n",
    "print (\"En el Q3 han caido: \" + str(len(Q3)) + \" flechas\")\n",
    "print (\"En el Q4 han caido: \" + str(len(Q1)) + \" flechas\")\n",
    "\n",
    "# 3. Halla el punto más cercano al centro. Calcula su distancia al centro\n",
    "\n",
    "def hipotenusa (a,b):\n",
    "    return ((a**2) + (b**2))** (1/2)\n",
    "\n",
    "pto_mascercano = []\n",
    "\n",
    "for x,y in puntos:\n",
    "    dist = hipotenusa(x,y)\n",
    "    pto_mascercano.append(dist)\n",
    "print(\"El punto más cercano es :\" + str(min(pto_mascercano)))\n",
    "\n",
    "# Revisar punto mas cercano (Mejorarlo)\n",
    "\n",
    "# Definir una función que calcula la distancia al centro puede servir de ayuda. \n",
    "\n",
    "\n",
    "# 4. Si la diana tiene un radio de 9, calcula el número de flechas que hay que recoger al bosque.\n",
    "\n",
    "flechas_bosque = []\n",
    "\n",
    "for i in pto_mascercano:\n",
    "    if (i) > 9:\n",
    "        flechas_bosque.append(i)\n",
    "print(f\"Teniendo un radio de nueve, hay que recoger en el bosque: {len(flechas_bosque)} flechas\")"
   ]
  },
  {
   "cell_type": "code",
   "execution_count": null,
   "metadata": {},
   "outputs": [],
   "source": []
  }
 ],
 "metadata": {
  "kernelspec": {
   "display_name": "Python 3",
   "language": "python",
   "name": "python3"
  },
  "language_info": {
   "codemirror_mode": {
    "name": "ipython",
    "version": 3
   },
   "file_extension": ".py",
   "mimetype": "text/x-python",
   "name": "python",
   "nbconvert_exporter": "python",
   "pygments_lexer": "ipython3",
   "version": "3.7.6"
  }
 },
 "nbformat": 4,
 "nbformat_minor": 4
}
