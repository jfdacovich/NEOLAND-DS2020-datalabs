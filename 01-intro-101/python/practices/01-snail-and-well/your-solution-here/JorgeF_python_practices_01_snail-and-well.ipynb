{
 "cells": [
  {
   "cell_type": "markdown",
   "metadata": {},
   "source": [
    "##  Caracol y el pozo"
   ]
  },
  {
   "cell_type": "markdown",
   "metadata": {},
   "source": [
    "Un caracol cae en el fondo de un pozo de 125 cm. Cada día el caracol sube 30 cm. pero por la noche, mientras duerme, resbala 20 cm debido a que las paredes son húmedas. ¿Cuantos días tarda en escapar del pozo?"
   ]
  },
  {
   "cell_type": "code",
   "execution_count": 24,
   "metadata": {},
   "outputs": [
    {
     "name": "stdout",
     "output_type": "stream",
     "text": [
      "El caracol ha tardado en escapar del pozo 11 días\n",
      "Dias =  11\n"
     ]
    }
   ],
   "source": [
    "# Asigna los datos del problema a variables con nombres representativos\n",
    "# altura del pozo, avance diario, retroceso nocturno, distancia acumulada\n",
    "altura_pozo = 125\n",
    "avance_diario = 30\n",
    "retroceso_nocturno = 20\n",
    "distancia_acumulada = 0\n",
    "\n",
    "# Asigna 0 a la variable que representa la solución\n",
    "dias = 0\n",
    "\n",
    "# Escribe el código que soluciona el problema\n",
    "while distancia_acumulada < altura_pozo:\n",
    "    distancia_acumulada = avance_diario + distancia_acumulada\n",
    "    dias += 1\n",
    "    \n",
    "    if distancia_acumulada <altura_pozo:\n",
    "        distancia_acumulada = distancia_acumulada - retroceso_nocturno\n",
    "\n",
    "print(f\"El caracol ha tardado en escapar del pozo {dias} días\".format(dias)) #duda .format(dias)\n",
    "\n",
    "# Imprime el resultado con print('Dias =', dias)\n",
    "\n",
    "print(\"Dias = \", dias)"
   ]
  },
  {
   "cell_type": "code",
   "execution_count": null,
   "metadata": {},
   "outputs": [],
   "source": []
  }
 ],
 "metadata": {
  "kernelspec": {
   "display_name": "Python 3",
   "language": "python",
   "name": "python3"
  },
  "language_info": {
   "codemirror_mode": {
    "name": "ipython",
    "version": 3
   },
   "file_extension": ".py",
   "mimetype": "text/x-python",
   "name": "python",
   "nbconvert_exporter": "python",
   "pygments_lexer": "ipython3",
   "version": "3.7.6"
  }
 },
 "nbformat": 4,
 "nbformat_minor": 4
}
