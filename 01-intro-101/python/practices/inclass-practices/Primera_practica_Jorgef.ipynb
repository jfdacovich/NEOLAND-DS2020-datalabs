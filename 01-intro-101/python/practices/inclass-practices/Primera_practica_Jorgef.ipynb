{
 "cells": [
  {
   "cell_type": "markdown",
   "metadata": {},
   "source": [
    "## Primer Ejercicio"
   ]
  },
  {
   "cell_type": "code",
   "execution_count": null,
   "metadata": {
    "scrolled": true
   },
   "outputs": [],
   "source": [
    "# Creamos las variables del contador\n",
    "\n",
    "print (\"¿Qué día es hoy?\")\n",
    "date = input()\n",
    "print (\"Calorías desayuno\")\n",
    "breakfast = int(input())\n",
    "print (\"Calorías comida\")\n",
    "lunch = int(input())\n",
    "print (\"Calorías cena\")\n",
    "dinner = int(input())\n",
    "print (\"Calorías merienda\")\n",
    "snack = int(input())"
   ]
  },
  {
   "cell_type": "code",
   "execution_count": null,
   "metadata": {},
   "outputs": [],
   "source": [
    "total_calorias = breakfast + lunch + dinner + snack"
   ]
  },
  {
   "cell_type": "code",
   "execution_count": null,
   "metadata": {},
   "outputs": [],
   "source": [
    "print(\"Las Calorías totales del día \" + date + \" son: \" + str(total_calorias))"
   ]
  },
  {
   "cell_type": "markdown",
   "metadata": {},
   "source": [
    "***"
   ]
  },
  {
   "cell_type": "markdown",
   "metadata": {},
   "source": [
    "### Segundo Ejercicio"
   ]
  },
  {
   "cell_type": "markdown",
   "metadata": {},
   "source": [
    "```Would you like to continue?\n",
    " Yes Continuing... \n",
    " Complete!\n",
    " or Not?\n",
    " exiting!\n",
    "```"
   ]
  },
  {
   "cell_type": "code",
   "execution_count": null,
   "metadata": {},
   "outputs": [],
   "source": [
    "respuesta = input(\"Quieres seguir?, por favor coloca tu respuesta en minúsculas: \")\n",
    "\n",
    "if respuesta == \"y\" or respuesta == \"yes\":\n",
    "    print(\"Continuing...\")\n",
    "    print(\"Complete!\")\n",
    "elif respuesta == \"not\" or respuesta == \"n\":\n",
    "    print(\"exiting\")\n",
    "else:\n",
    "      print(\"Intenta contestar nuevamente yes or not\")"
   ]
  },
  {
   "cell_type": "markdown",
   "metadata": {},
   "source": [
    "### Tercer ejercicio"
   ]
  },
  {
   "cell_type": "code",
   "execution_count": null,
   "metadata": {},
   "outputs": [],
   "source": [
    "## Formula de conversión: Celsius = Farenheit - 32 * 5/9 "
   ]
  },
  {
   "cell_type": "markdown",
   "metadata": {},
   "source": [
    "```What is the temperature in farenheit?\n",
    " input is not a number```\n"
   ]
  },
  {
   "cell_type": "code",
   "execution_count": 121,
   "metadata": {},
   "outputs": [
    {
     "name": "stdout",
     "output_type": "stream",
     "text": [
      "Ingresa por favor la temperatura Farenheit a convertir: 60\n",
      "60 grados farenheit son: 16 celsius\n"
     ]
    }
   ],
   "source": [
    "farenheit = input(\"Ingresa por favor la temperatura Farenheit a convertir: \")\n",
    "\n",
    "if farenheit.isnumeric () == False:\n",
    "    print (\"El dato introducido debe ser numérico\")\n",
    "\n",
    "farenheit = int(farenheit)\n",
    "celsius = round((farenheit - 32) * 5/9)\n",
    "    \n",
    "print( str(farenheit) + \" grados farenheit son: \" + (str(celsius)) + \" celsius\")\n",
    "\n",
    "#No se como evitar que salga el error al colocar caracteres No numéricos"
   ]
  },
  {
   "cell_type": "markdown",
   "metadata": {},
   "source": [
    "### Cuarta practica"
   ]
  },
  {
   "cell_type": "code",
   "execution_count": 123,
   "metadata": {},
   "outputs": [
    {
     "name": "stdout",
     "output_type": "stream",
     "text": [
      "Ingresa tu primer dato: 500\n",
      "ingresa el segundo dato: %\n",
      "Ingresa el operador: +\n",
      "El segundo dato que haz introducido no es numérico\n",
      "No está permitido introducir caracteres especiales\n"
     ]
    },
    {
     "ename": "ValueError",
     "evalue": "invalid literal for int() with base 10: '%'",
     "output_type": "error",
     "traceback": [
      "\u001b[0;31m---------------------------------------------------------------------------\u001b[0m",
      "\u001b[0;31mValueError\u001b[0m                                Traceback (most recent call last)",
      "\u001b[0;32m<ipython-input-123-858674941c36>\u001b[0m in \u001b[0;36m<module>\u001b[0;34m\u001b[0m\n\u001b[1;32m     18\u001b[0m \u001b[0;34m\u001b[0m\u001b[0m\n\u001b[1;32m     19\u001b[0m \u001b[0mdato_1\u001b[0m \u001b[0;34m=\u001b[0m \u001b[0mint\u001b[0m\u001b[0;34m(\u001b[0m\u001b[0mdato_1\u001b[0m\u001b[0;34m)\u001b[0m\u001b[0;34m\u001b[0m\u001b[0;34m\u001b[0m\u001b[0m\n\u001b[0;32m---> 20\u001b[0;31m \u001b[0mdato_2\u001b[0m \u001b[0;34m=\u001b[0m \u001b[0mint\u001b[0m\u001b[0;34m(\u001b[0m\u001b[0mdato_2\u001b[0m\u001b[0;34m)\u001b[0m\u001b[0;34m\u001b[0m\u001b[0;34m\u001b[0m\u001b[0m\n\u001b[0m\u001b[1;32m     21\u001b[0m \u001b[0;34m\u001b[0m\u001b[0m\n\u001b[1;32m     22\u001b[0m \u001b[0;32mif\u001b[0m \u001b[0mop\u001b[0m \u001b[0;34m==\u001b[0m \u001b[0;34m\"+\"\u001b[0m\u001b[0;34m:\u001b[0m\u001b[0;34m\u001b[0m\u001b[0;34m\u001b[0m\u001b[0m\n",
      "\u001b[0;31mValueError\u001b[0m: invalid literal for int() with base 10: '%'"
     ]
    }
   ],
   "source": [
    "dato_1 = input(\"Ingresa tu primer dato: \" )\n",
    "dato_2 = input(\"ingresa el segundo dato: \" )\n",
    "op = input(\"Ingresa el operador: \")\n",
    "\n",
    "if dato_1.isnumeric () == False:\n",
    "    print(\"El primer dato que haz introducido no es numérico\")\n",
    "    \n",
    "if dato_1.isalnum () == False:\n",
    "    print(\"No está permitido introducir caracteres especiales\")\n",
    "    \n",
    "# también habría que controlar si incluyen o no carateres especiales, no estoy seguro si sea la manera.\n",
    "    \n",
    "if dato_2.isnumeric () == False:\n",
    "    print (\"El segundo dato que haz introducido no es numérico\")\n",
    "    \n",
    "if dato_2.isalnum () == False:\n",
    "    print(\"No está permitido introducir caracteres especiales\")\n",
    "\n",
    "dato_1 = int(dato_1)\n",
    "dato_2 = int(dato_2)\n",
    "    \n",
    "if op == \"+\":\n",
    "    print (dato_1 + dato_2)\n",
    "elif op == \"-\":\n",
    "    print (dato_1 - dato_2)\n",
    "elif op == \"*\":\n",
    "    print(dato_1 * dato_2)\n",
    "elif op == \"/\":\n",
    "    print(dato_1 / dato_2)\n",
    "elif op == \"%\":\n",
    "    print(dato_1 % dato_2)\n",
    "elif op == \"**\":\n",
    "    print(dato_1 ** dato_2)\n",
    "    \n",
    "# Dudas  \n",
    "# 1 - He logrado que detecte si el valor es no numerico pero no se como evitar que se genere el error.\n",
    "# 2 - también habría que controlar si incluyen o no carateres especiales..."
   ]
  },
  {
   "cell_type": "code",
   "execution_count": null,
   "metadata": {},
   "outputs": [],
   "source": []
  }
 ],
 "metadata": {
  "kernelspec": {
   "display_name": "Python 3",
   "language": "python",
   "name": "python3"
  },
  "language_info": {
   "codemirror_mode": {
    "name": "ipython",
    "version": 3
   },
   "file_extension": ".py",
   "mimetype": "text/x-python",
   "name": "python",
   "nbconvert_exporter": "python",
   "pygments_lexer": "ipython3",
   "version": "3.7.6"
  }
 },
 "nbformat": 4,
 "nbformat_minor": 4
}
