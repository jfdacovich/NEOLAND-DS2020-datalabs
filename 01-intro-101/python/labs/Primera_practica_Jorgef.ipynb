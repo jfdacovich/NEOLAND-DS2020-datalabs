{
 "cells": [
  {
   "cell_type": "markdown",
   "metadata": {},
   "source": [
    "## Primer Ejercicio"
   ]
  },
  {
   "cell_type": "code",
   "execution_count": null,
   "metadata": {
    "scrolled": true
   },
   "outputs": [],
   "source": [
    "# Creamos las variables del contador\n",
    "\n",
    "print (\"¿Qué día es hoy?\")\n",
    "date = input()\n",
    "print (\"Calorías desayuno\")\n",
    "breakfast = int(input())\n",
    "print (\"Calorías comida\")\n",
    "lunch = int(input())\n",
    "print (\"Calorías cena\")\n",
    "dinner = int(input())\n",
    "print (\"Calorías merienda\")\n",
    "snack = int(input())"
   ]
  },
  {
   "cell_type": "code",
   "execution_count": null,
   "metadata": {},
   "outputs": [],
   "source": [
    "total_calorias = breakfast + lunch + dinner + snack"
   ]
  },
  {
   "cell_type": "code",
   "execution_count": null,
   "metadata": {},
   "outputs": [],
   "source": [
    "print(\"Las Calorías totales del día \" + date + \" son: \" + str(total_calorias))"
   ]
  },
  {
   "cell_type": "markdown",
   "metadata": {},
   "source": [
    "***"
   ]
  },
  {
   "cell_type": "markdown",
   "metadata": {},
   "source": [
    "### Segundo Ejercicio"
   ]
  },
  {
   "cell_type": "markdown",
   "metadata": {},
   "source": [
    "```Would you like to continue?\n",
    " Yes Continuing... \n",
    " Complete!\n",
    " or Not?\n",
    " exiting!\n",
    "```"
   ]
  },
  {
   "cell_type": "code",
   "execution_count": null,
   "metadata": {},
   "outputs": [],
   "source": [
    "respuesta = input(\"Quieres seguir?, por favor coloca tu respuesta en minúsculas: \")\n",
    "\n",
    "if respuesta == \"y\" or respuesta == \"yes\":\n",
    "    print(\"Continuing...\")\n",
    "    print(\"Complete!\")\n",
    "elif respuesta == \"not\" or respuesta == \"n\":\n",
    "    print(\"exiting\")\n",
    "else:\n",
    "      print(\"Intenta contestar nuevamente yes or not\")"
   ]
  },
  {
   "cell_type": "markdown",
   "metadata": {},
   "source": [
    "### Tercer ejercicio"
   ]
  },
  {
   "cell_type": "code",
   "execution_count": null,
   "metadata": {},
   "outputs": [],
   "source": [
    "## Formula de conversión: Celsius = Farenheit - 32 * 5/9 "
   ]
  },
  {
   "cell_type": "markdown",
   "metadata": {},
   "source": [
    "```What is the temperature in farenheit?\n",
    " input is not a number```\n"
   ]
  },
  {
   "cell_type": "code",
   "execution_count": 32,
   "metadata": {},
   "outputs": [
    {
     "name": "stdout",
     "output_type": "stream",
     "text": [
      "Ingresa por favor la temperatura a convertir: 60\n",
      "60 grados farenheit son: 16 celsius\n"
     ]
    }
   ],
   "source": [
    "farenheit = int(input(\"Ingresa por favor la temperatura a convertir: \"))\n",
    "celsius = round((farenheit - 32) * 5/9)\n",
    "print( str(farenheit) + \" grados farenheit son: \" + (str(celsius)) + \" celsius\")"
   ]
  },
  {
   "cell_type": "code",
   "execution_count": null,
   "metadata": {},
   "outputs": [],
   "source": []
  }
 ],
 "metadata": {
  "kernelspec": {
   "display_name": "Python 3",
   "language": "python",
   "name": "python3"
  },
  "language_info": {
   "codemirror_mode": {
    "name": "ipython",
    "version": 3
   },
   "file_extension": ".py",
   "mimetype": "text/x-python",
   "name": "python",
   "nbconvert_exporter": "python",
   "pygments_lexer": "ipython3",
   "version": "3.7.6"
  }
 },
 "nbformat": 4,
 "nbformat_minor": 4
}
