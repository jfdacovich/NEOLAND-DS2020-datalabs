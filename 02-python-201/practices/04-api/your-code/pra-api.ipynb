{
 "cells": [
  {
   "cell_type": "markdown",
   "metadata": {},
   "source": [
    "Adquisición de datos en Python\n",
    "--------------------------------------\n",
    "\n",
    "\n",
    "En este Notebook encontraréis dos conjuntos de ejercicios: un primer conjunto de **ejercicios para practicar** y un segundo conjunto de **actividades evaluables** como PRÁCTICAS de la asignatura."
   ]
  },
  {
   "cell_type": "markdown",
   "metadata": {},
   "source": [
    "---"
   ]
  },
  {
   "cell_type": "markdown",
   "metadata": {},
   "source": [
    "## Ejercicios y preguntas teóricas\n",
    "\n",
    "A continuación, encontraréis los **ejercicios y preguntas teóricas que debéis completar en esta PRA** y que forman parte de la evaluación de esta unidad."
   ]
  },
  {
   "cell_type": "markdown",
   "metadata": {},
   "source": [
    "## Pregunta 1"
   ]
  },
  {
   "cell_type": "markdown",
   "metadata": {},
   "source": [
    "La respuesta recibida después de realizar una petición a una web API http es un objeto que contiene, entre otros, los siguientes atributos: **status.code**, **content** y **headers**.  Describe qué información contiene cada uno de los atributos anteriormente enumerados y pon un ejemplo de cada uno.  Recordad que hay que citar las referencias consultadas para responder la pregunta, y que la respuesta que proporcionéis debe ser original (redactada por vosotros mismos, después de haber leído y entendido las referencias que consideréis oportunas)."
   ]
  },
  {
   "cell_type": "markdown",
   "metadata": {},
   "source": [
    "**Respuesta**"
   ]
  },
  {
   "cell_type": "markdown",
   "metadata": {},
   "source": [
    "Normalmente se hace una petición **Get** para obtener tanto información del contenido de una `web` como para realizar una petición a una `API`, esta petición devuelve un objeto **response** que contiene una respuesta.\n",
    "\n",
    "Es importante comentar que tras realizar la solicitud o la petición, existen varios métodos, y los mismos indicarán de cierta manera lo que haremos con la información obtenida, por ejemplo con el método **Get** leeremos los datos sin realizar modificación alguna, por el contrario al utilizar los métodos **Post** y **Put** podríamos modificar los datos en el servidor.\n",
    "\n",
    "Ahora bien, este objeto **response** contiene varios atributos: \n",
    "\n",
    "**`status.code`** viene representado por una serie de códigos de tres cifras, que nos indican si la solicitud a la `web`o a la `API` se ha completado de manera satisfactoria, las mismas se encuentran agrupadas en cinco clases:\n",
    "\n",
    " - Respuestas informativas (100–199)\n",
    " - Respuestas satisfactorias (200–299)\n",
    " - Redirecciones (300–399)\n",
    " - Errores de los clientes (400–499)\n",
    " - Errores de los servidores (500–599)\n",
    "\n",
    "[más información acerca del status.code](https://developer.mozilla.org/es/docs/Web/HTTP/Status)\n",
    "\n",
    "**`content`** hará referencia al contenido de la respuesta del servidor. En este caso `Request` procederá a decodificar la información que venga del servidor, podremos acceder a la codificación del texto con `r.text` y si quisieramos modificarla podríamos usar la propiedad `r.enconding`, normalmente tanto Http como Xml tienen la habilidad de especificar su codificación en su cuerpo, si quisieramos encontrar la codificación podríamos usar `r.content`y ya luego configurarla con `r.enconding`; Adicionalmente podremos acceder al cuerpo de la respuesta en bytes o si estuvieramos trabajando en formato Json también disponemos de un decodificador, de requerir la respuesta en crudo `r.raw`nos ayudará siempre que en la petición inicial pasemos *stream=True*\n",
    "\n",
    "[más información acerca de content](https://es.python-requests.org/es/latest/user/quickstart.html#contenido-de-respuesta)\n",
    "\n",
    "**`headers`** Los encabezados serán de utilidad para que tanto el cliente como el servidor puedan interpretar los datos que se envían y se reciben. Los mismos suelen enviarse junto con la solicitud y aparecerán a su vez en la respuesta recibida.\n",
    "\n",
    "[más información acerca de headers](https://www.digitalocean.com/community/tutorials/how-to-get-started-with-the-requests-library-in-python-es)\n",
    "\n",
    "\n",
    "**Ejemplos**: \n",
    "\n",
    "        *importr requests*\n",
    "        x = request.get('https://.....') \n",
    "Si quisieramos conocer el estatus en el que se encuentra nuestra solicitud:\n",
    "\n",
    "        x.status_code\n",
    "        \n",
    "Nos informará si existe una respuesta satisfactoria por ejemplo al devolver *200* o en caso de que la solicitud tenga más de una posible respuesta *300* o *404 Not Found* en caso de que el servidor no pudo encontrar el contenido solicitado, entre otros `status`\n",
    "\n",
    "        x.headers\n",
    "        \n",
    "Para consultar los encabezados\n",
    "\n",
    "        r.content (para acceder al cuerpo de la respueta)\n",
    "        r.text (para leer el contenido de la respuesta)\n",
    "        r.enconding (para obtener la codificación de la respuesta)\n",
    "        r.json() (existe un decodificado de Json incorporadon en Request, si estamos trabajando con un archivo de ese tipo)\n",
    "        r.raw (para obtener la respuesta en crudo)\n",
    "\n",
    "        "
   ]
  },
  {
   "cell_type": "markdown",
   "metadata": {},
   "source": []
  },
  {
   "cell_type": "markdown",
   "metadata": {},
   "source": [
    "## Pregunta 2"
   ]
  },
  {
   "cell_type": "markdown",
   "metadata": {},
   "source": [
    "Enumera tres librerías de Python para acceder a una API y especifica la API a la cual se accede. Para cada una de las librerías anteriormente enumeradas, pon un ejemplo de **endpoint** de la API que permite obtener una determinada información y de la función que permite obtenerla.  Recordad que hay que citar las referencias consultadas para responder la pregunta. \n",
    "\n",
    "**Nota**. Un ejemplo sería la librería de Python [Tweepy](http://www.tweepy.org/) que accede a la API de Twitter. Un posible endpoint sería *https://api.twitter.com/1.1/search/tweets.json* y la función *api.get_user()* permitiriá obtener información de un determinado usuario. "
   ]
  },
  {
   "cell_type": "markdown",
   "metadata": {},
   "source": [
    "**Respuesta**"
   ]
  },
  {
   "cell_type": "markdown",
   "metadata": {},
   "source": [
    " - **spotipy** accede a la API de [Spotify](https://developer.spotify.com/documentation/web-api/libraries/), obtienes acceso completo a todos los datos de música proporcionados por la plataforma. [endpoint](https://spotipy.readthedocs.io/en/2.16.1/) artist_top_tracks(artist_id, country='US') podremos obtener información del catálogo de Spotify sobre las 10 mejores canciones de un artista por país.\n",
    " \n",
    " - **instagram** accede a la API de [Instagram](https://www.instagram.com/developer/). [endpoint](https://developers.facebook.com/docs/instagram-api/guides) GET /ig_hashtag_search , para obtener un identificador de nodo de hashtag específico.\n",
    " - **PyGithub** accede a la API de [GitHub](https://docs.github.com/en/free-pro-team@latest/rest).[endpoint](https://pygithub.readthedocs.io/en/latest/introduction.html)"
   ]
  },
  {
   "cell_type": "markdown",
   "metadata": {},
   "source": [
    "**Carga de librerías**"
   ]
  },
  {
   "cell_type": "code",
   "execution_count": 1,
   "metadata": {},
   "outputs": [],
   "source": [
    "import requests\n",
    "import json\n",
    "import pandas as pd"
   ]
  },
  {
   "cell_type": "markdown",
   "metadata": {},
   "source": []
  },
  {
   "cell_type": "markdown",
   "metadata": {},
   "source": [
    "## Ejercicio 1\n",
    "\n",
    "Implementad una función que devuelva una lista con el nombre de las personas actualmente en el espacio consultando alguna de las APIs que se detallan en la siguiente [url](http://api.open-notify.org)."
   ]
  },
  {
   "cell_type": "markdown",
   "metadata": {},
   "source": [
    "**Respuesta**"
   ]
  },
  {
   "cell_type": "code",
   "execution_count": 2,
   "metadata": {},
   "outputs": [
    {
     "name": "stdout",
     "output_type": "stream",
     "text": [
      "El código de estado de la respuesta es:  200 \n",
      "\n"
     ]
    }
   ],
   "source": [
    "# Definimos una función en donde lanzamos el Get para obtener la información del contenido de la web\n",
    "# el mismo devolvera un objeto response que devuelve una respuesta\n",
    "def edo_resp_api():\n",
    "    response = requests.get('http://api.open-notify.org/')\n",
    "# Si el código es igual a 200 entonces la solicitud se ha completado de manera satisfactoria\n",
    "    try:\n",
    "        response.status_code == 200\n",
    "        print (u\"El código de estado de la respuesta es: \",response.status_code, \"\\n\")   \n",
    "    except requests.ConnectionError:\n",
    "        #En el caso de un problema de red (falla de DNS, conexión rechazada, etc), Requests levantará una excepción tipo ConnectionError.\n",
    "        print(\"No se pudo establecer la conexión\")\n",
    "edo_resp_api()"
   ]
  },
  {
   "cell_type": "code",
   "execution_count": 3,
   "metadata": {},
   "outputs": [
    {
     "name": "stdout",
     "output_type": "stream",
     "text": [
      "Datos obtenidos: {'message': 'success', 'number': 7, 'people': [{'craft': 'ISS', 'name': 'Sergey Ryzhikov'}, {'craft': 'ISS', 'name': 'Kate Rubins'}, {'craft': 'ISS', 'name': 'Sergey Kud-Sverchkov'}, {'craft': 'ISS', 'name': 'Mike Hopkins'}, {'craft': 'ISS', 'name': 'Victor Glover'}, {'craft': 'ISS', 'name': 'Shannon Walker'}, {'craft': 'ISS', 'name': 'Soichi Noguchi'}]}\n",
      "\n",
      "Actualmente hay en el espacio 7 personas\n",
      "A continuación sus nombres:\n",
      "Sergey Ryzhikov\n",
      "Kate Rubins\n",
      "Sergey Kud-Sverchkov\n",
      "Mike Hopkins\n",
      "Victor Glover\n",
      "Shannon Walker\n",
      "Soichi Noguchi\n"
     ]
    }
   ],
   "source": [
    "def info_print(url):\n",
    "    # Obtenemos información de la Web:\n",
    "    pax_space = requests.get(url)\n",
    "    #las requests tienen un metodo de decodificación Json\n",
    "    pax_space = pax_space.json()\n",
    "    # Observamos los datos almacenados en pax_space:\n",
    "    print(f\"Datos obtenidos: {pax_space}\")\n",
    "    # Podemos acceder al numero de personas en el espacio con la clave number\n",
    "    print(f\"\\nActualmente hay en el espacio {pax_space['number']} personas\")\n",
    "    # para obtener el nombre debemos hace un loop que recorra 'people' y así obtener la variable nombre\n",
    "    print(\"A continuación sus nombres:\")\n",
    "    for astros in pax_space['people']:\n",
    "        print(astros['name'])\n",
    "        \n",
    "info_print('http://api.open-notify.org/astros.json')"
   ]
  },
  {
   "cell_type": "markdown",
   "metadata": {},
   "source": [
    "## Ejercicio 2\n",
    "Queremos saber el número de crímenes violentos que se han producido en Reino Unido en una localización (latitud, longitud) y fecha concretas mediante la seguiente [url](https://data.police.uk/docs/method/crimes-at-location/). Implementad un conjunto de funciones para obtener el número de crimenes producidos en una determinada fecha en una determinada localización. \n",
    "\n",
    "- La primera función devolverá la latitud y longitud de una determinada dirección postal mediante la API de geolocalización de [google maps](https://pypi.org/project/googlemaps/1.0.2/). \n",
    "\n",
    "- La segunda función devolverá el número de crimenes producidos en una determinada fecha y en una determinada localización (latitud, longitud).  \n",
    "\n",
    "Usa ambas funciones para obtener el número de crimenes violentos en la dirección **Adelaide St, WC2N 4HZ, London, United Kingdom** en abril del 2018. \n",
    "\n",
    "**Nota**: Deberéis registraros a [Google Cloud Platform](https://developers.google.com/maps/documentation/javascript/get-api-key) para obtener las credenciales de la API de googlemaps."
   ]
  },
  {
   "cell_type": "markdown",
   "metadata": {},
   "source": [
    "**Respuesta**\n"
   ]
  },
  {
   "cell_type": "code",
   "execution_count": 4,
   "metadata": {},
   "outputs": [
    {
     "data": {
      "text/plain": [
       "(51.5091724, -0.1258542)"
      ]
     },
     "execution_count": 4,
     "metadata": {},
     "output_type": "execute_result"
    }
   ],
   "source": [
    "from geopy.geocoders import Nominatim\n",
    "\n",
    "# Función con la cual podremos obtener la geolocalizacion de la dirección que ingresemos \n",
    "def search_coords(address):\n",
    "    geolocator = Nominatim(user_agent=\"test\")\n",
    "    # nos devolverá la dirección exacta\n",
    "    loc = geolocator.geocode(address)\n",
    "    # pedimos que nos devuelva la latitud y longitud\n",
    "    return(loc.latitude, loc.longitude)\n",
    "search_coords('Adelaide St, WC2N 4HZ, London, United Kingdom')"
   ]
  },
  {
   "cell_type": "code",
   "execution_count": 5,
   "metadata": {},
   "outputs": [
    {
     "name": "stdout",
     "output_type": "stream",
     "text": [
      "Introduce el año y el mes \"yyyy-mm\" a consultar: 2018-04\n",
      "El numero de crimenes cometidos es :  23\n"
     ]
    }
   ],
   "source": [
    "# Método 1:\n",
    "# Utilizaremos la función presentada anteriormente para obtener las coordenadas,\n",
    "\n",
    "# La función deberá devolver el numero de crímenes cometidos en una fecha y dirección determinada\n",
    "def get_number_of_crimes(address):\n",
    "    # Obtendremos en primer lugar latitud y longitud de la dirección\n",
    "    lat = search_coords(address)[0]\n",
    "    lng = search_coords(address)[1]\n",
    "    # Añadimos los parámetros anyo y mes \n",
    "    anyo, mes = input(f'Introduce el año y el mes \"yyyy-mm\" a consultar: ').split(\"-\")\n",
    "    # Obtenemos la url para realizar el requests   \n",
    "    url = (\"https://data.police.uk/api/crimes-at-location?date={}-{}&lat={}&lng={}\").format(anyo,mes,lat,lng)\n",
    "    r = requests.get(url)\n",
    "    info_crimenes = r.json() # formato json\n",
    "    # realizamos la cuenta:\n",
    "    count = 0\n",
    "    for element in info_crimenes:\n",
    "        count += 1\n",
    "    return count\n",
    "\n",
    "print(\"El numero de crimenes cometidos es : \", get_number_of_crimes('Adelaide St, WC2N 4HZ, London, United Kingdom'))\n"
   ]
  },
  {
   "cell_type": "code",
   "execution_count": 6,
   "metadata": {},
   "outputs": [
    {
     "name": "stdout",
     "output_type": "stream",
     "text": [
      "Todo marcha bien? True\n",
      "El numero de crimenes cometidos es :  23\n"
     ]
    }
   ],
   "source": [
    "# Método 2:\n",
    "# Pasamos los parámetros directamente en la url\n",
    "\n",
    "def get_number_of_crimes2(address):\n",
    "    parametros = {'date': '2018-04', 'lat': '51.5091724', 'lng': '-0.1258542'}\n",
    "    url = ('https://data.police.uk/api/crimes-at-location')\n",
    "    r1 = requests.get(url,params=parametros)\n",
    "    print(\"Todo marcha bien?\", r1.ok)\n",
    "    info1 = r1.json()\n",
    "    count = 0\n",
    "    for element in info1:\n",
    "        count += 1\n",
    "    return count\n",
    "\n",
    "print(\"El numero de crimenes cometidos es : \", get_number_of_crimes2('Adelaide St, WC2N 4HZ, London, United Kingdom'))\n"
   ]
  },
  {
   "cell_type": "markdown",
   "metadata": {},
   "source": [
    "## Ejercicio 3\n",
    "\n",
    "Queremos conocer los nombres más frecuentes de los recién nacidos en Barcelona por sexo entre los años 1996 y 2018. Implementad una función de dos parámetros (id: identificador del recurso, año: año de consulta), que devuelva una lista con el nombre más frecuente para niña y para niño en dicho año.  Usa la función para obtener lo siguiente: \n",
    "\n",
    "a) Una lista con el nombre más frecuente de los recién nacidos en Barcelona por sexo para cada uno de los años entre 1996 y 2018 (incluidos). \n",
    "\n",
    "b) Crear una lista ordenada de mayor a menor, a partir de la lista obtenida en el apartado a), según el número de veces que dicho nombre ha sido utilizado.\n",
    "\n",
    "\n",
    "Para realizar el ejercicio consultad el portal de datos abiertos del Ayuntamiento de Barcelona mediante la siguiente [url](https://opendata-ajuntament.barcelona.cat/es/). \n",
    "\n",
    "**Nota 1**: Consultad como realizar las consultas mediante la API en [la pestaña de Desarrolladores](https://opendata-ajuntament.barcelona.cat/es/desenvolupadors)\n",
    "\n",
    "**Nota 2**: Algunos nombres pueden contener espacios.  Deberéis eliminar dicho espacio para realizar el contaje correctamente.\n"
   ]
  },
  {
   "cell_type": "markdown",
   "metadata": {},
   "source": [
    "**Respuesta**"
   ]
  },
  {
   "cell_type": "markdown",
   "metadata": {},
   "source": [
    "En primer lugar consulto la sección de [desarrolladores](https://opendata-ajuntament.barcelona.cat/es/desenvolupadors#221) para conocer como acceder a la data\n",
    "\n",
    "En **APIs de gestión del catálogo** nos indican lo siguiente \n",
    "\" Se trata de la API que ofrece la tecnología CKAN para gestionar el catálogo de datasets. Se puede acceder a esta API a través de la URL https://opendata-ajuntament.barcelona.cat/data/api/action/ a la que se ha de añadir el nombre del método al que queremos acceder.\"\n",
    "\n",
    "El método con el cual accederemos a la data es: \n",
    "\n",
    "**\"datastore_search: devuelve la información de cada recurso.**\"\n",
    "\n",
    "Para poder realizar una consulta sobre un recurso concreto, lo primero que debemos hacer es definir como parámetro de la consulta el *ID* del recurso\n"
   ]
  },
  {
   "cell_type": "code",
   "execution_count": 7,
   "metadata": {},
   "outputs": [
    {
     "data": {
      "text/plain": [
       "['EMMA', 'MARC']"
      ]
     },
     "execution_count": 7,
     "metadata": {},
     "output_type": "execute_result"
    }
   ],
   "source": [
    "# Nombres mas frecuentes recien nacidos en Barcelona por sexo entre 1996 y 2018\n",
    "# dos parametros (id: identificador del recurso, año: año de consulta)\n",
    "\n",
    "def nombres_mas_frecuentes(id_recurso, anyo):\n",
    "    id_recurso = id_recurso\n",
    "    r = requests.get(f'https://opendata-ajuntament.barcelona.cat/data/api/action/datastore_search?resource_id={id_recurso}&q=Any:{anyo}')\n",
    "    info_nombres = r.json()\n",
    "    # Eliminación espacios en blanco\n",
    "    info_nombres = {k.strip(\" \"): v for (k, v) in info_nombres.items()}\n",
    "    #print(info_nombres['result']['records'])\n",
    "    Nombres = []\n",
    "    for i in info_nombres['result']['records']:\n",
    "        # Deberían ser Marc y Emma\n",
    "        if i['Ordre'] == '1':\n",
    "            Nombres.append(i['Nom'])\n",
    "    return Nombres\n",
    "    \n",
    "nombres_mas_frecuentes('e1b5dd1f-a88e-43eb-86d1-d3880d9a6718','2018')"
   ]
  },
  {
   "cell_type": "code",
   "execution_count": 8,
   "metadata": {},
   "outputs": [
    {
     "name": "stdout",
     "output_type": "stream",
     "text": [
      "['LAURA', 'MARIA', 'MARIA', 'MARIA', 'MARIA', 'MARIA', 'MARIA', 'MARIA', 'MARIA', 'LAIA', 'MARIA', 'LUCIA', 'MARTINA', 'MARTINA', 'MARTINA', 'MARTINA', 'JULIA', 'JULIA', 'LAIA', 'EMMA', 'JULIA', 'JULIA', 'EMMA']\n",
      "['MARC', 'MARC', 'MARC', 'MARC', 'MARC', 'MARC', 'MARC', 'MARC', 'MARC', 'MARC', 'MARC', 'MARC', 'MARC', 'MARC', 'MARC', 'MARC', 'MARC', 'MARC', 'MARC', 'MARC', 'MARC', 'POL', 'MARC']\n"
     ]
    }
   ],
   "source": [
    "# a) Una lista con el nombre más frecuente de los recién nacidos en Barcelona por sexo \n",
    "#    para cada uno de los años entre 1996 y 2018 (incluidos)\n",
    "\n",
    "# creamos una lista vacías para cada sexo \n",
    "Dona=[]\n",
    "Home=[]\n",
    "id_recurso = 'e1b5dd1f-a88e-43eb-86d1-d3880d9a6718'\n",
    "for i in range(1996,2019):\n",
    "    #recogere los nombres de mujeres mas populares por anyo (primera posicion)\n",
    "    nombres_dona = nombres_mas_frecuentes(id_recurso,i)[0]\n",
    "    # los anexo a mi lista vacía\n",
    "    Dona.append(nombres_dona)\n",
    "    #recogere los nombres de hombres mas populares por anyo\n",
    "    nombres_home = nombres_mas_frecuentes(id_recurso,i)[1]\n",
    "    # los anexo a mi lista vacía\n",
    "    Home.append(nombres_home)\n",
    "\n",
    "print(Dona)\n",
    "\n",
    "print(Home)"
   ]
  },
  {
   "cell_type": "code",
   "execution_count": 9,
   "metadata": {},
   "outputs": [
    {
     "name": "stdout",
     "output_type": "stream",
     "text": [
      "MARIA      9\n",
      "MARTINA    4\n",
      "JULIA      4\n",
      "LAIA       2\n",
      "EMMA       2\n",
      "LUCIA      1\n",
      "LAURA      1\n",
      "Name: Done, dtype: int64\n",
      "MARC    22\n",
      "POL      1\n",
      "Name: Home, dtype: int64\n"
     ]
    }
   ],
   "source": [
    "\n",
    "dict_n = {'Done': pd.Series(Dona), \n",
    "         'Home': pd.Series(Home)}\n",
    "# trabajamos con un diccionario y creamos un DF con la info contenida en el\n",
    "df_n = pd.DataFrame(dict_n)\n",
    "# Observamos los valores contenidos en cada una de las columnas\n",
    "print(df_n['Done'].value_counts())\n",
    "print(df_n['Home'].value_counts())\n",
    "\n",
    "# Convertimos en lista los valores contenidos en el DF\n",
    "Lista_Done = df_n['Done'].values.tolist()\n",
    "Lista_Home = df_n['Home'].values.tolist()"
   ]
  },
  {
   "cell_type": "markdown",
   "metadata": {},
   "source": [
    "## Ejercicio opcional"
   ]
  },
  {
   "cell_type": "markdown",
   "metadata": {},
   "source": [
    "Programad una función que devuelva la fecha y hora de los 10 próximos pases de la estación espacial internacional ([ISS](http://api.open-notify.org)) sobre la Torre Eiffel  (especificada por su **longitud** y **latitud**). La función debe devolver una lista de 10 elementos, cada uno de los cuales debe ser una cadena de caracteres con la fecha y la hora de los pases."
   ]
  },
  {
   "cell_type": "markdown",
   "metadata": {},
   "source": [
    "**Respuesta**"
   ]
  },
  {
   "cell_type": "code",
   "execution_count": 10,
   "metadata": {},
   "outputs": [
    {
     "name": "stdout",
     "output_type": "stream",
     "text": [
      "Url: http://api.open-notify.org/iss-pass.json?lat=48.858260200000004&lon=2.2944990543196795&n=10\n",
      "2021-01-15 19:26:52\n",
      "2021-01-15 21:00:17\n",
      "2021-01-15 22:36:31\n",
      "2021-01-16 00:13:34\n",
      "2021-01-16 01:50:30\n",
      "2021-01-16 03:27:26\n",
      "2021-01-16 05:06:47\n",
      "2021-01-16 20:13:00\n",
      "2021-01-16 21:48:48\n",
      "2021-01-16 23:25:46\n"
     ]
    }
   ],
   "source": [
    "from datetime import datetime\n",
    "\n",
    "#def jprint(obj):\n",
    "    # create a formatted string of the Python JSON object\n",
    "    #text = json.dumps(obj, sort_keys=True, indent=4)\n",
    "    #print(text)\n",
    "\n",
    "def pases_iss(place):\n",
    "    # Obtendremos en primer lugar latitud y longitud de la dirección\n",
    "    lat = search_coords(place)[0]\n",
    "    lng = search_coords(place)[1]\n",
    "    parametros2 = {'lat': lat,\n",
    "                   'lon': lng,\n",
    "                  'n': 10}\n",
    "    respuesta = requests.get(\"http://api.open-notify.org/iss-pass.json\", params= parametros2)\n",
    "    # Reviso si la url es correcta, tras haber indicado los parámetros\n",
    "    print(\"Url: {}\".format(respuesta.url))\n",
    "    info_pases = respuesta.json()['response']\n",
    "    #print(info_pases)\n",
    "    # creamos una lista vacía en la cual almacenaremos los valores contenidos en 'risetime'\n",
    "    # estos datos vienen en formato EPOCH es decir las fechas del ordenador vienen expresadas\n",
    "    # en un valor numérico expresado en segundos\n",
    "    risetimes = []\n",
    "    for pases in info_pases:\n",
    "        tiempo = pases['risetime']\n",
    "        risetimes.append(tiempo)\n",
    "        #print(risetimes)\n",
    "    # vamos a transformar dichos valores (segundos) con 'fromtimestamp' de la librería 'datetime'\n",
    "    tiempos = []\n",
    "    for i in risetimes:\n",
    "        tiempo = datetime.fromtimestamp(i)\n",
    "        tiempos.append(tiempo)\n",
    "        print(tiempo)\n",
    "        \n",
    "pases_iss('Torre Eiffel')    "
   ]
  }
 ],
 "metadata": {
  "kernelspec": {
   "display_name": "Python 3",
   "language": "python",
   "name": "python3"
  },
  "language_info": {
   "codemirror_mode": {
    "name": "ipython",
    "version": 3
   },
   "file_extension": ".py",
   "mimetype": "text/x-python",
   "name": "python",
   "nbconvert_exporter": "python",
   "pygments_lexer": "ipython3",
   "version": "3.7.6"
  }
 },
 "nbformat": 4,
 "nbformat_minor": 4
}
