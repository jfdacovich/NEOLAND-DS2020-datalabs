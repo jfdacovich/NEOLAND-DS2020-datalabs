{
 "cells": [
  {
   "cell_type": "markdown",
   "metadata": {},
   "source": [
    "Adquisición de datos en Python\n",
    "--------------------------------------\n",
    "\n",
    "\n",
    "En este Notebook encontraréis dos conjuntos de ejercicios: un primer conjunto de **ejercicios para practicar** y un segundo conjunto de **actividades evaluables** como PRÁCTICAS de la asignatura."
   ]
  },
  {
   "cell_type": "markdown",
   "metadata": {},
   "source": [
    "---"
   ]
  },
  {
   "cell_type": "markdown",
   "metadata": {},
   "source": [
    "## Ejercicios y preguntas teóricas\n",
    "\n",
    "A continuación, encontraréis los **ejercicios y preguntas teóricas que debéis completar en esta PRA** y que forman parte de la evaluación de esta unidad."
   ]
  },
  {
   "cell_type": "markdown",
   "metadata": {},
   "source": [
    "## Pregunta 1"
   ]
  },
  {
   "cell_type": "markdown",
   "metadata": {},
   "source": [
    "La respuesta recibida después de realizar una petición a una web API http es un objeto que contiene, entre otros, los siguientes atributos: **status.code**, **content** y **headers**.  Describe qué información contiene cada uno de los atributos anteriormente enumerados y pon un ejemplo de cada uno.  Recordad que hay que citar las referencias consultadas para responder la pregunta, y que la respuesta que proporcionéis debe ser original (redactada por vosotros mismos, después de haber leído y entendido las referencias que consideréis oportunas)."
   ]
  },
  {
   "cell_type": "markdown",
   "metadata": {},
   "source": [
    "**Respuesta**"
   ]
  },
  {
   "cell_type": "markdown",
   "metadata": {},
   "source": [
    "Normalmente se hace una petición **Get** para obtener tanto información del contenido de una `web` como para realizar una petición a una `API`, esta petición devuelve un objeto **response** que contiene una respuesta.\n",
    "\n",
    "Es importante comentar que tras realizar la solicitud o la petición, existen varios métodos, y los mismos indicarán de cierta manera lo que haremos con la información obtenida, por ejemplo con el método **Get** leeremos los datos sin realizar modificación alguna, por el contrario al utilizar los métodos **Post** y **Put** podríamos modificar los datos en el servidor.\n",
    "\n",
    "Ahora bien, este objeto **response** contiene varios atributos: \n",
    "\n",
    "**`status.code`** viene representado por una serie de códigos de tres cifras, que nos indican si la solicitud a la `web`o a la `API` se ha completado de manera satisfactoria, las mismas se encuentran agrupadas en cinco clases:\n",
    "\n",
    " - Respuestas informativas (100–199)\n",
    " - Respuestas satisfactorias (200–299)\n",
    " - Redirecciones (300–399)\n",
    " - Errores de los clientes (400–499)\n",
    " - Errores de los servidores (500–599)\n",
    "\n",
    "[más información acerca del status.code](https://developer.mozilla.org/es/docs/Web/HTTP/Status)\n",
    "\n",
    "**`content`** hará referencia al contenido de la respuesta del servidor. En este caso `Request` procederá a decodificar la información que venga del servidor, podremos acceder a la codificación del texto con `r.text` y si quisieramos modificarla podríamos usar la propiedad `r.enconding`, normalmente tanto Http como Xml tienen la habilidad de especificar su codificación en su cuerpo, si quisieramos encontrar la codificación podríamos usar `r.content`y ya luego configurarla con `r.enconding`; Adicionalmente podremos acceder al cuerpo de la respuesta en bytes o si estuvieramos trabajando en formato Json también disponemos de un decodificador, de requerir la respuesta en crudo `r.raw`nos ayudará siempre que en la petición inicial pasemos *stream=True*\n",
    "\n",
    "[más información acerca de content](https://es.python-requests.org/es/latest/user/quickstart.html#contenido-de-respuesta)\n",
    "\n",
    "**`headers`** Los encabezados serán de utilidad para que tanto el cliente como el servidor puedan interpretar los datos que se envían y se reciben. Los mismos suelen enviarse junto con la solicitud y aparecerán a su vez en la respuesta recibida.\n",
    "\n",
    "[más información acerca de headers](https://www.digitalocean.com/community/tutorials/how-to-get-started-with-the-requests-library-in-python-es)\n",
    "\n",
    "\n",
    "**Ejemplos**: \n",
    "\n",
    "        *importr requests*\n",
    "        x = request.get('https://.....') \n",
    "Si quisieramos conocer el estatus en el que se encuentra nuestra solicitud:\n",
    "\n",
    "        x.status_code\n",
    "        \n",
    "Nos informará si existe una respuesta satisfactoria por ejemplo al devolver *200* o en caso de que la solicitud tenga más de una posible respuesta *300* o *404 Not Found* en caso de que el servidor no pudo encontrar el contenido solicitado, entre otros `status`\n",
    "\n",
    "        x.headers\n",
    "        \n",
    "Para consultar los encabezados\n",
    "\n",
    "        r.content (para acceder al cuerpo de la respueta)\n",
    "        r.text (para leer el contenido de la respuesta)\n",
    "        r.enconding (para obtener la codificación de la respuesta)\n",
    "        r.json() (existe un decodificado de Json incorporadon en Request, si estamos trabajando con un archivo de ese tipo)\n",
    "        r.raw (para obtener la respuesta en crudo)\n",
    "\n",
    "        "
   ]
  },
  {
   "cell_type": "markdown",
   "metadata": {},
   "source": []
  },
  {
   "cell_type": "markdown",
   "metadata": {},
   "source": [
    "## Pregunta 2"
   ]
  },
  {
   "cell_type": "markdown",
   "metadata": {},
   "source": [
    "Enumera tres librerías de Python para acceder a una API y especifica la API a la cual se accede. Para cada una de las librerías anteriormente enumeradas, pon un ejemplo de **endpoint** de la API que permite obtener una determinada información y de la función que permite obtenerla.  Recordad que hay que citar las referencias consultadas para responder la pregunta. \n",
    "\n",
    "**Nota**. Un ejemplo sería la librería de Python [Tweepy](http://www.tweepy.org/) que accede a la API de Twitter. Un posible endpoint sería *https://api.twitter.com/1.1/search/tweets.json* y la función *api.get_user()* permitiriá obtener información de un determinado usuario. "
   ]
  },
  {
   "cell_type": "markdown",
   "metadata": {},
   "source": [
    "**Respuesta**"
   ]
  },
  {
   "cell_type": "markdown",
   "metadata": {},
   "source": [
    " - **spotipy** accede a la API de [Spotify](https://developer.spotify.com/documentation/web-api/libraries/), obtienes acceso completo a todos los datos de música proporcionados por la plataforma. [endpoint](https://spotipy.readthedocs.io/en/2.16.1/) artist_top_tracks(artist_id, country='US') podremos obtener información del catálogo de Spotify sobre las 10 mejores canciones de un artista por país.\n",
    " \n",
    " - **instagram** accede a la API de [Instagram](https://www.instagram.com/developer/). [endpoint](https://developers.facebook.com/docs/instagram-api/guides) GET /ig_hashtag_search , para obtener un identificador de nodo de hashtag específico.\n",
    " - **PyGithub** accede a la API de [GitHub](https://docs.github.com/en/free-pro-team@latest/rest).[endpoint](https://pygithub.readthedocs.io/en/latest/introduction.html)"
   ]
  },
  {
   "cell_type": "markdown",
   "metadata": {},
   "source": [
    "**Carga de librerías**"
   ]
  },
  {
   "cell_type": "code",
   "execution_count": null,
   "metadata": {},
   "outputs": [],
   "source": [
    "import requests\n",
    "import json\n",
    "import pandas as pd"
   ]
  },
  {
   "cell_type": "markdown",
   "metadata": {},
   "source": []
  },
  {
   "cell_type": "markdown",
   "metadata": {},
   "source": [
    "## Ejercicio 1\n",
    "\n",
    "Implementad una función que devuelva una lista con el nombre de las personas actualmente en el espacio consultando alguna de las APIs que se detallan en la siguiente [url](http://api.open-notify.org)."
   ]
  },
  {
   "cell_type": "markdown",
   "metadata": {},
   "source": [
    "**Respuesta**"
   ]
  },
  {
   "cell_type": "code",
   "execution_count": 1,
   "metadata": {},
   "outputs": [],
   "source": [
    "# Definimos una función que nos permita conocer si la solicitud a la web se ha completado o no\n",
    "def consulta_api(resp):\n",
    "    try:\n",
    "        resp.status_code == 200:\n",
    "        print (u\"Código de estado de la respuesta es: \",resp.status_code, \"\\n\")   \n",
    "    except requests.ConnectionError:\n",
    "        print(\"failed to connect\")\n",
    "        \n"
   ]
  },
  {
   "cell_type": "code",
   "execution_count": null,
   "metadata": {},
   "outputs": [],
   "source": []
  },
  {
   "cell_type": "markdown",
   "metadata": {},
   "source": [
    "## Ejercicio 2\n",
    "Queremos saber el número de crímenes violentos que se han producido en Reino Unido en una localización (latitud, longitud) y fecha concretas mediante la seguiente [url](https://data.police.uk/docs/method/crimes-at-location/). Implementad un conjunto de funciones para obtener el número de crimenes producidos en una determinada fecha en una determinada localización. \n",
    "\n",
    "- La primera función devolverá la latitud y longitud de una determinada dirección postal mediante la API de geolocalización de [google maps](https://pypi.org/project/googlemaps/1.0.2/). \n",
    "\n",
    "- La segunda función devolverá el número de crimenes producidos en una determinada fecha y en una determinada localización (latitud, longitud).  \n",
    "\n",
    "Usa ambas funciones para obtener el número de crimenes violentos en la dirección **Adelaide St, WC2N 4HZ, London, United Kingdom** en abril del 2018. \n",
    "\n",
    "**Nota**: Deberéis registraros a [Google Cloud Platform](https://developers.google.com/maps/documentation/javascript/get-api-key) para obtener las credenciales de la API de googlemaps."
   ]
  },
  {
   "cell_type": "markdown",
   "metadata": {},
   "source": [
    "**Respuesta**\n"
   ]
  },
  {
   "cell_type": "code",
   "execution_count": null,
   "metadata": {},
   "outputs": [],
   "source": []
  },
  {
   "cell_type": "markdown",
   "metadata": {},
   "source": [
    "## Ejercicio 3\n",
    "\n",
    "Queremos conocer los nombres más frecuentes de los recién nacidos en Barcelona por sexo entre los años 1996 y 2018. Implementad una función de dos parámetros (id: identificador del recurso, año: año de consulta), que devuelva una lista con el nombre más frecuente para niña y para niño en dicho año.  Usa la función para obtener lo siguiente: \n",
    "\n",
    "a) Una lista con el nombre más frecuente de los recién nacidos en Barcelona por sexo para cada uno de los años entre 1996 y 2018 (incluidos). \n",
    "\n",
    "b) Crear una lista ordenada de mayor a menor, a partir de la lista obtenida en el apartado a), según el número de veces que dicho nombre ha sido utilizado.\n",
    "\n",
    "\n",
    "Para realizar el ejercicio consultad el portal de datos abiertos del Ayuntamiento de Barcelona mediante la siguiente [url](https://opendata-ajuntament.barcelona.cat/es/). \n",
    "\n",
    "**Nota 1**: Consultad como realizar las consultas mediante la API en [la pestaña de Desarrolladores](https://opendata-ajuntament.barcelona.cat/es/desenvolupadors)\n",
    "\n",
    "**Nota 2**: Algunos nombres pueden contener espacios.  Deberéis eliminar dicho espacio para realizar el contaje correctamente.\n"
   ]
  },
  {
   "cell_type": "markdown",
   "metadata": {},
   "source": [
    "**Respuesta**"
   ]
  },
  {
   "cell_type": "code",
   "execution_count": null,
   "metadata": {},
   "outputs": [],
   "source": []
  },
  {
   "cell_type": "markdown",
   "metadata": {},
   "source": [
    "## Ejercicio opcional"
   ]
  },
  {
   "cell_type": "markdown",
   "metadata": {},
   "source": [
    "Programad una función que devuelva la fecha y hora de los 10 próximos pases de la estación espacial internacional ([ISS](http://api.open-notify.org)) sobre la Torre Eiffel  (especificada por su **longitud** y **latitud**). La función debe devolver una lista de 10 elementos, cada uno de los cuales debe ser una cadena de caracteres con la fecha y la hora de los pases."
   ]
  },
  {
   "cell_type": "markdown",
   "metadata": {},
   "source": [
    "**Respuesta**"
   ]
  },
  {
   "cell_type": "code",
   "execution_count": null,
   "metadata": {},
   "outputs": [],
   "source": []
  }
 ],
 "metadata": {
  "kernelspec": {
   "display_name": "Python 3",
   "language": "python",
   "name": "python3"
  },
  "language_info": {
   "codemirror_mode": {
    "name": "ipython",
    "version": 3
   },
   "file_extension": ".py",
   "mimetype": "text/x-python",
   "name": "python",
   "nbconvert_exporter": "python",
   "pygments_lexer": "ipython3",
   "version": "3.7.6"
  }
 },
 "nbformat": 4,
 "nbformat_minor": 4
}
