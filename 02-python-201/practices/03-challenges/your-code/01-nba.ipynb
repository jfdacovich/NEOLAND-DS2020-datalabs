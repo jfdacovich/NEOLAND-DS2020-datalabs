{
 "cells": [
  {
   "cell_type": "markdown",
   "metadata": {},
   "source": [
    "# Programación 201\n",
    "\n",
    "# NBA player of the week"
   ]
  },
  {
   "cell_type": "markdown",
   "metadata": {},
   "source": [
    "### Ejercicio 1\n",
    "\n",
    "# Descripción y enunciado\n",
    "El objetivo de esta actividad es la gestión y preparación de datos. La gestión de datos es una parte muy importante de cualquier proceso de minería de datos, ya que los datos se deben preparar y preprocesar antes de iniciar el proceso de extracción de conocimiento.\n",
    "Esta tarea ilustra algunos de los procedimientos básicos con los que nos podemos encontrar para preparar los datos: analizar los tipos de datos, tranformar valores, detectar e eliminar outliers, hacer un muestreo, etcétera.\n",
    "\n",
    "# Fichero de datos\n",
    "El conjunto de datos con el que trabajaremos en esta actividad surge de la bases de datos disponibles en Kaggle . En concreto, los datos corresponden a los jugadores nombrados jugadores de la semana desde la temporada 1984-1985 hasta la temporada 2017-2018. Estos datos nos ofrecen múltiples posibilidades para consolidar los conocimientos y competencias de manipulación de datos, preprocesado y análisis descriptivo. El fichero `NBA_player_of_the_week.csv` se encuentra adjunto.\n",
    "\n",
    "\n",
    "# Ingesta de datos\n",
    "Actualmente el fichero se encuentra en la misma carpeta de datos RMD, está en adjunto. Se enviará nueva práctica similar con los datos de ingesta a través de scraping / API / base de datos para R y Python.\n",
    "\n",
    "\n",
    "# Valoraciones\n",
    "- se valorarán los trabajos por los detalles, no vale con el solo enviar un trozo de código, sino la explicación es fundamental\n",
    "- explicar además los resumen de cada sección (carga, preparación, EDA, limpieza, nuevos atributos, discretización, split train-test)\n",
    "- conclusiones y comparativas son los más importantes para comenzar con Data Mining."
   ]
  },
  {
   "cell_type": "markdown",
   "metadata": {},
   "source": [
    "### 1) Cargar un juego de datos "
   ]
  },
  {
   "cell_type": "markdown",
   "metadata": {},
   "source": [
    "`Librerías:`"
   ]
  },
  {
   "cell_type": "code",
   "execution_count": 1,
   "metadata": {},
   "outputs": [],
   "source": [
    "import pandas as pd\n",
    "import numpy as np"
   ]
  },
  {
   "cell_type": "markdown",
   "metadata": {},
   "source": [
    "`Carga de datos:`"
   ]
  },
  {
   "cell_type": "code",
   "execution_count": 4,
   "metadata": {},
   "outputs": [],
   "source": [
    "nba = pd.read_csv(\"NBA_player_of_the_week.csv\")"
   ]
  },
  {
   "cell_type": "markdown",
   "metadata": {},
   "source": [
    "### 2) Descripción de los datos\n",
    "\n",
    "Describir brevemente la estructura de los datos: qué tipo de datos contiene, número de filas y columnas y nombre de las columnas. Realizar un resumen descriptivo de los datos."
   ]
  },
  {
   "cell_type": "code",
   "execution_count": 5,
   "metadata": {},
   "outputs": [
    {
     "data": {
      "text/plain": [
       "pandas.core.frame.DataFrame"
      ]
     },
     "execution_count": 5,
     "metadata": {},
     "output_type": "execute_result"
    }
   ],
   "source": [
    "# Tipo de datos que contiene\n",
    "type(nba)"
   ]
  },
  {
   "cell_type": "code",
   "execution_count": 18,
   "metadata": {},
   "outputs": [
    {
     "data": {
      "text/plain": [
       "Age                    int64\n",
       "Conference            object\n",
       "Date                  object\n",
       "Draft Year             int64\n",
       "Height                object\n",
       "Player                object\n",
       "Position              object\n",
       "Season                object\n",
       "Season short           int64\n",
       "Seasons in league      int64\n",
       "Team                  object\n",
       "Weight                object\n",
       "Real_value           float64\n",
       "dtype: object"
      ]
     },
     "execution_count": 18,
     "metadata": {},
     "output_type": "execute_result"
    }
   ],
   "source": [
    "# Observamos el tipo de dato por dimensión\n",
    "nba.dtypes"
   ]
  },
  {
   "cell_type": "code",
   "execution_count": 13,
   "metadata": {},
   "outputs": [
    {
     "name": "stdout",
     "output_type": "stream",
     "text": [
      "- El dataframe 'NBA_player_of_the_week' contiene: 1145 filas\n",
      "- Nombres de las columnas : ['Age' 'Conference' 'Date' 'Draft Year' 'Height' 'Player' 'Position'\n",
      " 'Season' 'Season short' 'Seasons in league' 'Team' 'Weight' 'Real_value']\n"
     ]
    }
   ],
   "source": [
    "# Número de filas:\n",
    "print(\"- El dataframe 'NBA_player_of_the_week' contiene: {} filas\".format(len(nba)))\n",
    "# Nombre de columnas:\n",
    "print(\"- Nombres de las columnas : {}\".format(nba.columns.values))"
   ]
  },
  {
   "cell_type": "code",
   "execution_count": 24,
   "metadata": {},
   "outputs": [
    {
     "data": {
      "text/html": [
       "<div>\n",
       "<style scoped>\n",
       "    .dataframe tbody tr th:only-of-type {\n",
       "        vertical-align: middle;\n",
       "    }\n",
       "\n",
       "    .dataframe tbody tr th {\n",
       "        vertical-align: top;\n",
       "    }\n",
       "\n",
       "    .dataframe thead th {\n",
       "        text-align: right;\n",
       "    }\n",
       "</style>\n",
       "<table border=\"1\" class=\"dataframe\">\n",
       "  <thead>\n",
       "    <tr style=\"text-align: right;\">\n",
       "      <th></th>\n",
       "      <th>Conference</th>\n",
       "      <th>Date</th>\n",
       "      <th>Height</th>\n",
       "      <th>Player</th>\n",
       "      <th>Position</th>\n",
       "      <th>Season</th>\n",
       "      <th>Team</th>\n",
       "      <th>Weight</th>\n",
       "    </tr>\n",
       "  </thead>\n",
       "  <tbody>\n",
       "    <tr>\n",
       "      <th>count</th>\n",
       "      <td>761</td>\n",
       "      <td>1145</td>\n",
       "      <td>1145</td>\n",
       "      <td>1145</td>\n",
       "      <td>1145</td>\n",
       "      <td>1145</td>\n",
       "      <td>1145</td>\n",
       "      <td>1145</td>\n",
       "    </tr>\n",
       "    <tr>\n",
       "      <th>unique</th>\n",
       "      <td>2</td>\n",
       "      <td>761</td>\n",
       "      <td>35</td>\n",
       "      <td>274</td>\n",
       "      <td>11</td>\n",
       "      <td>34</td>\n",
       "      <td>35</td>\n",
       "      <td>96</td>\n",
       "    </tr>\n",
       "    <tr>\n",
       "      <th>top</th>\n",
       "      <td>East</td>\n",
       "      <td>Jan 12, 2003</td>\n",
       "      <td>6-9</td>\n",
       "      <td>LeBron James</td>\n",
       "      <td>G</td>\n",
       "      <td>2002-2003</td>\n",
       "      <td>Los Angeles Lakers</td>\n",
       "      <td>250</td>\n",
       "    </tr>\n",
       "    <tr>\n",
       "      <th>freq</th>\n",
       "      <td>381</td>\n",
       "      <td>3</td>\n",
       "      <td>129</td>\n",
       "      <td>61</td>\n",
       "      <td>178</td>\n",
       "      <td>47</td>\n",
       "      <td>71</td>\n",
       "      <td>106</td>\n",
       "    </tr>\n",
       "  </tbody>\n",
       "</table>\n",
       "</div>"
      ],
      "text/plain": [
       "       Conference          Date Height        Player Position     Season  \\\n",
       "count         761          1145   1145          1145     1145       1145   \n",
       "unique          2           761     35           274       11         34   \n",
       "top          East  Jan 12, 2003    6-9  LeBron James        G  2002-2003   \n",
       "freq          381             3    129            61      178         47   \n",
       "\n",
       "                      Team Weight  \n",
       "count                 1145   1145  \n",
       "unique                  35     96  \n",
       "top     Los Angeles Lakers    250  \n",
       "freq                    71    106  "
      ]
     },
     "execution_count": 24,
     "metadata": {},
     "output_type": "execute_result"
    }
   ],
   "source": [
    "# Estadísticas básicas: \n",
    "nba.describe()"
   ]
  },
  {
   "cell_type": "markdown",
   "metadata": {},
   "source": [
    "### 3) Preparación de la base de datos\n",
    "#### 3.1 Asignar NA a los valores ausentes en los datos de `Conference`."
   ]
  },
  {
   "cell_type": "code",
   "execution_count": 26,
   "metadata": {},
   "outputs": [
    {
     "data": {
      "text/plain": [
       "Age                    0\n",
       "Conference           384\n",
       "Date                   0\n",
       "Draft Year             0\n",
       "Height                 0\n",
       "Player                 0\n",
       "Position               0\n",
       "Season                 0\n",
       "Season short           0\n",
       "Seasons in league      0\n",
       "Team                   0\n",
       "Weight                 0\n",
       "Real_value             0\n",
       "dtype: int64"
      ]
     },
     "execution_count": 26,
     "metadata": {},
     "output_type": "execute_result"
    }
   ],
   "source": [
    "# Reviso los valores ausentes por Variable\n",
    "nba.isna().sum()"
   ]
  },
  {
   "cell_type": "code",
   "execution_count": 40,
   "metadata": {},
   "outputs": [
    {
     "data": {
      "text/plain": [
       "NaN     384\n",
       "East    381\n",
       "West    380\n",
       "Name: Conference, dtype: int64"
      ]
     },
     "execution_count": 40,
     "metadata": {},
     "output_type": "execute_result"
    }
   ],
   "source": [
    "# Reviso los valores que componen la variable Conference\n",
    "nba.Conference.value_counts(dropna = False)"
   ]
  },
  {
   "cell_type": "code",
   "execution_count": 42,
   "metadata": {},
   "outputs": [],
   "source": [
    "# Al no haber valores automáticamente se generean NaN , sin embargo voy a asignar el valor NA a cada uno de ellos:\n",
    "nba.Conference.fillna(\"Na\", inplace=True)"
   ]
  },
  {
   "cell_type": "code",
   "execution_count": 48,
   "metadata": {},
   "outputs": [
    {
     "name": "stdout",
     "output_type": "stream",
     "text": [
      "['Na' 'East' 'West']\n"
     ]
    }
   ],
   "source": [
    "# Realizamos la comprobación de que la asignación ha sido correcta\n",
    "print(nba.Conference.unique())"
   ]
  },
  {
   "cell_type": "markdown",
   "metadata": {},
   "source": [
    "#### 3.2 Transformar los datos de Conference en variable categórica y mostrar la tabla de frecuencia."
   ]
  },
  {
   "cell_type": "code",
   "execution_count": 54,
   "metadata": {},
   "outputs": [
    {
     "data": {
      "text/plain": [
       "CategoricalDtype(categories=['East', 'Na', 'West'], ordered=False)"
      ]
     },
     "execution_count": 54,
     "metadata": {},
     "output_type": "execute_result"
    }
   ],
   "source": [
    "# Transformación de los datos de `Conference`\n",
    "nba[\"Conference\"] = nba.Conference.astype(\"category\")\n",
    "# Comprobamos la transformación\n",
    "nba.Conference.dtypes"
   ]
  },
  {
   "cell_type": "code",
   "execution_count": 59,
   "metadata": {},
   "outputs": [
    {
     "data": {
      "text/plain": [
       "Na      384\n",
       "East    381\n",
       "West    380\n",
       "Name: Conference, dtype: int64"
      ]
     },
     "execution_count": 59,
     "metadata": {},
     "output_type": "execute_result"
    }
   ],
   "source": [
    "# Tabla de frecuencia\n",
    "nba.Conference.value_counts()"
   ]
  },
  {
   "cell_type": "markdown",
   "metadata": {},
   "source": [
    "#### 3.3 Comprobar que la variable tiene xxx valores ausentes"
   ]
  },
  {
   "cell_type": "code",
   "execution_count": 64,
   "metadata": {},
   "outputs": [
    {
     "data": {
      "text/plain": [
       "Conference\n",
       "East    381\n",
       "Na      384\n",
       "West    380\n",
       "Name: Conference, dtype: int64"
      ]
     },
     "execution_count": 64,
     "metadata": {},
     "output_type": "execute_result"
    }
   ],
   "source": [
    "# Recordemos que los valores ausentes fueron sustituidos por \"Na\"\n",
    "nba.groupby(['Conference'])['Conference'].count()"
   ]
  },
  {
   "cell_type": "markdown",
   "metadata": {},
   "source": [
    "#### 3.4 Transformar las variables Height, Player, Position, Season, Team y Weight en variables categóricas."
   ]
  },
  {
   "cell_type": "code",
   "execution_count": 65,
   "metadata": {},
   "outputs": [],
   "source": [
    "nba[\"Height\"] = nba.Height.astype(\"category\")\n",
    "nba[\"Player\"] = nba.Player.astype(\"category\")\n",
    "nba[\"Position\"] = nba.Position.astype(\"category\")\n",
    "nba[\"Season\"] = nba.Season.astype(\"category\")\n",
    "nba[\"Team\"] = nba.Team.astype(\"category\")\n",
    "nba[\"Weight\"] = nba.Weight.astype(\"category\")"
   ]
  },
  {
   "cell_type": "markdown",
   "metadata": {},
   "source": [
    "#### 3.5 Comprobar que estas variables no tienen valores perdidos."
   ]
  },
  {
   "cell_type": "code",
   "execution_count": 72,
   "metadata": {},
   "outputs": [
    {
     "data": {
      "text/plain": [
       "Height      0\n",
       "Player      0\n",
       "Position    0\n",
       "Season      0\n",
       "Team        0\n",
       "Weight      0\n",
       "dtype: int64"
      ]
     },
     "execution_count": 72,
     "metadata": {},
     "output_type": "execute_result"
    }
   ],
   "source": [
    "# Comprobamos que las variables transformadas no contengan valores perdidos tras realizar la suma de los elementos\n",
    "nba[[\"Height\", \"Player\", \"Position\", \"Season\", \"Team\", \"Weight\"]].isna().sum()"
   ]
  },
  {
   "cell_type": "markdown",
   "metadata": {},
   "source": [
    "#### 3.6 Calcular el número de anyos que pasan entre que salio el jugador elegido en el draft y la temporada en la que fue jugador de la semana. Denomina la variable tiempo"
   ]
  },
  {
   "cell_type": "code",
   "execution_count": 75,
   "metadata": {},
   "outputs": [],
   "source": [
    "nba[\"Tiempo\"] = nba[\"Season short\"] - nba[\"Draft Year\"]"
   ]
  },
  {
   "cell_type": "code",
   "execution_count": 82,
   "metadata": {},
   "outputs": [
    {
     "data": {
      "text/html": [
       "<div>\n",
       "<style scoped>\n",
       "    .dataframe tbody tr th:only-of-type {\n",
       "        vertical-align: middle;\n",
       "    }\n",
       "\n",
       "    .dataframe tbody tr th {\n",
       "        vertical-align: top;\n",
       "    }\n",
       "\n",
       "    .dataframe thead th {\n",
       "        text-align: right;\n",
       "    }\n",
       "</style>\n",
       "<table border=\"1\" class=\"dataframe\">\n",
       "  <thead>\n",
       "    <tr style=\"text-align: right;\">\n",
       "      <th></th>\n",
       "      <th>Season short</th>\n",
       "      <th>Draft Year</th>\n",
       "      <th>Tiempo</th>\n",
       "    </tr>\n",
       "  </thead>\n",
       "  <tbody>\n",
       "    <tr>\n",
       "      <th>0</th>\n",
       "      <td>1985</td>\n",
       "      <td>1978</td>\n",
       "      <td>7</td>\n",
       "    </tr>\n",
       "    <tr>\n",
       "      <th>1</th>\n",
       "      <td>1985</td>\n",
       "      <td>1982</td>\n",
       "      <td>3</td>\n",
       "    </tr>\n",
       "    <tr>\n",
       "      <th>2</th>\n",
       "      <td>1985</td>\n",
       "      <td>1979</td>\n",
       "      <td>6</td>\n",
       "    </tr>\n",
       "    <tr>\n",
       "      <th>3</th>\n",
       "      <td>1985</td>\n",
       "      <td>1969</td>\n",
       "      <td>16</td>\n",
       "    </tr>\n",
       "    <tr>\n",
       "      <th>4</th>\n",
       "      <td>1985</td>\n",
       "      <td>1978</td>\n",
       "      <td>7</td>\n",
       "    </tr>\n",
       "    <tr>\n",
       "      <th>5</th>\n",
       "      <td>1985</td>\n",
       "      <td>1980</td>\n",
       "      <td>5</td>\n",
       "    </tr>\n",
       "    <tr>\n",
       "      <th>6</th>\n",
       "      <td>1985</td>\n",
       "      <td>1982</td>\n",
       "      <td>3</td>\n",
       "    </tr>\n",
       "    <tr>\n",
       "      <th>7</th>\n",
       "      <td>1985</td>\n",
       "      <td>1981</td>\n",
       "      <td>4</td>\n",
       "    </tr>\n",
       "    <tr>\n",
       "      <th>8</th>\n",
       "      <td>1985</td>\n",
       "      <td>1979</td>\n",
       "      <td>6</td>\n",
       "    </tr>\n",
       "    <tr>\n",
       "      <th>9</th>\n",
       "      <td>1985</td>\n",
       "      <td>1982</td>\n",
       "      <td>3</td>\n",
       "    </tr>\n",
       "  </tbody>\n",
       "</table>\n",
       "</div>"
      ],
      "text/plain": [
       "   Season short  Draft Year  Tiempo\n",
       "0          1985        1978       7\n",
       "1          1985        1982       3\n",
       "2          1985        1979       6\n",
       "3          1985        1969      16\n",
       "4          1985        1978       7\n",
       "5          1985        1980       5\n",
       "6          1985        1982       3\n",
       "7          1985        1981       4\n",
       "8          1985        1979       6\n",
       "9          1985        1982       3"
      ]
     },
     "execution_count": 82,
     "metadata": {},
     "output_type": "execute_result"
    }
   ],
   "source": [
    "# Traemos las variables involucradas y comprobamos\n",
    "nba[[\"Season short\", \"Draft Year\", \"Tiempo\"]].head(10)"
   ]
  },
  {
   "cell_type": "markdown",
   "metadata": {},
   "source": [
    "####  3.7 ¿Cual es el número de años que más veces se repite entre que salen elegidos en el draft y se proclaman mejores jugadores? (moda de la variable tiempo)"
   ]
  },
  {
   "cell_type": "code",
   "execution_count": 94,
   "metadata": {},
   "outputs": [
    {
     "data": {
      "text/plain": [
       "0    7\n",
       "dtype: int64"
      ]
     },
     "execution_count": 94,
     "metadata": {},
     "output_type": "execute_result"
    }
   ],
   "source": [
    "# Podemos observar que el año que más se repite es:\n",
    "nba.Tiempo.mode()"
   ]
  },
  {
   "cell_type": "markdown",
   "metadata": {},
   "source": [
    "#### 3.8 La altura de los jugadores está expresada en pies (aquellas con guión) y cm. Convertir la altura expresada en pies a centimetros (https://www.piesametros.info/](https://www.piesametros.info/). Posteriormente, eliminar el texto “cm” de los datos de tipo altura y convertir la variable en numérica. Calcular media, desviación típica y boxplot."
   ]
  },
  {
   "cell_type": "code",
   "execution_count": 112,
   "metadata": {},
   "outputs": [
    {
     "data": {
      "text/plain": [
       "0       6.5\n",
       "1       6.6\n",
       "2       6.6\n",
       "3       7.2\n",
       "4       6.9\n",
       "       ... \n",
       "1140    196\n",
       "1141    193\n",
       "1142    211\n",
       "1143    211\n",
       "1144    196\n",
       "Name: Height, Length: 1145, dtype: object"
      ]
     },
     "execution_count": 112,
     "metadata": {},
     "output_type": "execute_result"
    }
   ],
   "source": [
    "nba.Height.str.replace(\"-\", \".\").str.replace(\"cm\", \"\")"
   ]
  },
  {
   "cell_type": "markdown",
   "metadata": {},
   "source": [
    "#### 3.9 El peso de los jugadores está expresada en libras y kg. Convertir el peso expresado en kgs en libras [https://www.metric-conversions.org/es/peso/kilogramos-a-libras.htm](https://www.metric-conversions.org/es/peso/kilogramos-a-libras.htm). Convertir la variable en numérica.Calcular media, desviación típica y boxplot."
   ]
  },
  {
   "cell_type": "code",
   "execution_count": 110,
   "metadata": {},
   "outputs": [
    {
     "data": {
      "text/plain": [
       "pandas.core.series.Series"
      ]
     },
     "execution_count": 110,
     "metadata": {},
     "output_type": "execute_result"
    }
   ],
   "source": [
    "nba_kg = nba.Weight.str.contains(\"kg\")\n",
    "# nba_kg[\"Weight\"] = nba_kg.Weight.str.replace(\"kg\", \"\")\n",
    "type(nba_kg)"
   ]
  },
  {
   "cell_type": "code",
   "execution_count": null,
   "metadata": {},
   "outputs": [],
   "source": [
    "\n"
   ]
  },
  {
   "cell_type": "code",
   "execution_count": 104,
   "metadata": {},
   "outputs": [],
   "source": [
    "nba[\"kg\"] = nba.Weight.str.contains(\"kg\")"
   ]
  },
  {
   "cell_type": "code",
   "execution_count": 111,
   "metadata": {},
   "outputs": [
    {
     "data": {
      "text/plain": [
       "pandas.core.series.Series"
      ]
     },
     "execution_count": 111,
     "metadata": {},
     "output_type": "execute_result"
    }
   ],
   "source": [
    "nba[\"kg\"]\n",
    "type(nba[\"kg\"])"
   ]
  },
  {
   "cell_type": "markdown",
   "metadata": {},
   "source": [
    "### 4 Información sobre posiciones en el campo y equipos.\n",
    "#### 4.1 Fusionar las categorias de posición en el campo F,F-C y FC en la categoría genérica Forward. Fusionar las categorias G,G-F y GF en la categoria genérica Guard. Renombrar la categoría ‘PG’ como ‘Point Guard’, ‘SG’ como ‘Shooting Guard’, ‘SF’ como ‘Small Forward’, ‘PF’ como ‘Power Forward’ y ‘C’ como ‘Center’."
   ]
  },
  {
   "cell_type": "code",
   "execution_count": null,
   "metadata": {},
   "outputs": [],
   "source": []
  },
  {
   "cell_type": "markdown",
   "metadata": {},
   "source": [
    "#### 4.2 ¿En que posición ha sido más veces los jugadores de la semana nombrados?"
   ]
  },
  {
   "cell_type": "code",
   "execution_count": 121,
   "metadata": {},
   "outputs": [
    {
     "data": {
      "text/plain": [
       "0    G\n",
       "Name: Position, dtype: category\n",
       "Categories (11, object): [C, F, F-C, FC, ..., PF, PG, SF, SG]"
      ]
     },
     "execution_count": 121,
     "metadata": {},
     "output_type": "execute_result"
    }
   ],
   "source": [
    "nba.Position.mode()"
   ]
  },
  {
   "cell_type": "markdown",
   "metadata": {},
   "source": [
    "#### 4.3 ¿Cuántos equipos distintos hay?"
   ]
  },
  {
   "cell_type": "code",
   "execution_count": 116,
   "metadata": {},
   "outputs": [
    {
     "data": {
      "text/plain": [
       "count                   1145\n",
       "unique                    35\n",
       "top       Los Angeles Lakers\n",
       "freq                      71\n",
       "Name: Team, dtype: object"
      ]
     },
     "execution_count": 116,
     "metadata": {},
     "output_type": "execute_result"
    }
   ],
   "source": [
    "nba.Team.describe()"
   ]
  },
  {
   "cell_type": "code",
   "execution_count": 118,
   "metadata": {},
   "outputs": [
    {
     "data": {
      "text/plain": [
       "35"
      ]
     },
     "execution_count": 118,
     "metadata": {},
     "output_type": "execute_result"
    }
   ],
   "source": [
    "len(nba[\"Team\"].unique())"
   ]
  },
  {
   "cell_type": "markdown",
   "metadata": {},
   "source": [
    "#### 4.4 ¿Cuáles son los cinco equipos que más veces han sido nombrados sus jugadores como jugador de la semana?"
   ]
  },
  {
   "cell_type": "code",
   "execution_count": 120,
   "metadata": {},
   "outputs": [
    {
     "data": {
      "text/plain": [
       "Los Angeles Lakers     71\n",
       "San Antonio Spurs      61\n",
       "Cleveland Cavaliers    59\n",
       "Miami Heat             57\n",
       "Houston Rockets        56\n",
       "Name: Team, dtype: int64"
      ]
     },
     "execution_count": 120,
     "metadata": {},
     "output_type": "execute_result"
    }
   ],
   "source": [
    "(nba.Team.value_counts()).head(5)"
   ]
  },
  {
   "cell_type": "markdown",
   "metadata": {},
   "source": [
    "### 5 Información sobre jugadores. Estadísticos descriptivos.\n",
    "#### 5.1 Crear una base datos denominada nba.unique en la que no se repita el nombre de ningún jugador.Trabajar a partir de ahora con esta base de datos."
   ]
  },
  {
   "cell_type": "code",
   "execution_count": 127,
   "metadata": {},
   "outputs": [],
   "source": [
    "nba_unique = nba.drop_duplicates(\"Player\")"
   ]
  },
  {
   "cell_type": "code",
   "execution_count": 128,
   "metadata": {},
   "outputs": [
    {
     "data": {
      "text/html": [
       "<div>\n",
       "<style scoped>\n",
       "    .dataframe tbody tr th:only-of-type {\n",
       "        vertical-align: middle;\n",
       "    }\n",
       "\n",
       "    .dataframe tbody tr th {\n",
       "        vertical-align: top;\n",
       "    }\n",
       "\n",
       "    .dataframe thead th {\n",
       "        text-align: right;\n",
       "    }\n",
       "</style>\n",
       "<table border=\"1\" class=\"dataframe\">\n",
       "  <thead>\n",
       "    <tr style=\"text-align: right;\">\n",
       "      <th></th>\n",
       "      <th>Age</th>\n",
       "      <th>Conference</th>\n",
       "      <th>Date</th>\n",
       "      <th>Draft Year</th>\n",
       "      <th>Height</th>\n",
       "      <th>Player</th>\n",
       "      <th>Position</th>\n",
       "      <th>Season</th>\n",
       "      <th>Season short</th>\n",
       "      <th>Seasons in league</th>\n",
       "      <th>Team</th>\n",
       "      <th>Weight</th>\n",
       "      <th>Real_value</th>\n",
       "      <th>Tiempo</th>\n",
       "      <th>kg</th>\n",
       "    </tr>\n",
       "  </thead>\n",
       "  <tbody>\n",
       "    <tr>\n",
       "      <th>0</th>\n",
       "      <td>29</td>\n",
       "      <td>Na</td>\n",
       "      <td>Apr 14, 1985</td>\n",
       "      <td>1978</td>\n",
       "      <td>6-5</td>\n",
       "      <td>Micheal Ray Richardson</td>\n",
       "      <td>PG</td>\n",
       "      <td>1984-1985</td>\n",
       "      <td>1985</td>\n",
       "      <td>6</td>\n",
       "      <td>New Jersey Nets</td>\n",
       "      <td>189</td>\n",
       "      <td>1.0</td>\n",
       "      <td>7</td>\n",
       "      <td>False</td>\n",
       "    </tr>\n",
       "    <tr>\n",
       "      <th>1</th>\n",
       "      <td>23</td>\n",
       "      <td>Na</td>\n",
       "      <td>Apr 7, 1985</td>\n",
       "      <td>1982</td>\n",
       "      <td>6-6</td>\n",
       "      <td>Derek Smith</td>\n",
       "      <td>SG</td>\n",
       "      <td>1984-1985</td>\n",
       "      <td>1985</td>\n",
       "      <td>2</td>\n",
       "      <td>Los Angeles Clippers</td>\n",
       "      <td>205</td>\n",
       "      <td>1.0</td>\n",
       "      <td>3</td>\n",
       "      <td>False</td>\n",
       "    </tr>\n",
       "    <tr>\n",
       "      <th>2</th>\n",
       "      <td>28</td>\n",
       "      <td>Na</td>\n",
       "      <td>Apr 1, 1985</td>\n",
       "      <td>1979</td>\n",
       "      <td>6-6</td>\n",
       "      <td>Calvin Natt</td>\n",
       "      <td>F</td>\n",
       "      <td>1984-1985</td>\n",
       "      <td>1985</td>\n",
       "      <td>5</td>\n",
       "      <td>Denver Nuggets</td>\n",
       "      <td>220</td>\n",
       "      <td>1.0</td>\n",
       "      <td>6</td>\n",
       "      <td>False</td>\n",
       "    </tr>\n",
       "    <tr>\n",
       "      <th>3</th>\n",
       "      <td>37</td>\n",
       "      <td>Na</td>\n",
       "      <td>Mar 24, 1985</td>\n",
       "      <td>1969</td>\n",
       "      <td>7-2</td>\n",
       "      <td>Kareem Abdul-Jabbar</td>\n",
       "      <td>C</td>\n",
       "      <td>1984-1985</td>\n",
       "      <td>1985</td>\n",
       "      <td>15</td>\n",
       "      <td>Los Angeles Lakers</td>\n",
       "      <td>225</td>\n",
       "      <td>1.0</td>\n",
       "      <td>16</td>\n",
       "      <td>False</td>\n",
       "    </tr>\n",
       "    <tr>\n",
       "      <th>4</th>\n",
       "      <td>28</td>\n",
       "      <td>Na</td>\n",
       "      <td>Mar 17, 1985</td>\n",
       "      <td>1978</td>\n",
       "      <td>6-9</td>\n",
       "      <td>Larry Bird</td>\n",
       "      <td>SF</td>\n",
       "      <td>1984-1985</td>\n",
       "      <td>1985</td>\n",
       "      <td>5</td>\n",
       "      <td>Boston Celtics</td>\n",
       "      <td>220</td>\n",
       "      <td>1.0</td>\n",
       "      <td>7</td>\n",
       "      <td>False</td>\n",
       "    </tr>\n",
       "  </tbody>\n",
       "</table>\n",
       "</div>"
      ],
      "text/plain": [
       "   Age Conference          Date  Draft Year Height                  Player  \\\n",
       "0   29         Na  Apr 14, 1985        1978    6-5  Micheal Ray Richardson   \n",
       "1   23         Na   Apr 7, 1985        1982    6-6             Derek Smith   \n",
       "2   28         Na   Apr 1, 1985        1979    6-6             Calvin Natt   \n",
       "3   37         Na  Mar 24, 1985        1969    7-2     Kareem Abdul-Jabbar   \n",
       "4   28         Na  Mar 17, 1985        1978    6-9              Larry Bird   \n",
       "\n",
       "  Position     Season  Season short  Seasons in league                  Team  \\\n",
       "0       PG  1984-1985          1985                  6       New Jersey Nets   \n",
       "1       SG  1984-1985          1985                  2  Los Angeles Clippers   \n",
       "2        F  1984-1985          1985                  5        Denver Nuggets   \n",
       "3        C  1984-1985          1985                 15    Los Angeles Lakers   \n",
       "4       SF  1984-1985          1985                  5        Boston Celtics   \n",
       "\n",
       "  Weight  Real_value  Tiempo     kg  \n",
       "0    189         1.0       7  False  \n",
       "1    205         1.0       3  False  \n",
       "2    220         1.0       6  False  \n",
       "3    225         1.0      16  False  \n",
       "4    220         1.0       7  False  "
      ]
     },
     "execution_count": 128,
     "metadata": {},
     "output_type": "execute_result"
    }
   ],
   "source": [
    "nba_unique.head()"
   ]
  },
  {
   "cell_type": "markdown",
   "metadata": {},
   "source": [
    "#### 5.2 Listar el nombre de los 10 jugadores más bajos que han sido nombrados alguna vez jugadores de la semana. No debe repetirse ningún nombre."
   ]
  },
  {
   "cell_type": "code",
   "execution_count": 141,
   "metadata": {},
   "outputs": [
    {
     "data": {
      "text/plain": [
       "188    7-2\n",
       "256    7-3\n",
       "483    7-3\n",
       "236    7-4\n",
       "486    7-6\n",
       "Name: Height, dtype: category\n",
       "Categories (35, object): [175cm, 183cm, 185cm, 191cm, ..., 7-2, 7-3, 7-4, 7-6]"
      ]
     },
     "execution_count": 141,
     "metadata": {},
     "output_type": "execute_result"
    }
   ],
   "source": [
    "nba_unique.Height.sort_values().tail()"
   ]
  },
  {
   "cell_type": "markdown",
   "metadata": {},
   "source": [
    "#### 5.3 Listar el nombre de los 10 jugadores más altos que han sido nombrados y mostrar su altura. No debe repetirse ningún nombre."
   ]
  },
  {
   "cell_type": "code",
   "execution_count": null,
   "metadata": {},
   "outputs": [],
   "source": []
  },
  {
   "cell_type": "markdown",
   "metadata": {},
   "source": [
    "### 6 Eliminación de outliers.\n",
    "#### 6.1 Eliminar los outliers de la variable peso (Weight) y guardar en un data frame nba.avg"
   ]
  },
  {
   "cell_type": "code",
   "execution_count": null,
   "metadata": {},
   "outputs": [],
   "source": []
  },
  {
   "cell_type": "markdown",
   "metadata": {},
   "source": [
    "#### 6.2 Comparar los boxplots de los datos originales en nba.unique y de los datos del peso de nba.avg"
   ]
  },
  {
   "cell_type": "code",
   "execution_count": null,
   "metadata": {},
   "outputs": [],
   "source": []
  },
  {
   "cell_type": "markdown",
   "metadata": {},
   "source": [
    "#### 6.3 Interpretar los resultados"
   ]
  },
  {
   "cell_type": "code",
   "execution_count": null,
   "metadata": {},
   "outputs": [],
   "source": []
  },
  {
   "cell_type": "markdown",
   "metadata": {},
   "source": [
    "### 7 Clasificación de jugadores\n",
    "#### 7.1 Añadir una columna al conjunto de datos denominada “Altura” que contenga los valores: {“bajo”, “normal”, “alto”}. La asignación del valor depende de la altura de cada jugador. Se asigna:\n",
    "- bajo: los 50 jugadores más bajos\n",
    "- alto: los 50 jugadores más altos\n",
    "- normal: el resto de jugadores"
   ]
  },
  {
   "cell_type": "code",
   "execution_count": null,
   "metadata": {},
   "outputs": [],
   "source": []
  },
  {
   "cell_type": "markdown",
   "metadata": {},
   "source": [
    "#### 7.2 Añadir una columna al conjunto de datos denominada “Peso” que contenga los valores: {“bajo”, “normal”, “alto”}. La asignación del valor depende del peso de cada jugador. Se asigna:\n",
    "- bajo: los 50 jugadores con menor peso\n",
    "- alto: los 50 jugadores con mayor peso\n",
    "- normal: el resto de jugadores"
   ]
  },
  {
   "cell_type": "code",
   "execution_count": null,
   "metadata": {},
   "outputs": [],
   "source": []
  },
  {
   "cell_type": "markdown",
   "metadata": {},
   "source": [
    "#### 7.3 Calcular la media y desviación típica del peso (Weight) según la clasificación de altura de los jugadores."
   ]
  },
  {
   "cell_type": "code",
   "execution_count": null,
   "metadata": {},
   "outputs": [],
   "source": []
  },
  {
   "cell_type": "markdown",
   "metadata": {},
   "source": [
    "#### 7.4 Realizar un boxplot del peso (Weight) según la clasificación de altura del jugador. Los boxplots deben estar ordenados de menos a mayor altura."
   ]
  },
  {
   "cell_type": "code",
   "execution_count": null,
   "metadata": {},
   "outputs": [],
   "source": []
  },
  {
   "cell_type": "markdown",
   "metadata": {},
   "source": [
    "#### 7.5 Hacer un listado con el nombre de jugadores que tienen una altura ‘normal’ y un peso ‘alto’. Ordenar alfabéticamente por nombre."
   ]
  }
 ],
 "metadata": {
  "kernelspec": {
   "display_name": "Python 3",
   "language": "python",
   "name": "python3"
  },
  "language_info": {
   "codemirror_mode": {
    "name": "ipython",
    "version": 3
   },
   "file_extension": ".py",
   "mimetype": "text/x-python",
   "name": "python",
   "nbconvert_exporter": "python",
   "pygments_lexer": "ipython3",
   "version": "3.7.6"
  }
 },
 "nbformat": 4,
 "nbformat_minor": 4
}
