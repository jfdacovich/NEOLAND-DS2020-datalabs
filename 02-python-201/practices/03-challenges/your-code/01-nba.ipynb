{
 "cells": [
  {
   "cell_type": "markdown",
   "metadata": {},
   "source": [
    "# Programación 201\n",
    "\n",
    "# NBA player of the week"
   ]
  },
  {
   "cell_type": "markdown",
   "metadata": {},
   "source": [
    "### Ejercicio 1\n",
    "\n",
    "# Descripción y enunciado\n",
    "El objetivo de esta actividad es la gestión y preparación de datos. La gestión de datos es una parte muy importante de cualquier proceso de minería de datos, ya que los datos se deben preparar y preprocesar antes de iniciar el proceso de extracción de conocimiento.\n",
    "Esta tarea ilustra algunos de los procedimientos básicos con los que nos podemos encontrar para preparar los datos: analizar los tipos de datos, tranformar valores, detectar e eliminar outliers, hacer un muestreo, etcétera.\n",
    "\n",
    "# Fichero de datos\n",
    "El conjunto de datos con el que trabajaremos en esta actividad surge de la bases de datos disponibles en Kaggle . En concreto, los datos corresponden a los jugadores nombrados jugadores de la semana desde la temporada 1984-1985 hasta la temporada 2017-2018. Estos datos nos ofrecen múltiples posibilidades para consolidar los conocimientos y competencias de manipulación de datos, preprocesado y análisis descriptivo. El fichero `NBA_player_of_the_week.csv` se encuentra adjunto.\n",
    "\n",
    "\n",
    "# Ingesta de datos\n",
    "Actualmente el fichero se encuentra en la misma carpeta de datos RMD, está en adjunto. Se enviará nueva práctica similar con los datos de ingesta a través de scraping / API / base de datos para R y Python.\n",
    "\n",
    "\n",
    "# Valoraciones\n",
    "- se valorarán los trabajos por los detalles, no vale con el solo enviar un trozo de código, sino la explicación es fundamental\n",
    "- explicar además los resumen de cada sección (carga, preparación, EDA, limpieza, nuevos atributos, discretización, split train-test)\n",
    "- conclusiones y comparativas son los más importantes para comenzar con Data Mining."
   ]
  },
  {
   "cell_type": "markdown",
   "metadata": {},
   "source": [
    "### 1) Cargar un juego de datos "
   ]
  },
  {
   "cell_type": "markdown",
   "metadata": {},
   "source": [
    "`Librerías:`"
   ]
  },
  {
   "cell_type": "code",
   "execution_count": 1,
   "metadata": {},
   "outputs": [],
   "source": [
    "import pandas as pd\n",
    "import numpy as np"
   ]
  },
  {
   "cell_type": "markdown",
   "metadata": {},
   "source": [
    "`Carga de datos:`"
   ]
  },
  {
   "cell_type": "code",
   "execution_count": 2,
   "metadata": {},
   "outputs": [],
   "source": [
    "nba = pd.read_csv(\"NBA_player_of_the_week.csv\")"
   ]
  },
  {
   "cell_type": "markdown",
   "metadata": {},
   "source": [
    "### 2) Descripción de los datos\n",
    "\n",
    "Describir brevemente la estructura de los datos: qué tipo de datos contiene, número de filas y columnas y nombre de las columnas. Realizar un resumen descriptivo de los datos."
   ]
  },
  {
   "cell_type": "code",
   "execution_count": 3,
   "metadata": {},
   "outputs": [
    {
     "data": {
      "text/plain": [
       "pandas.core.frame.DataFrame"
      ]
     },
     "execution_count": 3,
     "metadata": {},
     "output_type": "execute_result"
    }
   ],
   "source": [
    "# Tipo de datos que contiene\n",
    "type(nba)"
   ]
  },
  {
   "cell_type": "code",
   "execution_count": 4,
   "metadata": {},
   "outputs": [
    {
     "data": {
      "text/plain": [
       "Age                    int64\n",
       "Conference            object\n",
       "Date                  object\n",
       "Draft Year             int64\n",
       "Height                object\n",
       "Player                object\n",
       "Position              object\n",
       "Season                object\n",
       "Season short           int64\n",
       "Seasons in league      int64\n",
       "Team                  object\n",
       "Weight                object\n",
       "Real_value           float64\n",
       "dtype: object"
      ]
     },
     "execution_count": 4,
     "metadata": {},
     "output_type": "execute_result"
    }
   ],
   "source": [
    "# Observamos el tipo de dato por dimensión\n",
    "nba.dtypes"
   ]
  },
  {
   "cell_type": "code",
   "execution_count": 5,
   "metadata": {},
   "outputs": [
    {
     "name": "stdout",
     "output_type": "stream",
     "text": [
      "- El dataframe 'NBA_player_of_the_week' contiene: 1145 filas\n",
      "- Nombres de las columnas : ['Age' 'Conference' 'Date' 'Draft Year' 'Height' 'Player' 'Position'\n",
      " 'Season' 'Season short' 'Seasons in league' 'Team' 'Weight' 'Real_value']\n"
     ]
    }
   ],
   "source": [
    "# Número de filas:\n",
    "print(\"- El dataframe 'NBA_player_of_the_week' contiene: {} filas\".format(len(nba)))\n",
    "# Nombre de columnas:\n",
    "print(\"- Nombres de las columnas : {}\".format(nba.columns.values))"
   ]
  },
  {
   "cell_type": "code",
   "execution_count": 6,
   "metadata": {},
   "outputs": [
    {
     "data": {
      "text/html": [
       "<div>\n",
       "<style scoped>\n",
       "    .dataframe tbody tr th:only-of-type {\n",
       "        vertical-align: middle;\n",
       "    }\n",
       "\n",
       "    .dataframe tbody tr th {\n",
       "        vertical-align: top;\n",
       "    }\n",
       "\n",
       "    .dataframe thead th {\n",
       "        text-align: right;\n",
       "    }\n",
       "</style>\n",
       "<table border=\"1\" class=\"dataframe\">\n",
       "  <thead>\n",
       "    <tr style=\"text-align: right;\">\n",
       "      <th></th>\n",
       "      <th>Age</th>\n",
       "      <th>Draft Year</th>\n",
       "      <th>Season short</th>\n",
       "      <th>Seasons in league</th>\n",
       "      <th>Real_value</th>\n",
       "    </tr>\n",
       "  </thead>\n",
       "  <tbody>\n",
       "    <tr>\n",
       "      <th>count</th>\n",
       "      <td>1145.000000</td>\n",
       "      <td>1145.000000</td>\n",
       "      <td>1145.000000</td>\n",
       "      <td>1145.000000</td>\n",
       "      <td>1145.000000</td>\n",
       "    </tr>\n",
       "    <tr>\n",
       "      <th>mean</th>\n",
       "      <td>26.772926</td>\n",
       "      <td>1997.244541</td>\n",
       "      <td>2004.211354</td>\n",
       "      <td>5.869869</td>\n",
       "      <td>0.667686</td>\n",
       "    </tr>\n",
       "    <tr>\n",
       "      <th>std</th>\n",
       "      <td>3.402354</td>\n",
       "      <td>9.381369</td>\n",
       "      <td>9.426976</td>\n",
       "      <td>3.271995</td>\n",
       "      <td>0.236163</td>\n",
       "    </tr>\n",
       "    <tr>\n",
       "      <th>min</th>\n",
       "      <td>19.000000</td>\n",
       "      <td>1969.000000</td>\n",
       "      <td>1985.000000</td>\n",
       "      <td>0.000000</td>\n",
       "      <td>0.500000</td>\n",
       "    </tr>\n",
       "    <tr>\n",
       "      <th>25%</th>\n",
       "      <td>24.000000</td>\n",
       "      <td>1990.000000</td>\n",
       "      <td>1997.000000</td>\n",
       "      <td>3.000000</td>\n",
       "      <td>0.500000</td>\n",
       "    </tr>\n",
       "    <tr>\n",
       "      <th>50%</th>\n",
       "      <td>26.000000</td>\n",
       "      <td>1998.000000</td>\n",
       "      <td>2006.000000</td>\n",
       "      <td>6.000000</td>\n",
       "      <td>0.500000</td>\n",
       "    </tr>\n",
       "    <tr>\n",
       "      <th>75%</th>\n",
       "      <td>29.000000</td>\n",
       "      <td>2004.000000</td>\n",
       "      <td>2012.000000</td>\n",
       "      <td>8.000000</td>\n",
       "      <td>1.000000</td>\n",
       "    </tr>\n",
       "    <tr>\n",
       "      <th>max</th>\n",
       "      <td>40.000000</td>\n",
       "      <td>2016.000000</td>\n",
       "      <td>2018.000000</td>\n",
       "      <td>17.000000</td>\n",
       "      <td>1.000000</td>\n",
       "    </tr>\n",
       "  </tbody>\n",
       "</table>\n",
       "</div>"
      ],
      "text/plain": [
       "               Age   Draft Year  Season short  Seasons in league   Real_value\n",
       "count  1145.000000  1145.000000   1145.000000        1145.000000  1145.000000\n",
       "mean     26.772926  1997.244541   2004.211354           5.869869     0.667686\n",
       "std       3.402354     9.381369      9.426976           3.271995     0.236163\n",
       "min      19.000000  1969.000000   1985.000000           0.000000     0.500000\n",
       "25%      24.000000  1990.000000   1997.000000           3.000000     0.500000\n",
       "50%      26.000000  1998.000000   2006.000000           6.000000     0.500000\n",
       "75%      29.000000  2004.000000   2012.000000           8.000000     1.000000\n",
       "max      40.000000  2016.000000   2018.000000          17.000000     1.000000"
      ]
     },
     "execution_count": 6,
     "metadata": {},
     "output_type": "execute_result"
    }
   ],
   "source": [
    "# Estadísticas básicas: \n",
    "nba.describe()"
   ]
  },
  {
   "cell_type": "markdown",
   "metadata": {},
   "source": [
    "### 3) Preparación de la base de datos\n",
    "#### 3.1 Asignar NA a los valores ausentes en los datos de `Conference`."
   ]
  },
  {
   "cell_type": "code",
   "execution_count": 7,
   "metadata": {},
   "outputs": [
    {
     "data": {
      "text/plain": [
       "Age                    0\n",
       "Conference           384\n",
       "Date                   0\n",
       "Draft Year             0\n",
       "Height                 0\n",
       "Player                 0\n",
       "Position               0\n",
       "Season                 0\n",
       "Season short           0\n",
       "Seasons in league      0\n",
       "Team                   0\n",
       "Weight                 0\n",
       "Real_value             0\n",
       "dtype: int64"
      ]
     },
     "execution_count": 7,
     "metadata": {},
     "output_type": "execute_result"
    }
   ],
   "source": [
    "# Reviso los valores ausentes por Variable\n",
    "nba.isna().sum()"
   ]
  },
  {
   "cell_type": "code",
   "execution_count": 8,
   "metadata": {},
   "outputs": [
    {
     "data": {
      "text/plain": [
       "NaN     384\n",
       "East    381\n",
       "West    380\n",
       "Name: Conference, dtype: int64"
      ]
     },
     "execution_count": 8,
     "metadata": {},
     "output_type": "execute_result"
    }
   ],
   "source": [
    "# Reviso los valores que componen la variable Conference\n",
    "nba.Conference.value_counts(dropna = False)"
   ]
  },
  {
   "cell_type": "code",
   "execution_count": 9,
   "metadata": {},
   "outputs": [],
   "source": [
    "# Al no haber valores automáticamente se generean NaN , sin embargo voy a asignar el valor NA a cada uno de ellos:\n",
    "nba.Conference.fillna(\"Na\", inplace=True)"
   ]
  },
  {
   "cell_type": "code",
   "execution_count": 10,
   "metadata": {},
   "outputs": [
    {
     "name": "stdout",
     "output_type": "stream",
     "text": [
      "['Na' 'East' 'West']\n"
     ]
    }
   ],
   "source": [
    "# Realizamos la comprobación de que la asignación ha sido correcta\n",
    "print(nba.Conference.unique())"
   ]
  },
  {
   "cell_type": "markdown",
   "metadata": {},
   "source": [
    "#### 3.2 Transformar los datos de Conference en variable categórica y mostrar la tabla de frecuencia."
   ]
  },
  {
   "cell_type": "code",
   "execution_count": 11,
   "metadata": {},
   "outputs": [
    {
     "data": {
      "text/plain": [
       "CategoricalDtype(categories=['East', 'Na', 'West'], ordered=False)"
      ]
     },
     "execution_count": 11,
     "metadata": {},
     "output_type": "execute_result"
    }
   ],
   "source": [
    "# Transformación de los datos de `Conference`\n",
    "nba[\"Conference\"] = nba.Conference.astype(\"category\")\n",
    "# Comprobamos la transformación\n",
    "nba.Conference.dtypes"
   ]
  },
  {
   "cell_type": "code",
   "execution_count": 12,
   "metadata": {},
   "outputs": [
    {
     "data": {
      "text/plain": [
       "Na      384\n",
       "East    381\n",
       "West    380\n",
       "Name: Conference, dtype: int64"
      ]
     },
     "execution_count": 12,
     "metadata": {},
     "output_type": "execute_result"
    }
   ],
   "source": [
    "# Tabla de frecuencia\n",
    "nba.Conference.value_counts()"
   ]
  },
  {
   "cell_type": "markdown",
   "metadata": {},
   "source": [
    "#### 3.3 Comprobar que la variable tiene xxx valores ausentes"
   ]
  },
  {
   "cell_type": "code",
   "execution_count": 13,
   "metadata": {},
   "outputs": [
    {
     "data": {
      "text/plain": [
       "Conference\n",
       "East    381\n",
       "Na      384\n",
       "West    380\n",
       "Name: Conference, dtype: int64"
      ]
     },
     "execution_count": 13,
     "metadata": {},
     "output_type": "execute_result"
    }
   ],
   "source": [
    "# Recordemos que los valores ausentes fueron sustituidos por \"Na\"\n",
    "nba.groupby(['Conference'])['Conference'].count()"
   ]
  },
  {
   "cell_type": "markdown",
   "metadata": {},
   "source": [
    "#### 3.4 Transformar las variables Height, Player, Position, Season, Team y Weight en variables categóricas."
   ]
  },
  {
   "cell_type": "code",
   "execution_count": 14,
   "metadata": {},
   "outputs": [],
   "source": [
    "nba[\"Height\"] = nba.Height.astype(\"category\")\n",
    "nba[\"Player\"] = nba.Player.astype(\"category\")\n",
    "nba[\"Position\"] = nba.Position.astype(\"category\")\n",
    "nba[\"Season\"] = nba.Season.astype(\"category\")\n",
    "nba[\"Team\"] = nba.Team.astype(\"category\")\n",
    "nba[\"Weight\"] = nba.Weight.astype(\"category\")"
   ]
  },
  {
   "cell_type": "markdown",
   "metadata": {},
   "source": [
    "#### 3.5 Comprobar que estas variables no tienen valores perdidos."
   ]
  },
  {
   "cell_type": "code",
   "execution_count": 15,
   "metadata": {},
   "outputs": [
    {
     "data": {
      "text/plain": [
       "Height      0\n",
       "Player      0\n",
       "Position    0\n",
       "Season      0\n",
       "Team        0\n",
       "Weight      0\n",
       "dtype: int64"
      ]
     },
     "execution_count": 15,
     "metadata": {},
     "output_type": "execute_result"
    }
   ],
   "source": [
    "# Comprobamos que las variables transformadas no contengan valores perdidos tras realizar la suma de los elementos\n",
    "nba[[\"Height\", \"Player\", \"Position\", \"Season\", \"Team\", \"Weight\"]].isna().sum()"
   ]
  },
  {
   "cell_type": "markdown",
   "metadata": {},
   "source": [
    "#### 3.6 Calcular el número de anyos que pasan entre que salio el jugador elegido en el draft y la temporada en la que fue jugador de la semana. Denomina la variable tiempo"
   ]
  },
  {
   "cell_type": "code",
   "execution_count": 16,
   "metadata": {},
   "outputs": [],
   "source": [
    "nba[\"Tiempo\"] = nba[\"Season short\"] - nba[\"Draft Year\"]"
   ]
  },
  {
   "cell_type": "code",
   "execution_count": 17,
   "metadata": {},
   "outputs": [
    {
     "data": {
      "text/html": [
       "<div>\n",
       "<style scoped>\n",
       "    .dataframe tbody tr th:only-of-type {\n",
       "        vertical-align: middle;\n",
       "    }\n",
       "\n",
       "    .dataframe tbody tr th {\n",
       "        vertical-align: top;\n",
       "    }\n",
       "\n",
       "    .dataframe thead th {\n",
       "        text-align: right;\n",
       "    }\n",
       "</style>\n",
       "<table border=\"1\" class=\"dataframe\">\n",
       "  <thead>\n",
       "    <tr style=\"text-align: right;\">\n",
       "      <th></th>\n",
       "      <th>Season short</th>\n",
       "      <th>Draft Year</th>\n",
       "      <th>Tiempo</th>\n",
       "    </tr>\n",
       "  </thead>\n",
       "  <tbody>\n",
       "    <tr>\n",
       "      <th>0</th>\n",
       "      <td>1985</td>\n",
       "      <td>1978</td>\n",
       "      <td>7</td>\n",
       "    </tr>\n",
       "    <tr>\n",
       "      <th>1</th>\n",
       "      <td>1985</td>\n",
       "      <td>1982</td>\n",
       "      <td>3</td>\n",
       "    </tr>\n",
       "    <tr>\n",
       "      <th>2</th>\n",
       "      <td>1985</td>\n",
       "      <td>1979</td>\n",
       "      <td>6</td>\n",
       "    </tr>\n",
       "    <tr>\n",
       "      <th>3</th>\n",
       "      <td>1985</td>\n",
       "      <td>1969</td>\n",
       "      <td>16</td>\n",
       "    </tr>\n",
       "    <tr>\n",
       "      <th>4</th>\n",
       "      <td>1985</td>\n",
       "      <td>1978</td>\n",
       "      <td>7</td>\n",
       "    </tr>\n",
       "    <tr>\n",
       "      <th>5</th>\n",
       "      <td>1985</td>\n",
       "      <td>1980</td>\n",
       "      <td>5</td>\n",
       "    </tr>\n",
       "    <tr>\n",
       "      <th>6</th>\n",
       "      <td>1985</td>\n",
       "      <td>1982</td>\n",
       "      <td>3</td>\n",
       "    </tr>\n",
       "    <tr>\n",
       "      <th>7</th>\n",
       "      <td>1985</td>\n",
       "      <td>1981</td>\n",
       "      <td>4</td>\n",
       "    </tr>\n",
       "    <tr>\n",
       "      <th>8</th>\n",
       "      <td>1985</td>\n",
       "      <td>1979</td>\n",
       "      <td>6</td>\n",
       "    </tr>\n",
       "    <tr>\n",
       "      <th>9</th>\n",
       "      <td>1985</td>\n",
       "      <td>1982</td>\n",
       "      <td>3</td>\n",
       "    </tr>\n",
       "  </tbody>\n",
       "</table>\n",
       "</div>"
      ],
      "text/plain": [
       "   Season short  Draft Year  Tiempo\n",
       "0          1985        1978       7\n",
       "1          1985        1982       3\n",
       "2          1985        1979       6\n",
       "3          1985        1969      16\n",
       "4          1985        1978       7\n",
       "5          1985        1980       5\n",
       "6          1985        1982       3\n",
       "7          1985        1981       4\n",
       "8          1985        1979       6\n",
       "9          1985        1982       3"
      ]
     },
     "execution_count": 17,
     "metadata": {},
     "output_type": "execute_result"
    }
   ],
   "source": [
    "# Traemos las variables involucradas y comprobamos\n",
    "nba[[\"Season short\", \"Draft Year\", \"Tiempo\"]].head(10)"
   ]
  },
  {
   "cell_type": "markdown",
   "metadata": {},
   "source": [
    "####  3.7 ¿Cual es el número de años que más veces se repite entre que salen elegidos en el draft y se proclaman mejores jugadores? (moda de la variable tiempo)"
   ]
  },
  {
   "cell_type": "code",
   "execution_count": 18,
   "metadata": {},
   "outputs": [
    {
     "data": {
      "text/plain": [
       "0    7\n",
       "dtype: int64"
      ]
     },
     "execution_count": 18,
     "metadata": {},
     "output_type": "execute_result"
    }
   ],
   "source": [
    "# Podemos observar que el año que más se repite es:\n",
    "nba.Tiempo.mode()"
   ]
  },
  {
   "cell_type": "markdown",
   "metadata": {},
   "source": [
    "#### 3.8 La altura de los jugadores está expresada en pies (aquellas con guión) y cm. Convertir la altura expresada en pies a centimetros (https://www.piesametros.info/](https://www.piesametros.info/). Posteriormente, eliminar el texto “cm” de los datos de tipo altura y convertir la variable en numérica. Calcular media, desviación típica y boxplot."
   ]
  },
  {
   "cell_type": "code",
   "execution_count": 19,
   "metadata": {},
   "outputs": [],
   "source": [
    "# Realizamos la conversión de la variable:\n",
    "nba.Height = nba.Height.astype(str)\n",
    "\n",
    "#Iteramos:\n",
    "for i in range(len(nba['Height'])):\n",
    "    # Si encuentra un '-' entonces vamos a crear una variable en la cual almacenaremos la separación pies y pulgadas\n",
    "    if \"-\" in nba['Height'][i]:\n",
    "        Variable = nba['Height'][i].split(\"-\")\n",
    "        # Aplicaremos la conversión de pies y pulgadas a centímetros y redondeamos el resultado y\n",
    "        # realizaremos la correspondiente asignacion\n",
    "        nba.loc[i, 'Height'] = round(int(Variable[0]) * 30.48 + (int(Variable[1]) * 2.54),0)\n",
    "    elif \"cm\" in nba['Height'][i]:\n",
    "        #En donde encontremos 'cm' haremos un reemplazo\n",
    "        nba.loc[i, 'Height'] = nba['Height'][i].replace(\"cm\", \"\")\n",
    "# Para poder realizar operaciones luego de haber depurado la data convertimos la variable a numerica     \n",
    "nba.Height = nba.Height.astype('float')\n"
   ]
  },
  {
   "cell_type": "code",
   "execution_count": 20,
   "metadata": {},
   "outputs": [
    {
     "data": {
      "text/plain": [
       "mean    200.992140\n",
       "std       9.468337\n",
       "Name: Height, dtype: float64"
      ]
     },
     "execution_count": 20,
     "metadata": {},
     "output_type": "execute_result"
    }
   ],
   "source": [
    "# Realizamos el cálculo de la media y la desviación típica\n",
    "nba.Height.agg(['mean','std'])"
   ]
  },
  {
   "cell_type": "code",
   "execution_count": 21,
   "metadata": {},
   "outputs": [
    {
     "data": {
      "text/plain": [
       "<matplotlib.axes._subplots.AxesSubplot at 0x11ec1e890>"
      ]
     },
     "execution_count": 21,
     "metadata": {},
     "output_type": "execute_result"
    },
    {
     "data": {
      "image/png": "[encoded data removed]",
      "text/plain": [
       "<Figure size 432x288 with 1 Axes>"
      ]
     },
     "metadata": {
      "needs_background": "light"
     },
     "output_type": "display_data"
    }
   ],
   "source": [
    "# Boxplot\n",
    "nba.boxplot(column=['Height'])"
   ]
  },
  {
   "cell_type": "markdown",
   "metadata": {},
   "source": [
    "#### 3.9 El peso de los jugadores está expresada en libras y kg. Convertir el peso expresado en kgs en libras [https://www.metric-conversions.org/es/peso/kilogramos-a-libras.htm](https://www.metric-conversions.org/es/peso/kilogramos-a-libras.htm). Convertir la variable en numérica.Calcular media, desviación típica y boxplot."
   ]
  },
  {
   "cell_type": "code",
   "execution_count": 23,
   "metadata": {},
   "outputs": [],
   "source": [
    "# Realizamos la conversión de la variable:\n",
    "nba.Weight = nba.Weight.astype(str)\n",
    "# 1) Remover 'Kg'\n",
    "# 2) convertir los pesos expresados en Kgs a libras\n",
    "# Iteramos\n",
    "for i in range(len(nba['Weight'])):\n",
    "    # 1 Kg = 2.205 Libras\n",
    "    # Al momento de encontrar 'kg' realizaremos un reemplazo y procederemos a convertir los kg en libras\n",
    "    if 'kg' in nba['Weight'][i]:\n",
    "        nba.loc[i,'Weight'] = int(nba['Weight'][i].replace('kg','')) *2.20    \n",
    "#Los valores que no estén acompañados con el str 'kg' se encuentran expresados en libras por lo que no haremos ninguna conversión  "
   ]
  },
  {
   "cell_type": "code",
   "execution_count": 24,
   "metadata": {},
   "outputs": [],
   "source": [
    "# Para poder realizar operaciones luego de haber depurado la data convertimos la variable a numerica     \n",
    "nba.Weight = nba.Weight.astype('float')"
   ]
  },
  {
   "cell_type": "code",
   "execution_count": 25,
   "metadata": {},
   "outputs": [
    {
     "data": {
      "text/plain": [
       "mean    225.967162\n",
       "std      31.578248\n",
       "Name: Weight, dtype: float64"
      ]
     },
     "execution_count": 25,
     "metadata": {},
     "output_type": "execute_result"
    }
   ],
   "source": [
    "# Realizamos el cálculo de la media y la desviación típica\n",
    "nba.Weight.agg(['mean','std'])"
   ]
  },
  {
   "cell_type": "code",
   "execution_count": 26,
   "metadata": {},
   "outputs": [
    {
     "data": {
      "text/plain": [
       "<matplotlib.axes._subplots.AxesSubplot at 0x11fa5ea90>"
      ]
     },
     "execution_count": 26,
     "metadata": {},
     "output_type": "execute_result"
    },
    {
     "data": {
      "image/png": "[encoded data removed]",
      "text/plain": [
       "<Figure size 432x288 with 1 Axes>"
      ]
     },
     "metadata": {
      "needs_background": "light"
     },
     "output_type": "display_data"
    }
   ],
   "source": [
    "# Boxplot\n",
    "nba.boxplot(column=['Weight'])"
   ]
  },
  {
   "cell_type": "markdown",
   "metadata": {},
   "source": [
    "### 4 Información sobre posiciones en el campo y equipos.\n",
    "#### 4.1 Fusionar las categorias de posición en el campo F,F-C y FC en la categoría genérica Forward. Fusionar las categorias G,G-F y GF en la categoria genérica Guard. Renombrar la categoría ‘PG’ como ‘Point Guard’, ‘SG’ como ‘Shooting Guard’, ‘SF’ como ‘Small Forward’, ‘PF’ como ‘Power Forward’ y ‘C’ como ‘Center’."
   ]
  },
  {
   "cell_type": "code",
   "execution_count": 32,
   "metadata": {},
   "outputs": [
    {
     "data": {
      "text/plain": [
       "G      178\n",
       "SG     164\n",
       "C      158\n",
       "PF     139\n",
       "F      125\n",
       "PG     120\n",
       "SF     119\n",
       "FC      83\n",
       "GF      47\n",
       "F-C      9\n",
       "G-F      3\n",
       "Name: Position, dtype: int64"
      ]
     },
     "execution_count": 32,
     "metadata": {},
     "output_type": "execute_result"
    }
   ],
   "source": [
    "nba.Position.value_counts()"
   ]
  },
  {
   "cell_type": "code",
   "execution_count": 42,
   "metadata": {},
   "outputs": [
    {
     "data": {
      "text/plain": [
       "array(['Point Guard', 'Shooting Guard', 'Forward', 'Center',\n",
       "       'Small Forward', 'Power Forward', 'Guard'], dtype=object)"
      ]
     },
     "execution_count": 42,
     "metadata": {},
     "output_type": "execute_result"
    }
   ],
   "source": [
    "# Lo haremos a través de la función replace, accediendo a través de un dict:\n",
    "nba = nba.replace({\"Position\":\n",
    "                {\"G\": \"Guard\", \"G-F\": \"Guard\", \"GF\": \"Guard\",\n",
    "                 \"F\": \"Forward\", \"F-C\":\"Forward\", \"FC\": \"Forward\",\n",
    "                 \"PG\":\"Point Guard\", \n",
    "                 \"SG\":\"Shooting Guard\",\n",
    "                 \"SF\": \"Small Forward\",\n",
    "                 \"PF\": \"Power Forward\",\n",
    "                 \"C\": \"Center\"}})\n",
    "# si nos pidieran renombrar columnas :nba.rename(columns={'A': 'bla', 'B': 'bla', 'C': 'bla'}\n",
    "# Verificamos\n",
    "nba['Position'].unique()"
   ]
  },
  {
   "cell_type": "markdown",
   "metadata": {},
   "source": [
    "#### 4.2 ¿En que posición ha sido más veces los jugadores de la semana nombrados?"
   ]
  },
  {
   "cell_type": "code",
   "execution_count": 37,
   "metadata": {},
   "outputs": [
    {
     "data": {
      "text/plain": [
       "0    Guard\n",
       "dtype: object"
      ]
     },
     "execution_count": 37,
     "metadata": {},
     "output_type": "execute_result"
    }
   ],
   "source": [
    "nba.Position.mode()"
   ]
  },
  {
   "cell_type": "markdown",
   "metadata": {},
   "source": [
    "#### 4.3 ¿Cuántos equipos distintos hay?"
   ]
  },
  {
   "cell_type": "code",
   "execution_count": 39,
   "metadata": {},
   "outputs": [
    {
     "data": {
      "text/plain": [
       "35"
      ]
     },
     "execution_count": 39,
     "metadata": {},
     "output_type": "execute_result"
    }
   ],
   "source": [
    "len(nba[\"Team\"].unique())"
   ]
  },
  {
   "cell_type": "markdown",
   "metadata": {},
   "source": [
    "#### 4.4 ¿Cuáles son los cinco equipos que más veces han sido nombrados sus jugadores como jugador de la semana?"
   ]
  },
  {
   "cell_type": "code",
   "execution_count": 43,
   "metadata": {},
   "outputs": [
    {
     "data": {
      "text/plain": [
       "Los Angeles Lakers     71\n",
       "San Antonio Spurs      61\n",
       "Cleveland Cavaliers    59\n",
       "Miami Heat             57\n",
       "Houston Rockets        56\n",
       "Name: Team, dtype: int64"
      ]
     },
     "execution_count": 43,
     "metadata": {},
     "output_type": "execute_result"
    }
   ],
   "source": [
    "(nba.Team.value_counts()).head(5)"
   ]
  },
  {
   "cell_type": "markdown",
   "metadata": {},
   "source": [
    "### 5 Información sobre jugadores. Estadísticos descriptivos.\n",
    "#### 5.1 Crear una base datos denominada nba.unique en la que no se repita el nombre de ningún jugador.Trabajar a partir de ahora con esta base de datos."
   ]
  },
  {
   "cell_type": "code",
   "execution_count": 44,
   "metadata": {},
   "outputs": [],
   "source": [
    "nba_unique = nba.drop_duplicates(\"Player\")"
   ]
  },
  {
   "cell_type": "code",
   "execution_count": 51,
   "metadata": {},
   "outputs": [
    {
     "name": "stdout",
     "output_type": "stream",
     "text": [
      "(274, 14)\n"
     ]
    },
    {
     "data": {
      "text/html": [
       "<div>\n",
       "<style scoped>\n",
       "    .dataframe tbody tr th:only-of-type {\n",
       "        vertical-align: middle;\n",
       "    }\n",
       "\n",
       "    .dataframe tbody tr th {\n",
       "        vertical-align: top;\n",
       "    }\n",
       "\n",
       "    .dataframe thead th {\n",
       "        text-align: right;\n",
       "    }\n",
       "</style>\n",
       "<table border=\"1\" class=\"dataframe\">\n",
       "  <thead>\n",
       "    <tr style=\"text-align: right;\">\n",
       "      <th></th>\n",
       "      <th>Age</th>\n",
       "      <th>Conference</th>\n",
       "      <th>Date</th>\n",
       "      <th>Draft Year</th>\n",
       "      <th>Height</th>\n",
       "      <th>Player</th>\n",
       "      <th>Position</th>\n",
       "      <th>Season</th>\n",
       "      <th>Season short</th>\n",
       "      <th>Seasons in league</th>\n",
       "      <th>Team</th>\n",
       "      <th>Weight</th>\n",
       "      <th>Real_value</th>\n",
       "      <th>Tiempo</th>\n",
       "    </tr>\n",
       "  </thead>\n",
       "  <tbody>\n",
       "    <tr>\n",
       "      <th>0</th>\n",
       "      <td>29</td>\n",
       "      <td>Na</td>\n",
       "      <td>Apr 14, 1985</td>\n",
       "      <td>1978</td>\n",
       "      <td>196.0</td>\n",
       "      <td>Micheal Ray Richardson</td>\n",
       "      <td>Point Guard</td>\n",
       "      <td>1984-1985</td>\n",
       "      <td>1985</td>\n",
       "      <td>6</td>\n",
       "      <td>New Jersey Nets</td>\n",
       "      <td>189.0</td>\n",
       "      <td>1.0</td>\n",
       "      <td>7</td>\n",
       "    </tr>\n",
       "    <tr>\n",
       "      <th>1</th>\n",
       "      <td>23</td>\n",
       "      <td>Na</td>\n",
       "      <td>Apr 7, 1985</td>\n",
       "      <td>1982</td>\n",
       "      <td>198.0</td>\n",
       "      <td>Derek Smith</td>\n",
       "      <td>Shooting Guard</td>\n",
       "      <td>1984-1985</td>\n",
       "      <td>1985</td>\n",
       "      <td>2</td>\n",
       "      <td>Los Angeles Clippers</td>\n",
       "      <td>205.0</td>\n",
       "      <td>1.0</td>\n",
       "      <td>3</td>\n",
       "    </tr>\n",
       "    <tr>\n",
       "      <th>2</th>\n",
       "      <td>28</td>\n",
       "      <td>Na</td>\n",
       "      <td>Apr 1, 1985</td>\n",
       "      <td>1979</td>\n",
       "      <td>198.0</td>\n",
       "      <td>Calvin Natt</td>\n",
       "      <td>Forward</td>\n",
       "      <td>1984-1985</td>\n",
       "      <td>1985</td>\n",
       "      <td>5</td>\n",
       "      <td>Denver Nuggets</td>\n",
       "      <td>220.0</td>\n",
       "      <td>1.0</td>\n",
       "      <td>6</td>\n",
       "    </tr>\n",
       "    <tr>\n",
       "      <th>3</th>\n",
       "      <td>37</td>\n",
       "      <td>Na</td>\n",
       "      <td>Mar 24, 1985</td>\n",
       "      <td>1969</td>\n",
       "      <td>218.0</td>\n",
       "      <td>Kareem Abdul-Jabbar</td>\n",
       "      <td>Center</td>\n",
       "      <td>1984-1985</td>\n",
       "      <td>1985</td>\n",
       "      <td>15</td>\n",
       "      <td>Los Angeles Lakers</td>\n",
       "      <td>225.0</td>\n",
       "      <td>1.0</td>\n",
       "      <td>16</td>\n",
       "    </tr>\n",
       "    <tr>\n",
       "      <th>4</th>\n",
       "      <td>28</td>\n",
       "      <td>Na</td>\n",
       "      <td>Mar 17, 1985</td>\n",
       "      <td>1978</td>\n",
       "      <td>206.0</td>\n",
       "      <td>Larry Bird</td>\n",
       "      <td>Small Forward</td>\n",
       "      <td>1984-1985</td>\n",
       "      <td>1985</td>\n",
       "      <td>5</td>\n",
       "      <td>Boston Celtics</td>\n",
       "      <td>220.0</td>\n",
       "      <td>1.0</td>\n",
       "      <td>7</td>\n",
       "    </tr>\n",
       "  </tbody>\n",
       "</table>\n",
       "</div>"
      ],
      "text/plain": [
       "   Age Conference          Date  Draft Year  Height                  Player  \\\n",
       "0   29         Na  Apr 14, 1985        1978   196.0  Micheal Ray Richardson   \n",
       "1   23         Na   Apr 7, 1985        1982   198.0             Derek Smith   \n",
       "2   28         Na   Apr 1, 1985        1979   198.0             Calvin Natt   \n",
       "3   37         Na  Mar 24, 1985        1969   218.0     Kareem Abdul-Jabbar   \n",
       "4   28         Na  Mar 17, 1985        1978   206.0              Larry Bird   \n",
       "\n",
       "         Position     Season  Season short  Seasons in league  \\\n",
       "0     Point Guard  1984-1985          1985                  6   \n",
       "1  Shooting Guard  1984-1985          1985                  2   \n",
       "2         Forward  1984-1985          1985                  5   \n",
       "3          Center  1984-1985          1985                 15   \n",
       "4   Small Forward  1984-1985          1985                  5   \n",
       "\n",
       "                   Team  Weight  Real_value  Tiempo  \n",
       "0       New Jersey Nets   189.0         1.0       7  \n",
       "1  Los Angeles Clippers   205.0         1.0       3  \n",
       "2        Denver Nuggets   220.0         1.0       6  \n",
       "3    Los Angeles Lakers   225.0         1.0      16  \n",
       "4        Boston Celtics   220.0         1.0       7  "
      ]
     },
     "execution_count": 51,
     "metadata": {},
     "output_type": "execute_result"
    }
   ],
   "source": [
    "print(nba_unique.shape)\n",
    "nba_unique.head()\n"
   ]
  },
  {
   "cell_type": "markdown",
   "metadata": {},
   "source": [
    "#### 5.2 Listar el nombre de los 10 jugadores más bajos que han sido nombrados alguna vez jugadores de la semana. No debe repetirse ningún nombre."
   ]
  },
  {
   "cell_type": "code",
   "execution_count": 58,
   "metadata": {},
   "outputs": [
    {
     "data": {
      "text/html": [
       "<div>\n",
       "<style scoped>\n",
       "    .dataframe tbody tr th:only-of-type {\n",
       "        vertical-align: middle;\n",
       "    }\n",
       "\n",
       "    .dataframe tbody tr th {\n",
       "        vertical-align: top;\n",
       "    }\n",
       "\n",
       "    .dataframe thead th {\n",
       "        text-align: right;\n",
       "    }\n",
       "</style>\n",
       "<table border=\"1\" class=\"dataframe\">\n",
       "  <thead>\n",
       "    <tr style=\"text-align: right;\">\n",
       "      <th></th>\n",
       "      <th>Player</th>\n",
       "      <th>Height</th>\n",
       "    </tr>\n",
       "  </thead>\n",
       "  <tbody>\n",
       "    <tr>\n",
       "      <th>967</th>\n",
       "      <td>Isaiah Thomas</td>\n",
       "      <td>175.0</td>\n",
       "    </tr>\n",
       "    <tr>\n",
       "      <th>893</th>\n",
       "      <td>Nate Robinson</td>\n",
       "      <td>175.0</td>\n",
       "    </tr>\n",
       "    <tr>\n",
       "      <th>110</th>\n",
       "      <td>Michael Adams</td>\n",
       "      <td>178.0</td>\n",
       "    </tr>\n",
       "    <tr>\n",
       "      <th>858</th>\n",
       "      <td>Ty Lawson</td>\n",
       "      <td>180.0</td>\n",
       "    </tr>\n",
       "    <tr>\n",
       "      <th>273</th>\n",
       "      <td>Terrell Brandon</td>\n",
       "      <td>180.0</td>\n",
       "    </tr>\n",
       "    <tr>\n",
       "      <th>125</th>\n",
       "      <td>Tim Hardaway</td>\n",
       "      <td>183.0</td>\n",
       "    </tr>\n",
       "    <tr>\n",
       "      <th>278</th>\n",
       "      <td>Allen Iverson</td>\n",
       "      <td>183.0</td>\n",
       "    </tr>\n",
       "    <tr>\n",
       "      <th>219</th>\n",
       "      <td>Kenny Anderson</td>\n",
       "      <td>183.0</td>\n",
       "    </tr>\n",
       "    <tr>\n",
       "      <th>251</th>\n",
       "      <td>Elliot Perry</td>\n",
       "      <td>183.0</td>\n",
       "    </tr>\n",
       "    <tr>\n",
       "      <th>586</th>\n",
       "      <td>Chris Paul</td>\n",
       "      <td>183.0</td>\n",
       "    </tr>\n",
       "  </tbody>\n",
       "</table>\n",
       "</div>"
      ],
      "text/plain": [
       "              Player  Height\n",
       "967    Isaiah Thomas   175.0\n",
       "893    Nate Robinson   175.0\n",
       "110    Michael Adams   178.0\n",
       "858        Ty Lawson   180.0\n",
       "273  Terrell Brandon   180.0\n",
       "125     Tim Hardaway   183.0\n",
       "278    Allen Iverson   183.0\n",
       "219   Kenny Anderson   183.0\n",
       "251     Elliot Perry   183.0\n",
       "586       Chris Paul   183.0"
      ]
     },
     "execution_count": 58,
     "metadata": {},
     "output_type": "execute_result"
    }
   ],
   "source": [
    "(nba_unique[['Player','Height']].sort_values(by='Height', ascending = True)).head(10)"
   ]
  },
  {
   "cell_type": "markdown",
   "metadata": {},
   "source": [
    "#### 5.3 Listar el nombre de los 10 jugadores más altos que han sido nombrados y mostrar su altura. No debe repetirse ningún nombre."
   ]
  },
  {
   "cell_type": "code",
   "execution_count": 59,
   "metadata": {},
   "outputs": [
    {
     "data": {
      "text/html": [
       "<div>\n",
       "<style scoped>\n",
       "    .dataframe tbody tr th:only-of-type {\n",
       "        vertical-align: middle;\n",
       "    }\n",
       "\n",
       "    .dataframe tbody tr th {\n",
       "        vertical-align: top;\n",
       "    }\n",
       "\n",
       "    .dataframe thead th {\n",
       "        text-align: right;\n",
       "    }\n",
       "</style>\n",
       "<table border=\"1\" class=\"dataframe\">\n",
       "  <thead>\n",
       "    <tr style=\"text-align: right;\">\n",
       "      <th></th>\n",
       "      <th>Player</th>\n",
       "      <th>Height</th>\n",
       "    </tr>\n",
       "  </thead>\n",
       "  <tbody>\n",
       "    <tr>\n",
       "      <th>486</th>\n",
       "      <td>Yao Ming</td>\n",
       "      <td>229.0</td>\n",
       "    </tr>\n",
       "    <tr>\n",
       "      <th>236</th>\n",
       "      <td>Rik Smits</td>\n",
       "      <td>224.0</td>\n",
       "    </tr>\n",
       "    <tr>\n",
       "      <th>1139</th>\n",
       "      <td>Kristaps Porzingis</td>\n",
       "      <td>221.0</td>\n",
       "    </tr>\n",
       "    <tr>\n",
       "      <th>483</th>\n",
       "      <td>Zydrunas Ilgauskas</td>\n",
       "      <td>221.0</td>\n",
       "    </tr>\n",
       "    <tr>\n",
       "      <th>256</th>\n",
       "      <td>Arvydas Sabonis</td>\n",
       "      <td>221.0</td>\n",
       "    </tr>\n",
       "    <tr>\n",
       "      <th>3</th>\n",
       "      <td>Kareem Abdul-Jabbar</td>\n",
       "      <td>218.0</td>\n",
       "    </tr>\n",
       "    <tr>\n",
       "      <th>188</th>\n",
       "      <td>Dikembe Mutombo</td>\n",
       "      <td>218.0</td>\n",
       "    </tr>\n",
       "    <tr>\n",
       "      <th>206</th>\n",
       "      <td>Shaquille O'Neal</td>\n",
       "      <td>216.0</td>\n",
       "    </tr>\n",
       "    <tr>\n",
       "      <th>868</th>\n",
       "      <td>Marc Gasol</td>\n",
       "      <td>216.0</td>\n",
       "    </tr>\n",
       "    <tr>\n",
       "      <th>115</th>\n",
       "      <td>David Robinson</td>\n",
       "      <td>216.0</td>\n",
       "    </tr>\n",
       "  </tbody>\n",
       "</table>\n",
       "</div>"
      ],
      "text/plain": [
       "                   Player  Height\n",
       "486              Yao Ming   229.0\n",
       "236             Rik Smits   224.0\n",
       "1139   Kristaps Porzingis   221.0\n",
       "483    Zydrunas Ilgauskas   221.0\n",
       "256       Arvydas Sabonis   221.0\n",
       "3     Kareem Abdul-Jabbar   218.0\n",
       "188       Dikembe Mutombo   218.0\n",
       "206      Shaquille O'Neal   216.0\n",
       "868            Marc Gasol   216.0\n",
       "115        David Robinson   216.0"
      ]
     },
     "execution_count": 59,
     "metadata": {},
     "output_type": "execute_result"
    }
   ],
   "source": [
    "(nba_unique[['Player','Height']].sort_values(by='Height', ascending = False)).head(10)"
   ]
  },
  {
   "cell_type": "markdown",
   "metadata": {},
   "source": [
    "### 6 Eliminación de outliers.\n",
    "#### 6.1 Eliminar los outliers de la variable peso (Weight) y guardar en un data frame nba.avg"
   ]
  },
  {
   "cell_type": "code",
   "execution_count": null,
   "metadata": {},
   "outputs": [],
   "source": []
  },
  {
   "cell_type": "markdown",
   "metadata": {},
   "source": [
    "#### 6.2 Comparar los boxplots de los datos originales en nba.unique y de los datos del peso de nba.avg"
   ]
  },
  {
   "cell_type": "code",
   "execution_count": null,
   "metadata": {},
   "outputs": [],
   "source": []
  },
  {
   "cell_type": "markdown",
   "metadata": {},
   "source": [
    "#### 6.3 Interpretar los resultados"
   ]
  },
  {
   "cell_type": "code",
   "execution_count": null,
   "metadata": {},
   "outputs": [],
   "source": []
  },
  {
   "cell_type": "markdown",
   "metadata": {},
   "source": [
    "### 7 Clasificación de jugadores\n",
    "#### 7.1 Añadir una columna al conjunto de datos denominada “Altura” que contenga los valores: {“bajo”, “normal”, “alto”}. La asignación del valor depende de la altura de cada jugador. Se asigna:\n",
    "- bajo: los 50 jugadores más bajos\n",
    "- alto: los 50 jugadores más altos\n",
    "- normal: el resto de jugadores"
   ]
  },
  {
   "cell_type": "code",
   "execution_count": null,
   "metadata": {},
   "outputs": [],
   "source": []
  },
  {
   "cell_type": "markdown",
   "metadata": {},
   "source": [
    "#### 7.2 Añadir una columna al conjunto de datos denominada “Peso” que contenga los valores: {“bajo”, “normal”, “alto”}. La asignación del valor depende del peso de cada jugador. Se asigna:\n",
    "- bajo: los 50 jugadores con menor peso\n",
    "- alto: los 50 jugadores con mayor peso\n",
    "- normal: el resto de jugadores"
   ]
  },
  {
   "cell_type": "code",
   "execution_count": null,
   "metadata": {},
   "outputs": [],
   "source": []
  },
  {
   "cell_type": "markdown",
   "metadata": {},
   "source": [
    "#### 7.3 Calcular la media y desviación típica del peso (Weight) según la clasificación de altura de los jugadores."
   ]
  },
  {
   "cell_type": "code",
   "execution_count": null,
   "metadata": {},
   "outputs": [],
   "source": []
  },
  {
   "cell_type": "markdown",
   "metadata": {},
   "source": [
    "#### 7.4 Realizar un boxplot del peso (Weight) según la clasificación de altura del jugador. Los boxplots deben estar ordenados de menos a mayor altura."
   ]
  },
  {
   "cell_type": "code",
   "execution_count": null,
   "metadata": {},
   "outputs": [],
   "source": []
  },
  {
   "cell_type": "markdown",
   "metadata": {},
   "source": [
    "#### 7.5 Hacer un listado con el nombre de jugadores que tienen una altura ‘normal’ y un peso ‘alto’. Ordenar alfabéticamente por nombre."
   ]
  }
 ],
 "metadata": {
  "kernelspec": {
   "display_name": "Python 3",
   "language": "python",
   "name": "python3"
  },
  "language_info": {
   "codemirror_mode": {
    "name": "ipython",
    "version": 3
   },
   "file_extension": ".py",
   "mimetype": "text/x-python",
   "name": "python",
   "nbconvert_exporter": "python",
   "pygments_lexer": "ipython3",
   "version": "3.7.6"
  }
 },
 "nbformat": 4,
 "nbformat_minor": 4
}
