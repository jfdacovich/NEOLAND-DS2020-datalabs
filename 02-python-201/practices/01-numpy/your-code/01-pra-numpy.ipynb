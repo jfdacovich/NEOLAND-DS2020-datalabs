{
 "cells": [
  {
   "cell_type": "markdown",
   "metadata": {},
   "source": [
    "# Programación 201"
   ]
  },
  {
   "cell_type": "markdown",
   "metadata": {},
   "source": [
    "Librerías científicas en Python: `NumPy`\n",
    "------------------------------------------------------"
   ]
  },
  {
   "cell_type": "markdown",
   "metadata": {},
   "source": [
    "### Ejercicio 1\n",
    "Calculad la norma y el determinante de la siguiente matriz: ```[[1, 0], [2, -1]]```."
   ]
  },
  {
   "cell_type": "code",
   "execution_count": 1,
   "metadata": {},
   "outputs": [],
   "source": [
    "# Librería:\n",
    "import numpy as np"
   ]
  },
  {
   "cell_type": "code",
   "execution_count": 2,
   "metadata": {},
   "outputs": [
    {
     "name": "stdout",
     "output_type": "stream",
     "text": [
      "La norma de la matriz es: 2.449489742783178\n",
      "El determinante : -1.0\n"
     ]
    }
   ],
   "source": [
    "Matriz = [[1, 0], [2, -1]]\n",
    "print(f\"La norma de la matriz es: {np.linalg.norm(Matriz)}\")\n",
    "print(f\"El determinante : {np.linalg.det(Matriz)}\")"
   ]
  },
  {
   "cell_type": "markdown",
   "metadata": {},
   "source": [
    "### Ejercicio 2 \n",
    "Evaluad las funciones arcoseno y arcocoseno en el intervalo [0,1] y con paso (resolución) de 0.1 y guardadlas en dos _arrays_."
   ]
  },
  {
   "cell_type": "code",
   "execution_count": 3,
   "metadata": {},
   "outputs": [
    {
     "name": "stdout",
     "output_type": "stream",
     "text": [
      "  Arcoseno: \n",
      " [0.         0.10016742 0.20135792 0.30469265 0.41151685 0.52359878\n",
      " 0.64350111 0.7753975  0.92729522 1.11976951]\n",
      "  Arcocoseno: \n",
      " [1.57079633 1.47062891 1.36943841 1.26610367 1.15927948 1.04719755\n",
      " 0.92729522 0.79539883 0.64350111 0.45102681]\n"
     ]
    }
   ],
   "source": [
    "arcoseno= np.arcsin(np.arange(0,1,0.1)) # Numeros entre 0 y 1 a intervalos de 0.1\n",
    "arcocoseno = np.arccos(np.arange(0,1,0.1))\n",
    "print(f\"  Arcoseno: \\n {arcoseno}\")\n",
    "print(f\"  Arcocoseno: \\n {arcocoseno}\")"
   ]
  },
  {
   "cell_type": "markdown",
   "metadata": {},
   "source": [
    "### Ejercicio 3\n",
    "Generad una lista de 100 valores enteros aleatorios de 0-9. Realizad los siguientes cálculos utilizando métodos de _numpy_:\n",
    "- Media y desviación estándar de los valores de la lista\n",
    "- Valor máximo y mínimo\n",
    "- Sumad todos los valores de la lista\n",
    "- Conseguid una lista de valores únicos"
   ]
  },
  {
   "cell_type": "code",
   "execution_count": 4,
   "metadata": {},
   "outputs": [
    {
     "name": "stdout",
     "output_type": "stream",
     "text": [
      " Media de la lista: 4.08\n",
      " La desviación estándar de los valore de la lista: 2.5482543044209693\n",
      " Valor Máximo de la lista: 8\n",
      " Valor Mínimo de la lista: 0\n",
      " Suma de los valores: 408\n",
      " Valores únicos: [0 1 2 3 4 5 6 7 8]\n"
     ]
    }
   ],
   "source": [
    "# Lista de valores enteros:\n",
    "Ej3 = list(np.random.randint(0,9, 100))\n",
    "\n",
    "print(f\" Media de la lista: {np.mean(Ej3)}\")\n",
    "print(f\" La desviación estándar de los valore de la lista: {np.std(Ej3)}\")\n",
    "print(f\" Valor Máximo de la lista: {np.max(Ej3)}\")\n",
    "print(f\" Valor Mínimo de la lista: {np.min(Ej3)}\")\n",
    "print(f\" Suma de los valores: {np.sum(Ej3)}\")\n",
    "print(f\" Valores únicos: {np.unique(Ej3)}\")\n",
    "\n",
    "#np.linspace(0,9,100) # genera un array NumPy formado por n números equiespaciados entre dos dados."
   ]
  },
  {
   "cell_type": "markdown",
   "metadata": {},
   "source": [
    "### Ejercicio 4\n",
    "Ordenad la matriz bidimensional ```[[5,1,7], [0,7,4], [7,23,1]]``` por filas utilizando como algoritmo de ordenación el [Merge sort](https://en.wikipedia.org/wiki/Merge_sort).\n",
    "\n",
    "**Hint:** No es necesario que implementéis el algoritmo de ordenación a mano, NumPy contiene métodos para realizar diferentes tipos de ordenación sobre diferentes estructuras de datos."
   ]
  },
  {
   "cell_type": "code",
   "execution_count": 5,
   "metadata": {},
   "outputs": [
    {
     "name": "stdout",
     "output_type": "stream",
     "text": [
      " Matriz: \n",
      " [[ 5  1  7]\n",
      " [ 0  7  4]\n",
      " [ 7 23  1]]\n",
      "Matriz ordenada por filas utilizando el metodo 'Mergesort' \n",
      " [[ 0  1  1]\n",
      " [ 5  7  4]\n",
      " [ 7 23  7]]\n"
     ]
    }
   ],
   "source": [
    "# Creo la Matriz\n",
    "Ej4 = np.array([[5,1,7], [0,7,4], [7,23,1]])\n",
    "print(f\" Matriz: \\n {Ej4}\")\n",
    "Ej4_ordenada = np.sort(Ej4, axis = 0, kind = \"mergesort\")\n",
    "print(f\"Matriz ordenada por filas utilizando el metodo 'Mergesort' \\n {Ej4_ordenada}\")"
   ]
  },
  {
   "cell_type": "markdown",
   "metadata": {},
   "source": [
    " - [\"Numpy_Sort\"](https://docs.scipy.org/doc/numpy-1.15.0/reference/generated/numpy.sort.html)"
   ]
  },
  {
   "cell_type": "markdown",
   "metadata": {},
   "source": [
    "### Ejercicio 5\n",
    "Definid una función que dadas dos matrices, devuelva el valor absoluto de la multiplicación de los determinantes ambas, es decir, dadas A y B, nuestra función devolverá `|det(A) * det(B)|`."
   ]
  },
  {
   "cell_type": "code",
   "execution_count": 6,
   "metadata": {},
   "outputs": [
    {
     "name": "stdout",
     "output_type": "stream",
     "text": [
      "0.0010511890704918672\n"
     ]
    }
   ],
   "source": [
    "# Creamos dos matrices\n",
    "M1 = np.random.random((2,2))\n",
    "M2 = np.random.random((2,2))\n",
    "# Funcion que devolvera el valor absoluto(abs) de la multiplicacion de los determinantes\n",
    "def multiplicacion_determinantes(M1,M2):\n",
    "    resultado = np.abs(np.linalg.det(M1)*np.linalg.det(M2))\n",
    "    print (resultado)\n",
    "    \n",
    "multiplicacion_determinantes(M1,M2)\n",
    "\n",
    "# Preguntar M1.dot(M2)"
   ]
  },
  {
   "cell_type": "markdown",
   "metadata": {},
   "source": [
    "### Ejercicio 6\n",
    "Cread una matriz 10x10 que corresponda con la [matriz identidad](https://es.wikipedia.org/wiki/Matriz_identidad) usando generadores básicos de arrays. Cread una matriz identidad 10x10 (esta vez usando generadores especificos de matrices identidad) y comprobad que ambas matrices son iguales\n",
    "\n",
    "**Consideraciones**:\n",
    "- La primera matriz debe crearse usando constructores básicos de arrays, como los presentados en los Notebooks de teoría.\n",
    "* La segunda matriz debe generarse utilizando el generador de matrices identidad de numpy.\n",
    "* La comparación debe devolver True si las matrices son iguales (un único True), False de no ser así."
   ]
  },
  {
   "cell_type": "code",
   "execution_count": 7,
   "metadata": {},
   "outputs": [
    {
     "data": {
      "text/plain": [
       "array([[1., 0., 0., 0., 0., 0., 0., 0., 0., 0.],\n",
       "       [0., 1., 0., 0., 0., 0., 0., 0., 0., 0.],\n",
       "       [0., 0., 1., 0., 0., 0., 0., 0., 0., 0.],\n",
       "       [0., 0., 0., 1., 0., 0., 0., 0., 0., 0.],\n",
       "       [0., 0., 0., 0., 1., 0., 0., 0., 0., 0.],\n",
       "       [0., 0., 0., 0., 0., 1., 0., 0., 0., 0.],\n",
       "       [0., 0., 0., 0., 0., 0., 1., 0., 0., 0.],\n",
       "       [0., 0., 0., 0., 0., 0., 0., 1., 0., 0.],\n",
       "       [0., 0., 0., 0., 0., 0., 0., 0., 1., 0.],\n",
       "       [0., 0., 0., 0., 0., 0., 0., 0., 0., 1.]])"
      ]
     },
     "execution_count": 7,
     "metadata": {},
     "output_type": "execute_result"
    }
   ],
   "source": [
    "M_identidad = np.identity(10)\n",
    "M_identidad\n",
    "# La primera matriz la creo manual? o puedo hacer un for?"
   ]
  },
  {
   "cell_type": "code",
   "execution_count": null,
   "metadata": {},
   "outputs": [],
   "source": [
    "# Comprobación:\n",
    "#(M_identidad == b).all()"
   ]
  },
  {
   "cell_type": "markdown",
   "metadata": {},
   "source": [
    "### Ejercicio 7\n",
    "Cread una matriz de 2x6 donde los valores de cada posición `(i, j)` correspondan a `i^2+j` para todo `i` par, `i/j^2` para todo `i` impar."
   ]
  },
  {
   "cell_type": "code",
   "execution_count": 8,
   "metadata": {},
   "outputs": [
    {
     "data": {
      "text/plain": [
       "array([[ 0,  0,  4,  0,  0,  0],\n",
       "       [ 6,  7,  8,  9, 10, 11]])"
      ]
     },
     "execution_count": 8,
     "metadata": {},
     "output_type": "execute_result"
    }
   ],
   "source": [
    "# Creo una matriz 2 x 6 de tipo enteros\n",
    "Ej7 = np.arange(0,12, dtype=int).reshape((2,6))\n",
    "# con numpy.reshape: podemos añadir, eliminar dimensiones o cambiar el número de elementos en cada dim\n",
    "Ej7\n",
    "\n",
    "row = Ej7.shape[0]\n",
    "cols = Ej7.shape[1]\n",
    "\n",
    "for x in range(0,row):\n",
    "    for y in range(0,cols):\n",
    "        if(x%2==0):\n",
    "            Ej7[x][y] = x^2+y\n",
    "            try:\n",
    "                Ej7[x][y] = x/(y^2)\n",
    "            except:\n",
    "                ZeroDivisionError # Revisar.............\n",
    "\n",
    "\n",
    "Ej7"
   ]
  },
  {
   "cell_type": "markdown",
   "metadata": {},
   "source": [
    "### Ejercicio 8\n",
    "Cread dos matrices de tamaño 5x5 con números reales aleatorios. Obtened el resultado de multiplicar ambas matrices usando los dos métodos de multiplicación de matrices vistos en el Notebook de teoría. ¿Cuál es la diferencia entre ambos resultados? Cread ahora dos matrices de tamaño 4x5 y 5x5 respectivamente, repetid la operación. Describid cuál de los métodos de multiplicación podéis aplicar y porqué"
   ]
  },
  {
   "cell_type": "code",
   "execution_count": 13,
   "metadata": {},
   "outputs": [
    {
     "name": "stdout",
     "output_type": "stream",
     "text": [
      "Multiplicación elemento por elemento: \n",
      " [[0.20131601 0.02706014 0.02496685 0.06001544 0.06668215]\n",
      " [0.09497365 0.21239672 0.34112418 0.01919991 0.41024619]\n",
      " [0.34842319 0.00122015 0.67143816 0.07333122 0.03540782]\n",
      " [0.05961227 0.00622721 0.25183606 0.2081599  0.04734867]\n",
      " [0.00768841 0.42049367 0.22037124 0.11046254 0.29762874]]\n",
      "Multiplicación de una Matriz por Otra: \n",
      " [[0.62790743 0.3944915  0.85935233 0.64313047 0.96836449]\n",
      " [0.69800516 0.55976004 1.14307593 0.65743944 1.25065139]\n",
      " [0.56559062 0.18343015 0.85353085 0.62698159 1.00035122]\n",
      " [0.80397955 0.50878429 1.02310751 0.77591972 1.13012539]\n",
      " [1.00152744 0.84006755 1.40671267 0.91736121 1.43338136]]\n"
     ]
    }
   ],
   "source": [
    "# Creación matrices de tamaño 5 x 5 no números reales aleatorios\n",
    "a = np.random.rand(5,5)\n",
    "b = np.random.rand(5,5)\n",
    "\n",
    "print(f\"Multiplicación elemento por elemento: \\n {a*b}\") # Multiplicacion elemento por elemento\n",
    "print(f\"Multiplicación de una Matriz por Otra: \\n {a.dot(b)}\") #Multiplición de una matriz por otra"
   ]
  },
  {
   "cell_type": "code",
   "execution_count": 17,
   "metadata": {},
   "outputs": [
    {
     "name": "stdout",
     "output_type": "stream",
     "text": [
      "Matriz 'a': (4, 5)\n",
      "Matriz 'b': (4, 5)\n",
      "Multiplicación de una Matriz por Otra: \n",
      " [[0.70999196 1.42487077 0.84624584 0.64801335 1.22386706]\n",
      " [1.18760907 2.35899558 1.66329217 0.88917747 2.00198705]\n",
      " [0.78637872 1.1693734  0.74372535 0.56080539 0.91643918]\n",
      " [0.81537291 1.5980805  1.17838987 0.47794952 1.59457707]]\n"
     ]
    },
    {
     "ename": "ValueError",
     "evalue": "operands could not be broadcast together with shapes (4,5) (5,5) ",
     "output_type": "error",
     "traceback": [
      "\u001b[0;31m---------------------------------------------------------------------------\u001b[0m",
      "\u001b[0;31mValueError\u001b[0m                                Traceback (most recent call last)",
      "\u001b[0;32m<ipython-input-17-d3af04526d5f>\u001b[0m in \u001b[0;36m<module>\u001b[0;34m\u001b[0m\n\u001b[1;32m      7\u001b[0m \u001b[0;34m\u001b[0m\u001b[0m\n\u001b[1;32m      8\u001b[0m \u001b[0mprint\u001b[0m\u001b[0;34m(\u001b[0m\u001b[0;34mf\"Multiplicación de una Matriz por Otra: \\n {a.dot(b)}\"\u001b[0m\u001b[0;34m)\u001b[0m \u001b[0;31m# Matriz por matriz\u001b[0m\u001b[0;34m\u001b[0m\u001b[0;34m\u001b[0m\u001b[0m\n\u001b[0;32m----> 9\u001b[0;31m \u001b[0mprint\u001b[0m\u001b[0;34m(\u001b[0m\u001b[0;34mf\"Multiplicación elemento por elemento: \\n {a*b}\"\u001b[0m\u001b[0;34m)\u001b[0m  \u001b[0;31m# Cuando multiplicamos matrices de diferentes dimensiones se produce un error\u001b[0m\u001b[0;34m\u001b[0m\u001b[0;34m\u001b[0m\u001b[0m\n\u001b[0m",
      "\u001b[0;31mValueError\u001b[0m: operands could not be broadcast together with shapes (4,5) (5,5) "
     ]
    }
   ],
   "source": [
    "a = np.random.rand(4,5)\n",
    "print(f\"Matriz 'a': {a.shape}\") # Nos devolverá la dimensión o el tamaño\n",
    "\n",
    "b = np.random.rand(5,5)\n",
    "print(f\"Matriz 'b': {a.shape}\") \n",
    "\n",
    "\n",
    "print(f\"Multiplicación de una Matriz por Otra: \\n {a.dot(b)}\") # Matriz por matriz\n",
    "print(f\"Multiplicación elemento por elemento: \\n {a*b}\")  # Cuando multiplicamos matrices de diferentes dimensiones se produce un error"
   ]
  },
  {
   "cell_type": "markdown",
   "metadata": {},
   "source": [
    " [Producto de Matrices - MUY BASICO](https://ekuatio.com/como-multiplicar-matrices/)\n",
    "\" Para multiplicar dos matrices, se debe cumplir una condición muy importante:\n",
    "El número de columnas de la primera matriz debe ser igual al número de filas de la segunda matriz\""
   ]
  }
 ],
 "metadata": {
  "kernelspec": {
   "display_name": "Python 3",
   "language": "python",
   "name": "python3"
  },
  "language_info": {
   "codemirror_mode": {
    "name": "ipython",
    "version": 3
   },
   "file_extension": ".py",
   "mimetype": "text/x-python",
   "name": "python",
   "nbconvert_exporter": "python",
   "pygments_lexer": "ipython3",
   "version": "3.7.6"
  }
 },
 "nbformat": 4,
 "nbformat_minor": 4
}
